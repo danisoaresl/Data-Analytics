{
  "nbformat": 4,
  "nbformat_minor": 0,
  "metadata": {
    "colab": {
      "private_outputs": true,
      "provenance": [],
      "authorship_tag": "ABX9TyMdX0BFmSTWy/3w0eVjAx3V",
      "include_colab_link": true
    },
    "kernelspec": {
      "name": "python3",
      "display_name": "Python 3"
    },
    "language_info": {
      "name": "python"
    }
  },
  "cells": [
    {
      "cell_type": "markdown",
      "metadata": {
        "id": "view-in-github",
        "colab_type": "text"
      },
      "source": [
        "<a href=\"https://colab.research.google.com/github/danisoaresl/desafio5_forbes_py_pandas/blob/exercicio/desafio5_Forbes_py_pandas.ipynb\" target=\"_parent\"><img src=\"https://colab.research.google.com/assets/colab-badge.svg\" alt=\"Open In Colab\"/></a>"
      ]
    },
    {
      "cell_type": "code",
      "execution_count": null,
      "metadata": {
        "id": "dda3y9jAS1J3"
      },
      "outputs": [],
      "source": []
    },
    {
      "cell_type": "markdown",
      "source": [
        "Desafio 5: Forbes\n",
        "\n",
        "Definição do problema: Você está trabalhando em um jornal e o editor quer que você responda as seguintes questões:\n",
        "1. Qual a empresa mais valiosa da lista da Forbes 2000?\n",
        "2. Construa uma tabela com as TOP10 empresas mais lucrativas da lista.\n",
        "3. Qual a média de valores de empresa das cinco categorias mais valiosas?\n",
        "\n",
        "Código do dataset: Forbes2000\n",
        "\n",
        "DIcas: Método.max()\n",
        "       Método.nlargest()\n",
        "       Método.groupby()\n"
      ],
      "metadata": {
        "id": "BYgRJzyOS9cQ"
      }
    },
    {
      "cell_type": "code",
      "source": [
        "from pydataset import data\n",
        "\n",
        "forbes = data('Forbes2000')\n",
        "\n",
        "print(forbes.head())\n",
        "\n",
        "empresa_mais_valiosa = forbes.loc[forbes['marketvalue'].idxmax()]\n",
        "print(\"\\nEmpresa mais valiosa:\")\n",
        "print(empresa_mais_valiosa)\n",
        "\n",
        "top_10_lucrativas = forbes.nlargest(10, 'profits')\n",
        "print(\"\\nTop 10 empresas mais lucrativas:\")\n",
        "print(top_10_lucrativas)\n",
        "\n",
        "media_valores_categoria = forbes.groupby('category')['marketvalue'].mean().nlargest(5)\n",
        "print(\"\\nMédia de valores das cinco categorias mais valiosas:\")\n",
        "print(media_valores_categoria)\n"
      ],
      "metadata": {
        "id": "LGlregHUXb1f"
      },
      "execution_count": null,
      "outputs": []
    },
    {
      "cell_type": "code",
      "source": [
        "pip install pydataset\n"
      ],
      "metadata": {
        "id": "fMSGoYiFfKaA"
      },
      "execution_count": null,
      "outputs": []
    }
  ]
}