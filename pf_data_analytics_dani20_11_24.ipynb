{
  "nbformat": 4,
  "nbformat_minor": 0,
  "metadata": {
    "colab": {
      "private_outputs": true,
      "provenance": [],
      "authorship_tag": "ABX9TyP4kOs6mcC3iCf2jGGWqm8F",
      "include_colab_link": true
    },
    "kernelspec": {
      "name": "python3",
      "display_name": "Python 3"
    },
    "language_info": {
      "name": "python"
    }
  },
  "cells": [
    {
      "cell_type": "markdown",
      "metadata": {
        "id": "view-in-github",
        "colab_type": "text"
      },
      "source": [
        "<a href=\"https://colab.research.google.com/github/danisoaresl/Data-Analytics/blob/main/pf_data_analytics_dani20_11_24.ipynb\" target=\"_parent\"><img src=\"https://colab.research.google.com/assets/colab-badge.svg\" alt=\"Open In Colab\"/></a>"
      ]
    },
    {
      "cell_type": "markdown",
      "source": [
        "Desafio final: Reclamações do Consumidor"
      ],
      "metadata": {
        "id": "9HVDOBUrGs3W"
      }
    },
    {
      "cell_type": "markdown",
      "source": [
        "Suponha que você trabalha na área de dados do Procon. Diariamente, você e sua equipe recebem dados de diversas reclamações dos consumidores. Cada reclamação, então, tem um determinado tempo para ser resolvida entre o cliente e a companhia em questão."
      ],
      "metadata": {
        "id": "ASIyQGAYG4hH"
      }
    },
    {
      "cell_type": "markdown",
      "source": [
        "Dado esse contexto, a sua equipe recebeu do time de operações dados históricos de reclamações de 2017 a 2021 na pasta reclamações-consumidor. Os dados são uma amostra dos dados extraídos do kaggle oriundos do Procon de 2017 a 2021."
      ],
      "metadata": {
        "id": "eZ19SnepHWkF"
      }
    },
    {
      "cell_type": "markdown",
      "source": [
        "De posse dessas informações, a sua equipe ficou encarregada de responder às seguintes perguntas do time de negócios:"
      ],
      "metadata": {
        "id": "t7PzCAgyIMWA"
      }
    },
    {
      "cell_type": "markdown",
      "source": [
        "1. ***Análise dos dados:"
      ],
      "metadata": {
        "id": "dtoxKoszG0K0"
      }
    },
    {
      "cell_type": "markdown",
      "source": [
        "1. Existe alguma sazonalidade na data de abertura de uma reclamação? Ou seja, mais consumidores abrem reclamações em determinada época do ano?"
      ],
      "metadata": {
        "id": "BeEomyosIkhw"
      }
    },
    {
      "cell_type": "markdown",
      "source": [
        "2. Qual o tempo médio de uma reclamação ativa (da abertura até a data de fechamento?)"
      ],
      "metadata": {
        "id": "bgIQG9ueI9I0"
      }
    },
    {
      "cell_type": "markdown",
      "source": [],
      "metadata": {
        "id": "nNvm1mJHLcBq"
      }
    },
    {
      "cell_type": "markdown",
      "source": [
        "3. O número de reclamações varia de acordo com a região? E de acordo com o estado? E se ponderarmos pela população média do estado?"
      ],
      "metadata": {
        "id": "RMRirS1aK56x"
      }
    },
    {
      "cell_type": "markdown",
      "source": [
        "4. Quais as empresas que receberam mais reclamações dos consumidores? E por região e estado?"
      ],
      "metadata": {
        "id": "B2AgRAebLLRA"
      }
    },
    {
      "cell_type": "markdown",
      "source": [],
      "metadata": {
        "id": "TT3pDZvRLWbX"
      }
    },
    {
      "cell_type": "markdown",
      "source": [
        "2. ***Modelagem:"
      ],
      "metadata": {
        "id": "PcNXJnvFLjP1"
      }
    },
    {
      "cell_type": "markdown",
      "source": [
        "Prevendo o tempo de uma reclamação ativa"
      ],
      "metadata": {
        "id": "r5BXJPlOLo6X"
      }
    },
    {
      "cell_type": "markdown",
      "source": [
        "O time de negócios gostaria que a sua equipe fizesse um modelo de regressão para estimar qual será o tempo médio de uma reclamação ativa."
      ],
      "metadata": {
        "id": "-hA72bmPLw4Q"
      }
    },
    {
      "cell_type": "markdown",
      "source": [
        "1. Com isso, quais variáveis podem estar mais correlacionadas com o tempo de uma reclamação ativa?"
      ],
      "metadata": {
        "id": "DWrIYzHAMEMt"
      }
    },
    {
      "cell_type": "markdown",
      "source": [
        "2. Construa variáveis que podem estar correlacionadas com o tempo de"
      ],
      "metadata": {
        "id": "u1rcSeWkMQIG"
      }
    },
    {
      "cell_type": "markdown",
      "source": [],
      "metadata": {
        "id": "9JtflECKLd3V"
      }
    },
    {
      "cell_type": "code",
      "source": [],
      "metadata": {
        "id": "tQ3i23bYGtXY"
      },
      "execution_count": null,
      "outputs": []
    },
    {
      "cell_type": "markdown",
      "source": [],
      "metadata": {
        "id": "9iPdqpxKGuhv"
      }
    },
    {
      "cell_type": "code",
      "source": [],
      "metadata": {
        "id": "h1yqCRiOGwEs"
      },
      "execution_count": null,
      "outputs": []
    },
    {
      "cell_type": "markdown",
      "source": [],
      "metadata": {
        "id": "1v9-ZZq1GwUi"
      }
    },
    {
      "cell_type": "code",
      "source": [],
      "metadata": {
        "id": "41wOAVtbGwfX"
      },
      "execution_count": null,
      "outputs": []
    },
    {
      "cell_type": "markdown",
      "source": [],
      "metadata": {
        "id": "icdd4sWMGwr0"
      }
    },
    {
      "cell_type": "code",
      "source": [],
      "metadata": {
        "id": "AjeqezGwGw0A"
      },
      "execution_count": null,
      "outputs": []
    },
    {
      "cell_type": "markdown",
      "source": [],
      "metadata": {
        "id": "KnrLUdzUGw8U"
      }
    },
    {
      "cell_type": "code",
      "source": [],
      "metadata": {
        "id": "0S69CqfDGxEg"
      },
      "execution_count": null,
      "outputs": []
    },
    {
      "cell_type": "markdown",
      "source": [],
      "metadata": {
        "id": "jr7f1zR0GxNV"
      }
    },
    {
      "cell_type": "code",
      "source": [],
      "metadata": {
        "id": "4eIi4o0MGxVE"
      },
      "execution_count": null,
      "outputs": []
    },
    {
      "cell_type": "markdown",
      "source": [],
      "metadata": {
        "id": "znDIWBMkGxg8"
      }
    },
    {
      "cell_type": "code",
      "source": [],
      "metadata": {
        "id": "ZOqOV8JwGxoZ"
      },
      "execution_count": null,
      "outputs": []
    }
  ]
}