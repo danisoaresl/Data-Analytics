{
  "nbformat": 4,
  "nbformat_minor": 0,
  "metadata": {
    "colab": {
      "private_outputs": true,
      "provenance": []
    },
    "kernelspec": {
      "name": "python3",
      "display_name": "Python 3"
    },
    "language_info": {
      "name": "python"
    }
  },
  "cells": [
    {
      "cell_type": "markdown",
      "source": [
        "\n",
        "\n",
        "\n",
        "\n",
        "\n",
        "\n",
        "\n",
        "\n",
        "\n",
        "\n",
        "\n",
        "\n",
        "\n",
        "\n",
        "\n",
        "\n",
        "\n",
        "\n",
        "\n",
        "\n",
        "\n",
        "\n",
        "\n",
        "\n",
        "\n",
        "\n",
        "\n",
        "\n",
        "\n",
        "\n",
        "\n",
        "\n",
        "\n",
        "\n",
        "\n",
        "\n",
        "\n",
        "\n",
        "\n",
        "\n",
        "\n",
        "\n",
        "\n",
        "\n",
        "\n",
        "\n",
        "\n",
        "\n",
        "\n",
        "\n",
        "\n",
        "\n",
        "\n",
        "\n",
        "\n",
        "\n",
        "\n",
        "\n",
        "\n",
        "\n",
        "\n",
        "\n",
        "\n",
        "\n",
        "\n",
        "\n",
        "\n",
        "\n",
        "\n",
        "\n",
        "\n",
        "\n",
        "\n",
        "\n",
        "\n",
        "\n",
        "\n",
        "\n",
        "\n",
        "\n",
        "\n",
        "\n",
        "\n",
        "\n",
        "\n",
        "\n",
        "\n",
        "\n",
        "\n",
        "\n",
        "\n",
        "\n",
        "\n",
        "\n",
        "\n",
        "\n",
        "\n",
        "\n",
        "\n",
        "\n",
        "\n",
        "\n",
        "\n",
        "\n",
        "\n",
        "\n",
        "\n",
        "\n",
        "\n",
        "\n",
        "\n",
        "\n",
        "\n",
        "\n",
        "\n",
        "\n",
        "\n",
        "\n",
        "\n",
        "\n",
        "\n",
        "\n",
        "\n",
        "\n",
        "\n",
        "\n",
        "\n",
        "\n",
        "\n",
        "\n",
        "\n",
        "Correlação Regressão Simples/Multivariada"
      ],
      "metadata": {
        "id": "hQivZxFtljFs"
      }
    },
    {
      "cell_type": "markdown",
      "source": [
        "Desafio Final"
      ],
      "metadata": {
        "id": "8wK2G6qrljxK"
      }
    },
    {
      "cell_type": "markdown",
      "source": [
        "Sugestões de bibliotecas para serem utilizadas:\n",
        "Pandas, NumPy, Seaborn, Matplotlib, Statsmodels, Scipy"
      ],
      "metadata": {
        "id": "OUg-TpudlqJk"
      }
    },
    {
      "cell_type": "markdown",
      "source": [
        "Considerando a base de dados kc_house_data.csv responda as questões de 1\n",
        "a 6 abaixo:"
      ],
      "metadata": {
        "id": "z7rLn1AvlweA"
      }
    },
    {
      "cell_type": "markdown",
      "source": [
        "1. Codifique e exiba a matriz de correlação entre as variáveis numéricas.\n",
        "Além disso, qual é a correlação entre o preço price e o número de\n",
        "quartos bedrooms? Existe alguma diferença na correlação quando\n",
        "consideramos apenas casas com uma área total sqft_living superior a\n",
        "2000 pés quadrados?"
      ],
      "metadata": {
        "id": "T5zRSw35l-oC"
      }
    },
    {
      "cell_type": "markdown",
      "source": [
        "a. Codifique e exiba a matriz de correlação entre as variáveis numéricas:"
      ],
      "metadata": {
        "id": "WScc43QjmyAj"
      }
    },
    {
      "cell_type": "code",
      "source": [
        "import pandas as pd\n",
        "import seaborn as sns\n",
        "import matplotlib.pyplot as plt\n",
        "\n",
        "# Montar o Google Drive\n",
        "drive.mount('/content/drive', force_remount=True)\n",
        "\n",
        "# 1. Carregar os dados\n",
        "file_path = '/content/drive/MyDrive/correlacao_regressao/kc_house_data.csv'\n",
        "\n",
        "# Calcular a matriz de correlação\n",
        "correlation_matrix = df_ab.corr()\n",
        "\n",
        "# Configurar o tamanho do gráfico\n",
        "plt.figure(figsize=(16, 12))\n",
        "\n",
        "# Exibir a matriz de correlação usando um mapa de calor\n",
        "sns.heatmap(correlation_matrix, annot=True, fmt=\".2f\", cmap='coolwarm', square=True,\n",
        "            linewidths=.5, cbar_kws={\"shrink\": .8})\n",
        "\n",
        "plt.title('Matriz de Correlação entre Variáveis Numéricas', fontsize=18)\n",
        "plt.xticks(rotation=45, fontsize=12)  # Rotacionar os rótulos do eixo X\n",
        "plt.yticks(rotation=0, fontsize=12)    # Rotacionar os rótulos do eixo Y\n",
        "plt.tight_layout()                      # Ajustar o layout\n",
        "plt.show()\n",
        "\n"
      ],
      "metadata": {
        "id": "axYAu7_lmChb"
      },
      "execution_count": null,
      "outputs": []
    },
    {
      "cell_type": "markdown",
      "source": [
        "b. Além disso, qual é a correlação entre o preço price e o número de quartos bedrooms?"
      ],
      "metadata": {
        "id": "fCxHyGiam4sF"
      }
    },
    {
      "cell_type": "code",
      "source": [
        "# Selecionar apenas as colunas de interesse\n",
        "columns_of_interest = df_ab[['price', 'bedrooms', 'bathrooms']]\n",
        "\n",
        "# Calcular a matriz de correlação\n",
        "correlation_matrix = columns_of_interest.corr()\n",
        "\n",
        "# Exibir a matriz de correlação\n",
        "print(correlation_matrix)\n"
      ],
      "metadata": {
        "id": "NaJzZs-Jm6Ws"
      },
      "execution_count": null,
      "outputs": []
    },
    {
      "cell_type": "markdown",
      "source": [
        "c. Existe alguma diferença na correlação quando consideramos apenas casas com uma área total sqft_living superior a 2000 pés quadrados?"
      ],
      "metadata": {
        "id": "bh9FVi-joefl"
      }
    },
    {
      "cell_type": "code",
      "source": [
        "#Correlação entre price e bedrooms\n",
        "correlation_price_bedrooms = df_ab['price'].corr(df_ab['bedrooms'])\n",
        "print(f'Correlação entre preço e número de quartos: {correlation_price_bedrooms}')\n",
        "\n",
        "#Filtrar casas com sqft_living > 2000 e calcular a correlação novamente\n",
        "filtered_houses = df_ab[df_ab['sqft_living'] > 2000]\n",
        "correlation_price_bedrooms_filtered = filtered_houses['price'].corr(filtered_houses['bedrooms'])\n",
        "print(f'Correlação entre preço e número de quartos para casas com sqft_living > 2000: {correlation_price_bedrooms_filtered}')\n",
        "\n"
      ],
      "metadata": {
        "id": "JFnaQhHM1XYd"
      },
      "execution_count": null,
      "outputs": []
    },
    {
      "cell_type": "code",
      "source": [
        "# Agrupar por 'bedrooms', 'bathrooms' e calcular estatísticas descritivas\n",
        "grouped_stats = df_ab.groupby(['bedrooms', 'bathrooms']).agg({\n",
        "    'price': ['mean', 'median', 'min', 'max', 'std'],\n",
        "    'sqft_living': ['mean', 'median', 'min', 'max', 'std'],\n",
        "    'sqft_lot': ['mean', 'median', 'min', 'max', 'std'],\n",
        "    # Adicione outras colunas que deseja incluir nas estatísticas descritivas\n",
        "})\n",
        "\n",
        "# Exibir as estatísticas agrupadas\n",
        "print(grouped_stats)\n",
        "\n"
      ],
      "metadata": {
        "id": "UK1OKiY3aqC2"
      },
      "execution_count": null,
      "outputs": []
    },
    {
      "cell_type": "code",
      "source": [
        "import pandas as pd\n",
        "import matplotlib.pyplot as plt\n",
        "import seaborn as sns\n",
        "\n",
        "# Vamos assumir que df_ab é o seu DataFrame já carregado\n",
        "\n",
        "# 1. Gráficos de Dispersão\n",
        "plt.figure(figsize=(15, 5))\n",
        "\n",
        "# Gráfico 1: Preço vs. Número de Quartos\n",
        "plt.subplot(1, 3, 1)\n",
        "sns.scatterplot(x='bedrooms', y='price', data=df_ab)\n",
        "plt.title('Preço vs. Número de Quartos')\n",
        "plt.xlabel('Número de Quartos')\n",
        "plt.ylabel('Preço')\n",
        "\n",
        "# Gráfico 2: Preço vs. Número de Banheiros\n",
        "plt.subplot(1, 3, 2)\n",
        "sns.scatterplot(x='bathrooms', y='price', data=df_ab)\n",
        "plt.title('Preço vs. Número de Banheiros')\n",
        "plt.xlabel('Número de Banheiros')\n",
        "plt.ylabel('Preço')\n",
        "\n",
        "# Gráfico 3: Número de Quartos vs. Número de Banheiros\n",
        "plt.subplot(1, 3, 3)\n",
        "sns.scatterplot(x='bedrooms', y='bathrooms', data=df_ab)\n",
        "plt.title('Número de Quartos vs. Número de Banheiros')\n",
        "plt.xlabel('Número de Quartos')\n",
        "plt.ylabel('Número de Banheiros')\n",
        "\n",
        "plt.tight_layout()\n",
        "plt.show()\n",
        "\n",
        "# 2. Matriz de Correlação\n",
        "# Selecionar apenas as colunas de interesse\n",
        "columns_of_interest = df_ab[['price', 'bedrooms', 'bathrooms']]\n",
        "\n",
        "# Calcular a matriz de correlação\n",
        "correlation_matrix = columns_of_interest.corr()\n",
        "\n",
        "# Gráfico Heatmap da Matriz de Correlação\n",
        "plt.figure(figsize=(8, 6))\n",
        "sns.heatmap(correlation_matrix, annot=True, fmt=\".2f\", cmap='coolwarm', square=True)\n",
        "plt.title('Matriz de Correlação')\n",
        "plt.show()\n",
        "\n",
        "# 3. Estatísticas Descritivas\n",
        "# Agrupar por 'bedrooms' e calcular estatísticas descritivas para 'price', 'bedrooms', e 'bathrooms'\n",
        "grouped_stats = df_ab.groupby('bedrooms').agg({\n",
        "    'price': ['mean', 'std', 'min', 'max'],         # Estatísticas de preço\n",
        "    'bedrooms': ['count', 'mean', 'std', 'min', 'max'],  # Estatísticas de número de quartos\n",
        "    'bathrooms': ['count', 'mean', 'std', 'min', 'max']  # Estatísticas de banheiros\n",
        "})\n",
        "\n",
        "# Exibir as estatísticas agrupadas\n",
        "print(\"Estatísticas Descritivas por Número de Quartos:\")\n",
        "print(grouped_stats)\n"
      ],
      "metadata": {
        "id": "KvxBUpPSePol"
      },
      "execution_count": null,
      "outputs": []
    },
    {
      "cell_type": "markdown",
      "source": [
        "2. Existe alguma correlação entre o preço price e a área total da casa\n",
        "sqft_living, considerando apenas casas com pelo menos dois\n",
        "banheiros bathrooms?"
      ],
      "metadata": {
        "id": "kkedsxDnmHpU"
      }
    },
    {
      "cell_type": "code",
      "source": [
        "import pandas as pd\n",
        "import matplotlib.pyplot as plt\n",
        "import seaborn as sns\n",
        "\n",
        "# Supondo que você já tenha carregado o DataFrame df_ab\n",
        "\n",
        "# Filtrar casas com pelo menos dois banheiros e pelo menos dois quartos\n",
        "filtered_houses = df_ab[(df_ab['bathrooms'] >= 2) & (df_ab['bedrooms'] >= 2)]\n",
        "\n",
        "# Calcular a correlação entre preço e área total da casa\n",
        "correlation_price_sqft = filtered_houses['price'].corr(filtered_houses['sqft_living'])\n",
        "print(f'Correlação entre preço e área total da casa para casas com pelo menos dois banheiros e dois quartos: {correlation_price_sqft}\\n')\n",
        "\n",
        "# Criar um gráfico de dispersão para visualizar a correlação\n",
        "plt.figure(figsize=(10, 6))\n",
        "sns.scatterplot(x='sqft_living', y='price', hue='bathrooms', data=filtered_houses, palette='viridis', alpha=0.6)\n",
        "plt.title('Preço vs. Área Total da Casa (sqft_living) com Pelo Menos 2 Banheiros e 2 Quartos')\n",
        "plt.xlabel('Área Total da Casa (sqft_living)')\n",
        "plt.ylabel('Preço')\n",
        "plt.legend(title='Número de Banheiros')\n",
        "plt.show()\n",
        "\n",
        "# Estatísticas descritivas para casas filtradas\n",
        "descriptive_stats = filtered_houses[['price', 'sqft_living', 'bathrooms', 'bedrooms']].describe()\n",
        "print(descriptive_stats)\n",
        "\n",
        "\n"
      ],
      "metadata": {
        "id": "th-aIz5AUvh_"
      },
      "execution_count": null,
      "outputs": []
    },
    {
      "cell_type": "markdown",
      "source": [
        "A correlação de 0.7068 indica uma forte relação positiva entre o preço e a área total da casa. Isso significa que existe uma correlação significativa entre o preço e a área total das casas, sugerindo que casas maiores tendem a ter preços mais altos. Essa relação positiva sugere que, em geral, conforme a área total da casa aumenta, o preço também tende a aumentar."
      ],
      "metadata": {
        "id": "DDxSNx-atMg2"
      }
    },
    {
      "cell_type": "markdown",
      "source": [
        "3. Como a quantidade de banheiros bathrooms influencia na correlação\n",
        "entre a área total da casa sqft_living e o preço price?"
      ],
      "metadata": {
        "id": "Z5iTuiYlmMS-"
      }
    },
    {
      "cell_type": "code",
      "source": [
        "import pandas as pd\n",
        "import seaborn as sns\n",
        "import matplotlib.pyplot as plt\n",
        "\n",
        "# Filtrar casas sem restrições de banheiros e quartos\n",
        "filtered_houses = df_ab\n",
        "\n",
        "# Criar um dicionário para armazenar correlações\n",
        "correlation_results = {}\n",
        "\n",
        "# Calcular a correlação entre preço e sqft_living para diferentes combinações de banheiros e quartos\n",
        "for num_bathrooms in filtered_houses['bathrooms'].unique():\n",
        "    for num_bedrooms in filtered_houses['bedrooms'].unique():\n",
        "        subset = filtered_houses[(filtered_houses['bathrooms'] == num_bathrooms) &\n",
        "                                 (filtered_houses['bedrooms'] == num_bedrooms)]\n",
        "\n",
        "        if not subset.empty:\n",
        "            correlation = subset['price'].corr(subset['sqft_living'])\n",
        "            correlation_results[(num_bedrooms, num_bathrooms)] = correlation\n",
        "\n",
        "# Criar um DataFrame para visualizar as correlações\n",
        "correlation_df = pd.DataFrame.from_dict(correlation_results, orient='index', columns=['Correlação'])\n",
        "correlation_df.reset_index(inplace=True)\n",
        "correlation_df.columns = ['(Quartos, Banheiros)', 'Correlação']\n",
        "\n",
        "# Criar um gráfico de barras\n",
        "plt.figure(figsize=(20, 10))  # Aumentar ainda mais o tamanho da figura\n",
        "sns.barplot(x=correlation_df['(Quartos, Banheiros)'].astype(str), y=correlation_df['Correlação'], palette='viridis')\n",
        "plt.title('Influência de Bedrooms e Bathrooms na Correlação entre Preço e Área Total', fontsize=18)\n",
        "plt.xlabel('(Quartos, Banheiros)', fontsize=14)\n",
        "plt.ylabel('Correlação entre Preço e Área Total', fontsize=14)\n",
        "plt.xticks(rotation=90, fontsize=12)  # Rotação de 90 graus\n",
        "plt.tight_layout()  # Ajusta o layout\n",
        "\n",
        "plt.show()\n",
        "\n",
        "# Calcular a média das correlações\n",
        "mean_correlation = correlation_df['Correlação'].mean()\n",
        "\n",
        "# Imprimir a média fora do gráfico\n",
        "print(f'Média das Correlações: {mean_correlation:.2f}')\n"
      ],
      "metadata": {
        "id": "KNGnqK9yyPAD"
      },
      "execution_count": null,
      "outputs": []
    },
    {
      "cell_type": "markdown",
      "source": [
        "A média de correlação de 0.41 sugere que a quantidade de banheiros e quartos tem uma influência positiva e moderada na relação entre a área total e o preço das casas. Isso significa que, embora a área total seja um fator importante, a valorização adicional de ter mais quartos e banheiros também desempenha um papel relevante na definição do preço."
      ],
      "metadata": {
        "id": "fJfnyBPn0Q41"
      }
    },
    {
      "cell_type": "markdown",
      "source": [
        "4. Qual é a relação entre a condição da casa condition e o preço price,\n",
        "considerando apenas casas com uma área total sqft_living superior a\n",
        "3000 pés quadrados?"
      ],
      "metadata": {
        "id": "3alhGXW8pU_h"
      }
    },
    {
      "cell_type": "code",
      "source": [
        "import pandas as pd\n",
        "import seaborn as sns\n",
        "import matplotlib.pyplot as plt\n",
        "\n",
        "# Filtrar casas com sqft_living superior a 3000\n",
        "filtered_houses = df_ab[df_ab['sqft_living'] > 3000]\n",
        "\n",
        "# Calcular a média do preço por condição\n",
        "mean_price_by_condition = filtered_houses.groupby('condition')['price'].mean().reset_index()\n",
        "\n",
        "# Criar um gráfico de barras\n",
        "plt.figure(figsize=(10, 6))\n",
        "sns.barplot(x='condition', y='price', data=mean_price_by_condition, palette='viridis')\n",
        "plt.title('Média do Preço por Condição da Casa (sqft_living > 3000)', fontsize=16)\n",
        "plt.xlabel('Condição da Casa', fontsize=14)\n",
        "plt.ylabel('Preço Médio', fontsize=14)\n",
        "plt.xticks(rotation=0, fontsize=12)\n",
        "\n",
        "# Exibir a média dos preços\n",
        "for index, row in mean_price_by_condition.iterrows():\n",
        "    plt.text(row['condition'], row['price'] + 20000, f'${row[\"price\"]:,.0f}', color='black', ha='center')\n",
        "\n",
        "plt.show()\n",
        "\n",
        "# Imprimir a média de preços por condição\n",
        "print(\"Média do preço por condição da casa (sqft_living > 3000):\")\n",
        "print(mean_price_by_condition)\n",
        "\n"
      ],
      "metadata": {
        "id": "FeGgBDLMpZl0"
      },
      "execution_count": null,
      "outputs": []
    },
    {
      "cell_type": "markdown",
      "source": [
        "5. Existe alguma correlação entre a localização geográfica lat e long e o\n",
        "preço price para casas com pelo menos três quartos bedrooms?"
      ],
      "metadata": {
        "id": "YczgpDGYrGuO"
      }
    },
    {
      "cell_type": "code",
      "source": [
        "import pandas as pd\n",
        "\n",
        "# Supondo que df_ab seja seu DataFrame\n",
        "# Filtrar casas com pelo menos 3 quartos\n",
        "filtered_houses = df_ab[df_ab['bedrooms'] >= 3]\n",
        "\n",
        "# Calcular a correlação entre latitude, longitude e preço\n",
        "correlation_matrix = filtered_houses[['lat', 'long', 'price']].corr()\n",
        "\n",
        "# Imprimir a matriz de correlação\n",
        "print(\"Matriz de Correlação:\")\n",
        "print(correlation_matrix)\n",
        "\n",
        "# Análise dos resultados\n",
        "lat_price_corr = correlation_matrix.loc['lat', 'price']\n",
        "long_price_corr = correlation_matrix.loc['long', 'price']\n",
        "\n",
        "print(f\"\\nCorrelação entre Latitude e Preço: {lat_price_corr:.2f}\")\n",
        "print(f\"Correlação entre Longitude e Preço: {long_price_corr:.2f}\")\n",
        "\n",
        "if lat_price_corr > 0:\n",
        "    print(\"Há uma correlação positiva entre a localização (latitude) e o preço das casas.\")\n",
        "elif lat_price_corr < 0:\n",
        "    print(\"Há uma correlação negativa entre a localização (latitude) e o preço das casas.\")\n",
        "else:\n",
        "    print(\"Não há correlação entre a localização (latitude) e o preço das casas.\")\n",
        "\n",
        "if long_price_corr > 0:\n",
        "    print(\"Há uma correlação positiva entre a localização (longitude) e o preço das casas.\")\n",
        "elif long_price_corr < 0:\n",
        "    print(\"Há uma correlação negativa entre a localização (longitude) e o preço das casas.\")\n",
        "else:\n",
        "    print(\"Não há correlação entre a localização (longitude) e o preço das casas.\")\n",
        "\n"
      ],
      "metadata": {
        "id": "I65CVWaFrMnk"
      },
      "execution_count": null,
      "outputs": []
    },
    {
      "cell_type": "markdown",
      "source": [
        "6. Calcule a correlação entre uma variável categórica(waterfront) e uma\n",
        "variável numérica(price) usando ANOVA."
      ],
      "metadata": {
        "id": "BQqsNrSrrNB4"
      }
    },
    {
      "cell_type": "code",
      "source": [
        "import pandas as pd\n",
        "import statsmodels.api as sm\n",
        "from statsmodels.formula.api import ols\n",
        "\n",
        "# Supondo que df_ab seja seu DataFrame já carregado\n",
        "# Verifique se a variável 'waterfront' é categórica\n",
        "df_ab['waterfront'] = df_ab['waterfront'].astype('category')\n",
        "\n",
        "# Definir o modelo ANOVA\n",
        "model = ols('price ~ C(waterfront)', data=df_ab).fit()\n",
        "\n",
        "# Realizar ANOVA\n",
        "anova_table = sm.stats.anova_lm(model, typ=2)\n",
        "\n",
        "# Imprimir a tabela ANOVA\n",
        "print(\"Tabela ANOVA:\")\n",
        "print(anova_table)\n",
        "\n",
        "# Verificar o p-valor\n",
        "p_value = anova_table['PR(>F)'][0]\n",
        "alpha = 0.05  # nível de significância\n",
        "\n",
        "# Linha em branco para separar a tabela ANOVA da explicação\n",
        "print(\"\\n\")\n",
        "\n",
        "# Explicação sobre o p-valor\n",
        "if p_value < alpha:\n",
        "    print(f\"O p-valor é {p_value:.4f}, que é menor que {alpha}. Portanto, rejeitamos a hipótese nula e concluímos que há uma diferença significativa nos preços entre as casas com e sem vista para a água.\")\n",
        "else:\n",
        "    print(f\"O p-valor é {p_value:.4f}, que é maior que {alpha}. Portanto, não rejeitamos a hipótese nula e concluímos que não há diferença significativa nos preços entre as casas com e sem vista para a água.\")\n"
      ],
      "metadata": {
        "id": "RNQu4medxkag"
      },
      "execution_count": null,
      "outputs": []
    },
    {
      "cell_type": "markdown",
      "source": [
        "O p-valor é 0.0000, que é menor que 0.05. Portanto, rejeitamos a hipótese nula e concluímos que há uma diferença significativa nos preços entre as casas com e sem vista para a água."
      ],
      "metadata": {
        "id": "QbCcvyib-TLN"
      }
    },
    {
      "cell_type": "markdown",
      "source": [
        "Considerando a base de dados car_price.csv responda as questões de 7 a 11\n",
        "abaixo:"
      ],
      "metadata": {
        "id": "0_Yj1YVJrTOc"
      }
    },
    {
      "cell_type": "markdown",
      "source": [
        "7. Codifique e exiba a Matriz de correlação para as variáveis numéricas e\n",
        "dê exemplos de correlações positivas, negativas e neutras."
      ],
      "metadata": {
        "id": "V6fJKD8xrXkM"
      }
    },
    {
      "cell_type": "code",
      "source": [],
      "metadata": {
        "id": "mvKjOHGGrayq"
      },
      "execution_count": null,
      "outputs": []
    },
    {
      "cell_type": "markdown",
      "source": [
        "8. Codifique e exiba Gráficos de Dispersão para cada uma das variáveis\n",
        "numéricas em relação à variável de interesse Price."
      ],
      "metadata": {
        "id": "UFG2e-EArbLo"
      }
    },
    {
      "cell_type": "code",
      "source": [],
      "metadata": {
        "id": "d9w5hWx6rd3a"
      },
      "execution_count": null,
      "outputs": []
    },
    {
      "cell_type": "markdown",
      "source": [
        "9. Crie um modelo de Regressão Linear Simples, exiba a Tabela de\n",
        "Regressão e exiba o plot da Reta Estimada."
      ],
      "metadata": {
        "id": "WlTtAI2HreYC"
      }
    },
    {
      "cell_type": "code",
      "source": [],
      "metadata": {
        "id": "plNauvDpriE9"
      },
      "execution_count": null,
      "outputs": []
    },
    {
      "cell_type": "markdown",
      "source": [
        "10. Codifique e exiba o gráfico dos resíduos do modelo de Regressão\n",
        "Simples."
      ],
      "metadata": {
        "id": "drDyMFXgrlep"
      }
    },
    {
      "cell_type": "code",
      "source": [],
      "metadata": {
        "id": "59vBZG43rmJQ"
      },
      "execution_count": null,
      "outputs": []
    },
    {
      "cell_type": "markdown",
      "source": [
        "11. Crie um modelo de Regressão Multivariada, exiba a Tabela de Regressão\n",
        "e exiba o gráfico dos resíduos do modelo."
      ],
      "metadata": {
        "id": "mhOV4mq0rouX"
      }
    },
    {
      "cell_type": "code",
      "source": [],
      "metadata": {
        "id": "UHuM23uPrpXV"
      },
      "execution_count": null,
      "outputs": []
    },
    {
      "cell_type": "markdown",
      "source": [],
      "metadata": {
        "id": "9hkGrGcqrp0A"
      }
    }
  ]
}