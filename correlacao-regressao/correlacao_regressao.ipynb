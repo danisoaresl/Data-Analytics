{
  "nbformat": 4,
  "nbformat_minor": 0,
  "metadata": {
    "colab": {
      "private_outputs": true,
      "provenance": [],
      "authorship_tag": "ABX9TyNzmVJsJx7JAD2MJOZE0R6d",
      "include_colab_link": true
    },
    "kernelspec": {
      "name": "python3",
      "display_name": "Python 3"
    },
    "language_info": {
      "name": "python"
    }
  },
  "cells": [
    {
      "cell_type": "markdown",
      "metadata": {
        "id": "view-in-github",
        "colab_type": "text"
      },
      "source": [
        "<a href=\"https://colab.research.google.com/github/danisoaresl/correlacao_regressao/blob/exercicio/correlacao_regressao.ipynb\" target=\"_parent\"><img src=\"https://colab.research.google.com/assets/colab-badge.svg\" alt=\"Open In Colab\"/></a>"
      ]
    },
    {
      "cell_type": "markdown",
      "source": [
        "Correlação e Regressão Simples/Multivariada"
      ],
      "metadata": {
        "id": "hQivZxFtljFs"
      }
    },
    {
      "cell_type": "markdown",
      "source": [
        "Desafio Final"
      ],
      "metadata": {
        "id": "8wK2G6qrljxK"
      }
    },
    {
      "cell_type": "markdown",
      "source": [
        "Sugestões de bibliotecas para serem utilizadas:\n",
        "Pandas, NumPy, Seaborn, Matplotlib, Statsmodels, Scipy"
      ],
      "metadata": {
        "id": "OUg-TpudlqJk"
      }
    },
    {
      "cell_type": "markdown",
      "source": [
        "Considerando a base de dados kc_house_data.csv responda as questões de 1\n",
        "a 6 abaixo:"
      ],
      "metadata": {
        "id": "z7rLn1AvlweA"
      }
    },
    {
      "cell_type": "markdown",
      "source": [
        "1. Codifique e exiba a matriz de correlação entre as variáveis numéricas.\n",
        "Além disso, qual é a correlação entre o preço price e o número de\n",
        "quartos bedrooms? Existe alguma diferença na correlação quando\n",
        "consideramos apenas casas com uma área total sqft_living superior a\n",
        "2000 pés quadrados?"
      ],
      "metadata": {
        "id": "T5zRSw35l-oC"
      }
    },
    {
      "cell_type": "code",
      "source": [
        "# Importar bibliotecas\n",
        "from google.colab import drive\n",
        "import pandas as pd\n",
        "import numpy as np\n",
        "import matplotlib.pyplot as plt\n",
        "import seaborn as sns\n",
        "import statsmodels.api as sm\n",
        "from scipy import stats\n",
        "\n",
        "# Montar o Google Drive\n",
        "drive.mount('/content/drive')\n",
        "\n",
        "# Carregar o CSV com o nome correto\n",
        "df_ab = pd.read_csv('/content/drive/MyDrive/correlacao_regressao/kc_house_data.csv')\n",
        "\n",
        "# Selecionar apenas as colunas numéricas\n",
        "numeric_df = df_ab.select_dtypes(include=[np.number])\n",
        "\n",
        "# Calcular a matriz de correlação para as variáveis numéricas\n",
        "correlation_matrix = numeric_df.corr()\n",
        "\n",
        "# Exibir a matriz de correlação\n",
        "plt.figure(figsize=(12, 10))\n",
        "sns.heatmap(correlation_matrix, annot=True, cmap='coolwarm', linewidths=0.5)\n",
        "plt.title(\"Matriz de Correlação\")\n",
        "plt.show()\n",
        "\n",
        "# Calcular a correlação entre 'price' e 'bedrooms'\n",
        "correlation_price_bedrooms = numeric_df['price'].corr(numeric_df['bedrooms'])\n",
        "print(f\"Correlação entre preço e número de quartos: {correlation_price_bedrooms}\")\n",
        "\n",
        "# Filtrar o DataFrame para casas com 'sqft_living' superior a 2000 pés quadrados\n",
        "large_homes_df = numeric_df[df_ab['sqft_living'] > 2000]\n",
        "\n",
        "# Calcular a correlação entre 'price' e 'bedrooms' para casas com 'sqft_living' > 2000\n",
        "correlation_large_homes = large_homes_df['price'].corr(large_homes_df['bedrooms'])\n",
        "print(f\"Correlação entre preço e número de quartos para casas com sqft_living > 2000: {correlation_large_homes}\")\n"
      ],
      "metadata": {
        "id": "vKEdl9r4mCkM"
      },
      "execution_count": null,
      "outputs": []
    },
    {
      "cell_type": "markdown",
      "source": [
        "2. Existe alguma correlação entre o preço price e a área total da casa\n",
        "sqft_living, considerando apenas casas com pelo menos dois\n",
        "banheiros bathrooms?"
      ],
      "metadata": {
        "id": "kkedsxDnmHpU"
      }
    },
    {
      "cell_type": "code",
      "source": [],
      "metadata": {
        "id": "F6lH_gYhmLkd"
      },
      "execution_count": null,
      "outputs": []
    },
    {
      "cell_type": "markdown",
      "source": [
        "3. Como a quantidade de banheiros bathrooms influencia na correlação\n",
        "entre a área total da casa sqft_living e o preço price?"
      ],
      "metadata": {
        "id": "Z5iTuiYlmMS-"
      }
    },
    {
      "cell_type": "code",
      "source": [],
      "metadata": {
        "id": "rlmoA4AWmQUY"
      },
      "execution_count": null,
      "outputs": []
    },
    {
      "cell_type": "markdown",
      "source": [
        "4. Qual é a relação entre a condição da casa condition e o preço price,\n",
        "considerando apenas casas com uma área total sqft_living superior a\n",
        "3000 pés quadrados?"
      ],
      "metadata": {
        "id": "3alhGXW8pU_h"
      }
    },
    {
      "cell_type": "code",
      "source": [],
      "metadata": {
        "id": "FeGgBDLMpZl0"
      },
      "execution_count": null,
      "outputs": []
    },
    {
      "cell_type": "markdown",
      "source": [
        "5. Existe alguma correlação entre a localização geográfica lat e long e o\n",
        "preço price para casas com pelo menos três quartos bedrooms?"
      ],
      "metadata": {
        "id": "YczgpDGYrGuO"
      }
    },
    {
      "cell_type": "code",
      "source": [],
      "metadata": {
        "id": "I65CVWaFrMnk"
      },
      "execution_count": null,
      "outputs": []
    },
    {
      "cell_type": "markdown",
      "source": [
        "6. Calcule a correlação entre uma variável categórica(waterfront) e uma\n",
        "variável numérica(price) usando ANOVA."
      ],
      "metadata": {
        "id": "BQqsNrSrrNB4"
      }
    },
    {
      "cell_type": "code",
      "source": [],
      "metadata": {
        "id": "DTT5lx8FrS5W"
      },
      "execution_count": null,
      "outputs": []
    },
    {
      "cell_type": "markdown",
      "source": [
        "Considerando a base de dados car_price.csv responda as questões de 7 a 11\n",
        "abaixo:"
      ],
      "metadata": {
        "id": "0_Yj1YVJrTOc"
      }
    },
    {
      "cell_type": "markdown",
      "source": [
        "7. Codifique e exiba a Matriz de correlação para as variáveis numéricas e\n",
        "dê exemplos de correlações positivas, negativas e neutras."
      ],
      "metadata": {
        "id": "V6fJKD8xrXkM"
      }
    },
    {
      "cell_type": "code",
      "source": [],
      "metadata": {
        "id": "mvKjOHGGrayq"
      },
      "execution_count": null,
      "outputs": []
    },
    {
      "cell_type": "markdown",
      "source": [
        "8. Codifique e exiba Gráficos de Dispersão para cada uma das variáveis\n",
        "numéricas em relação à variável de interesse Price."
      ],
      "metadata": {
        "id": "UFG2e-EArbLo"
      }
    },
    {
      "cell_type": "code",
      "source": [],
      "metadata": {
        "id": "d9w5hWx6rd3a"
      },
      "execution_count": null,
      "outputs": []
    },
    {
      "cell_type": "markdown",
      "source": [
        "9. Crie um modelo de Regressão Linear Simples, exiba a Tabela de\n",
        "Regressão e exiba o plot da Reta Estimada."
      ],
      "metadata": {
        "id": "WlTtAI2HreYC"
      }
    },
    {
      "cell_type": "code",
      "source": [],
      "metadata": {
        "id": "plNauvDpriE9"
      },
      "execution_count": null,
      "outputs": []
    },
    {
      "cell_type": "markdown",
      "source": [
        "10. Codifique e exiba o gráfico dos resíduos do modelo de Regressão\n",
        "Simples."
      ],
      "metadata": {
        "id": "drDyMFXgrlep"
      }
    },
    {
      "cell_type": "code",
      "source": [],
      "metadata": {
        "id": "59vBZG43rmJQ"
      },
      "execution_count": null,
      "outputs": []
    },
    {
      "cell_type": "markdown",
      "source": [
        "11. Crie um modelo de Regressão Multivariada, exiba a Tabela de Regressão\n",
        "e exiba o gráfico dos resíduos do modelo."
      ],
      "metadata": {
        "id": "mhOV4mq0rouX"
      }
    },
    {
      "cell_type": "code",
      "source": [],
      "metadata": {
        "id": "UHuM23uPrpXV"
      },
      "execution_count": null,
      "outputs": []
    },
    {
      "cell_type": "markdown",
      "source": [],
      "metadata": {
        "id": "9hkGrGcqrp0A"
      }
    }
  ]
}