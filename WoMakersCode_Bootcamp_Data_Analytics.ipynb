{
  "nbformat": 4,
  "nbformat_minor": 0,
  "metadata": {
    "colab": {
      "provenance": [],
      "include_colab_link": true
    },
    "kernelspec": {
      "name": "python3",
      "display_name": "Python 3"
    },
    "language_info": {
      "name": "python"
    }
  },
  "cells": [
    {
      "cell_type": "markdown",
      "metadata": {
        "id": "view-in-github",
        "colab_type": "text"
      },
      "source": [
        "<a href=\"https://colab.research.google.com/github/danisoaresl/WoMakersCode_Bootcamp_Data_Analytics/blob/main/WoMakersCode_Bootcamp_Data_Analytics.ipynb\" target=\"_parent\"><img src=\"https://colab.research.google.com/assets/colab-badge.svg\" alt=\"Open In Colab\"/></a>"
      ]
    },
    {
      "cell_type": "markdown",
      "source": [
        "DESAFIO 1\n",
        "\n",
        "Crie um programa que solicita ao usuário que insira três notas (valores de 0 a 10) e, em seguida, calcule e exiba a média dessas notas.\n",
        "\n",
        "Além disso, informe ao usuário se ele foi aprovado ou reprovado com base na média das notas, considerando a média mínima de aprovação como 6."
      ],
      "metadata": {
        "id": "sdBUCCdzeef3"
      }
    },
    {
      "cell_type": "code",
      "source": [],
      "metadata": {
        "id": "j16D0tJ4evJ-"
      },
      "execution_count": null,
      "outputs": []
    },
    {
      "cell_type": "code",
      "source": [
        "def solic_nota(mensagem):\n",
        "    while True:\n",
        "        try:\n",
        "            nota = float(input(mensagem))\n",
        "            if 0 <= nota <= 10:\n",
        "                return nota\n",
        "            else:\n",
        "                print(\"A nota deve estar entre 0 e 10. Tente novamente.\")\n",
        "        except ValueError:\n",
        "            print(\"Entrada inválida. Por favor, insira um número.\")\n",
        "\n",
        "nota1 = solic_nota(\"Insira a primeira nota (0 a 10): \")\n",
        "nota2 = solic_nota(\"Insira a segunda nota (0 a 10): \")\n",
        "nota3 = solic_nota(\"Insira a terceira nota (0 a 10): \")\n",
        "\n",
        "media = (nota1 + nota2 + nota3) / 3\n",
        "\n",
        "print(f\"A média das notas é: {media:.2f}\")\n",
        "\n",
        "if media >= 6:\n",
        "    print(\"Você foi aprovado.\")\n",
        "else:\n",
        "    print(\"Você foi reprovado.\")\n"
      ],
      "metadata": {
        "id": "8JaqsLZVKoJA"
      },
      "execution_count": null,
      "outputs": []
    },
    {
      "cell_type": "markdown",
      "source": [
        "DESAFIO 2\n",
        "\n",
        "Crie um programa que solicita ao usuário que insira um número inteiro e, em seguida, verifica se o número é par ou ímpar.\n",
        "\n",
        "O programa deve exibir uma mensagem indicando se o número é par ou ímpar."
      ],
      "metadata": {
        "id": "ClKDF5t4gEyu"
      }
    },
    {
      "cell_type": "code",
      "source": [
        "while True:\n",
        "    try:\n",
        "        numero = int(input(\"Insira um número inteiro: \"))\n",
        "        break\n",
        "    except ValueError:\n",
        "        print(\"Entrada inválida. Por favor, insira um número inteiro.\")\n",
        "\n",
        "if numero % 2 == 0:\n",
        "    print(f\"O número {numero} é par.\")\n",
        "else:\n",
        "    print(f\"O número {numero} é ímpar.\")"
      ],
      "metadata": {
        "id": "GWkFk92kfuiO"
      },
      "execution_count": null,
      "outputs": []
    },
    {
      "cell_type": "markdown",
      "source": [
        "DESAFIO 3\n",
        "\n",
        "Crie um programa que verifica se uma palavra fornecida pelo usuário é um palíndromo ou não.\n",
        "\n",
        "(Um palíndromo é uma palavra que é lida da mesma forma tanto da esquerda para a direita quanto da direita para a esquerda.)"
      ],
      "metadata": {
        "id": "MmsZIAj-e0NX"
      }
    },
    {
      "cell_type": "code",
      "source": [
        "from collections import Counter\n",
        "\n",
        "def eh_anagrama_palindromo(palavra_1, palavra_2):\n",
        "    return Counter(palavra1) == Counter(palavra2)\n",
        "\n",
        "palavra_1 = input(\"Insira a primeira palavra: \").strip().lower()\n",
        "palavra_2 = input(\"Insira a segunda palavra: \").strip().lower()\n",
        "\n",
        "if eh_anagrama_palindromo(palavra_1, palavra_2):\n",
        "    print(f\"As palavras '{palavra_1}' e '{palavra_2}' são anagramas e, portanto, palíndromos.\")\n",
        "else:\n",
        "    print(f\"As palavras '{palavra_1}' e '{palavra_2}' não são anagramas e, portanto, não são palíndromos.\")"
      ],
      "metadata": {
        "id": "PobFqQqafLNj"
      },
      "execution_count": null,
      "outputs": []
    },
    {
      "cell_type": "markdown",
      "source": [
        "DESAFIO 4\n",
        "\n",
        "Crie um programa que solicita ao usuário que insira um número inteiro positivo e, em seguida, calcula e exibe o fatorial desse número.\n",
        "\n",
        "(O fatorial de um número é o produto de todos os números inteiros positivos de 1 até o próprio número.)"
      ],
      "metadata": {
        "id": "9WPRqUfIgLQK"
      }
    },
    {
      "cell_type": "code",
      "source": [
        "def calcular_fatorial(n):\n",
        "    if n == 0 or n == 1:\n",
        "        return 1\n",
        "    else:\n",
        "        fatorial = 1\n",
        "        for i in range(2, n + 1):\n",
        "            fatorial *= i\n",
        "        return fatorial\n",
        "\n",
        "while True:\n",
        "    try:\n",
        "        numero = int(input(\"Insira um número inteiro positivo: \"))\n",
        "        if numero >= 0:\n",
        "            break\n",
        "        else:\n",
        "            print(\"Por favor, insira um número inteiro positivo.\")\n",
        "    except ValueError:\n",
        "        print(\"Entrada inválida. Por favor, insira um número inteiro.\")\n",
        "\n",
        "resultado = calcular_fatorial(numero)\n",
        "\n",
        "print(f\"O fatorial de {numero} é {resultado}.\")"
      ],
      "metadata": {
        "id": "B3VE36bRgJWu"
      },
      "execution_count": null,
      "outputs": []
    },
    {
      "cell_type": "markdown",
      "source": [
        "DESAFIO 5\n",
        "\n",
        "Crie um programa que permita ao usuário gerenciar suas tarefas diárias. O programa deve oferecer as seguintes funcionalidades:\n",
        "\n",
        "*   Adicionar uma nova tarefa;\n",
        "*   Visualizar todas as tarefas;\n",
        "*   Marcar uma tarefa como concluída;\n",
        "*   Remover uma tarefa;\n",
        "*   Sair do programa.\n",
        "\n",
        "(Você pode implementar essas funcionalidades usando listas para armazenar as tarefas e estruturas de controle como loops e condicionais para interagir com o usuário.)"
      ],
      "metadata": {
        "id": "dLmeFEi2fO9f"
      }
    },
    {
      "cell_type": "code",
      "source": [],
      "metadata": {
        "id": "8oExqSgagGzn"
      },
      "execution_count": null,
      "outputs": []
    },
    {
      "cell_type": "code",
      "source": [
        "def mostrar_menu():\n",
        "    print(\"\\nGerenciador de Tarefas\")\n",
        "    print(\"1. Adicionar uma nova tarefa\")\n",
        "    print(\"2. Visualizar todas as tarefas\")\n",
        "    print(\"3. Marcar uma tarefa como concluída\")\n",
        "    print(\"4. Remover uma tarefa\")\n",
        "    print(\"5. Sair do programa\")\n",
        "\n",
        "def adic_tarefa(tarefas):\n",
        "    tarefa = input(\"Insira a nova tarefa: \")\n",
        "    tarefas.append({'tarefa': tarefa, 'concluida': False})\n",
        "    print(f\"Tarefa '{tarefa}' adicionada com sucesso.\")\n",
        "\n",
        "def visualizar_tarefas(tarefas):\n",
        "    if not tarefas:\n",
        "        print(\"Nenhuma tarefa para mostrar.\")\n",
        "    else:\n",
        "        for idx, tarefa in enumerate(tarefas, start=1):\n",
        "            status = \"Concluída\" if tarefa['concluida'] else \"Pendente\"\n",
        "            print(f\"{idx}. {tarefa['tarefa']} - {status}\")\n",
        "\n",
        "def marcar_tarefa_concluida(tarefas):\n",
        "    visualizar_tarefas(tarefas)\n",
        "    if tarefas:\n",
        "        try:\n",
        "            idx = int(input(\"Insira o número da tarefa que deseja marcar como concluída: \")) - 1\n",
        "            if 0 <= idx < len(tarefas):\n",
        "                tarefas[idx]['concluida'] = True\n",
        "                print(f\"Tarefa '{tarefas[idx]['tarefa']}' marcada como concluída.\")\n",
        "            else:\n",
        "                print(\"Número de tarefa inválido.\")\n",
        "        except ValueError:\n",
        "            print(\"Entrada inválida. Por favor, insira um número.\")\n",
        "\n",
        "def remover_tarefa(tarefas):\n",
        "    visualizar_tarefas(tarefas)\n",
        "    if tarefas:\n",
        "        try:\n",
        "            idx = int(input(\"Insira o número da tarefa que deseja remover: \")) - 1\n",
        "            if 0 <= idx < len(tarefas):\n",
        "                tarefa_removida = tarefas.pop(idx)\n",
        "                print(f\"Tarefa '{tarefa_removida['tarefa']}' removida com sucesso.\")\n",
        "            else:\n",
        "                print(\"Número de tarefa inválido.\")\n",
        "        except ValueError:\n",
        "            print(\"Entrada inválida. Por favor, insira um número.\")\n",
        "\n",
        "def gerenc_tarefas():\n",
        "    tarefas = []\n",
        "    while True:\n",
        "        mostrar_menu()\n",
        "        escolha = input(\"Escolha uma opção: \")\n",
        "        if escolha == '1':\n",
        "            adic_tarefa(tarefas)\n",
        "        elif escolha == '2':\n",
        "            visualizar_tarefas(tarefas)\n",
        "        elif escolha == '3':\n",
        "            marcar_tarefa_concluida(tarefas)\n",
        "        elif escolha == '4':\n",
        "            remover_tarefa(tarefas)\n",
        "        elif escolha == '5':\n",
        "            print(\"Saindo do programa. Até logo!\")\n",
        "            break\n",
        "        else:\n",
        "            print(\"Opção inválida. Por favor, escolha uma opção válida.\")\n",
        "\n",
        "gerenc_tarefas()\n",
        "\n"
      ],
      "metadata": {
        "id": "_xyt_yzraLIz"
      },
      "execution_count": null,
      "outputs": []
    }
  ]
}