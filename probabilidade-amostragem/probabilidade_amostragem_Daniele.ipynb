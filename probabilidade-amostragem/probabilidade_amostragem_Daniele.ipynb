{
  "nbformat": 4,
  "nbformat_minor": 0,
  "metadata": {
    "colab": {
      "private_outputs": true,
      "provenance": [],
      "authorship_tag": "ABX9TyOoEjdcnqiP9UGxeu1hzhHb",
      "include_colab_link": true
    },
    "kernelspec": {
      "name": "python3",
      "display_name": "Python 3"
    },
    "language_info": {
      "name": "python"
    }
  },
  "cells": [
    {
      "cell_type": "markdown",
      "metadata": {
        "id": "view-in-github",
        "colab_type": "text"
      },
      "source": [
        "<a href=\"https://colab.research.google.com/github/danisoaresl/probabilidade_amostragem/blob/exercicio/probabilidade_amostragem_Daniele.ipynb\" target=\"_parent\"><img src=\"https://colab.research.google.com/assets/colab-badge.svg\" alt=\"Open In Colab\"/></a>"
      ]
    },
    {
      "cell_type": "markdown",
      "source": [
        "Estatística - Probabilidade e Amostragem\n",
        "Desafio Final"
      ],
      "metadata": {
        "id": "fzkW9vq2CN8G"
      }
    },
    {
      "cell_type": "markdown",
      "source": [
        "Considerando a base de dados de populacao_brasileira.json responda as\n",
        "questões abaixo (os dados são fictícios)."
      ],
      "metadata": {
        "id": "isONolg3CO-q"
      }
    },
    {
      "cell_type": "markdown",
      "source": [
        "Você é uma pesquisadora desenvolvendo uma análise sobre as\n",
        "características da força de trabalho nos estados brasileiros. Responda as\n",
        "perguntas abaixo:"
      ],
      "metadata": {
        "id": "BexhpzknCVpS"
      }
    },
    {
      "cell_type": "code",
      "source": [
        "#conectar o google drive\n",
        "from google.colab import drive\n",
        "import pandas as pd\n",
        "\n",
        "# Conectar ao Google Drive\n",
        "drive.mount('/content/drive')\n",
        "\n",
        "# Carregar o CSV\n",
        "caminho_csv = ('/content/drive/My Drive/populacao_brasileira.csv')  # Substitua pelo caminho correto\n",
        "dados = pd.read_csv(caminho_csv)"
      ],
      "metadata": {
        "id": "eBIp0LW6sFPc"
      },
      "execution_count": null,
      "outputs": []
    },
    {
      "cell_type": "markdown",
      "source": [
        "1. Considere pessoas fluentes em inglês, qual a probabilidade\n",
        "complementar? Ou seja, qual a probabilidade de escolhermos uma\n",
        "pessoa aleatória e ela não ser fluente em inglês. Considere fluente\n",
        "quem tem o nível avançado."
      ],
      "metadata": {
        "id": "-QgX9GSHCZbh"
      }
    },
    {
      "cell_type": "code",
      "source": [
        "# Exibir os nomes das colunas do DataFrame\n",
        "print(dados.columns)"
      ],
      "metadata": {
        "id": "_TI9BdT2vxfa"
      },
      "execution_count": null,
      "outputs": []
    },
    {
      "cell_type": "code",
      "source": [
        "# Filtrar pessoas fluentes em inglês (nível avançado)\n",
        "fluentes = dados[dados['nível de proficiência em inglês'] == 'Avançado']\n",
        "total_fluentes = len(fluentes)\n",
        "\n",
        "# Total de pessoas na amostra\n",
        "total_pessoas = len(dados)\n",
        "\n",
        "# Calcular a probabilidade de ser fluente\n",
        "prob_fluente = total_fluentes / total_pessoas\n",
        "\n",
        "# Calcular a probabilidade complementar (não ser fluente)\n",
        "prob_nao_fluente = 1 - prob_fluente\n",
        "\n",
        "print(f\"Probabilidade de não ser fluente: {prob_nao_fluente:.2%}\")"
      ],
      "metadata": {
        "id": "ZRw-XbbSwPEi"
      },
      "execution_count": null,
      "outputs": []
    },
    {
      "cell_type": "markdown",
      "source": [
        "2. Se uma pessoa escolhida aleatoriamente for de Alagoas ou do Pará,\n",
        "qual é a probabilidade de ela ter uma renda superior a 5 mil reais?"
      ],
      "metadata": {
        "id": "C-R7TuPOCi4t"
      }
    },
    {
      "cell_type": "code",
      "source": [
        "# Verificar se há pessoas de Alagoas ou Pará no DataFrame\n",
        "print(dados['estado'].value_counts())"
      ],
      "metadata": {
        "id": "q9WmBHiDxGRY"
      },
      "execution_count": null,
      "outputs": []
    },
    {
      "cell_type": "code",
      "source": [
        "# Filtrar pessoas de Alagoas ou do Pará\n",
        "pessoas_alagoas_para = dados[dados['estado'].isin(['AL', 'PA'])]\n",
        "\n",
        "# Total de pessoas de Alagoas ou do Pará\n",
        "total_alagoas_para = len(pessoas_alagoas_para)\n",
        "\n",
        "# Verificar se há pessoas de Alagoas ou do Pará\n",
        "print(f\"Total de pessoas de Alagoas ou Pará: {total_alagoas_para}\")\n",
        "\n",
        "# Filtrar pessoas com renda superior a 5 mil reais\n",
        "pessoas_renda_superior = pessoas_alagoas_para[pessoas_alagoas_para['renda'] > 5000]\n",
        "\n",
        "# Total de pessoas de Alagoas ou do Pará com renda superior a 5 mil\n",
        "total_renda_superior = len(pessoas_renda_superior)\n",
        "\n",
        "# Verificar se há pessoas com renda superior a 5 mil reais\n",
        "print(f\"Total de pessoas de Alagoas ou Pará com renda superior a 5 mil reais: {total_renda_superior}\")\n",
        "\n",
        "# Calcular a probabilidade\n",
        "if total_alagoas_para > 0:\n",
        "    probabilidade = total_renda_superior / total_alagoas_para\n",
        "    print(f\"Probabilidade de uma pessoa de Alagoas ou do Pará ter renda superior a 5 mil reais: {probabilidade:.2%}\")\n",
        "else:\n",
        "    print(\"Não há registros de pessoas de Alagoas ou Pará no DataFrame.\")"
      ],
      "metadata": {
        "id": "sok8dQkbwvJP"
      },
      "execution_count": null,
      "outputs": []
    },
    {
      "cell_type": "markdown",
      "source": [
        "3. Descubra a probabilidade de uma pessoa ter ensino superior completo\n",
        "no estado do Amazonas. Qual a probabilidade da quinta pessoa que\n",
        "você conversar, que é amazonense, ter ensino superior completo?"
      ],
      "metadata": {
        "id": "UQm2A2HsC1qg"
      }
    },
    {
      "cell_type": "code",
      "source": [
        "import pandas as pd\n",
        "from scipy import stats\n",
        "\n",
        "# Filtrar pessoas do Amazonas\n",
        "pessoas_amazonas = dados[dados['estado'] == 'AM']\n",
        "\n",
        "# Filtrar pessoas com ensino superior ou pós-graduação\n",
        "p_superior = pessoas_amazonas[(pessoas_amazonas['escolaridade'] == 'Superior') | (pessoas_amazonas['escolaridade'] == 'Pós-graduação')]\n",
        "\n",
        "# Calcular o total de pessoas no Amazonas\n",
        "total_am = pessoas_amazonas.shape[0]\n",
        "\n",
        "# Calcular a probabilidade\n",
        "prop_am = len(p_superior) / total_am\n",
        "print(f\"Probabilidade de uma pessoa no Amazonas ter ensino superior ou pós-graduação: {prop_am:.2%}\")"
      ],
      "metadata": {
        "id": "j8ZpXae91VQe"
      },
      "execution_count": null,
      "outputs": []
    },
    {
      "cell_type": "code",
      "source": [
        "# Calcular a probabilidade usando a distribuição geométrica\n",
        "prob_geom_5_pessoa = stats.geom.pmf(k=5, p=prop_am)\n",
        "print(f'Probabilidade da quinta pessoa ter ensino superior: {prob_geom_5_pessoa:.2%}')"
      ],
      "metadata": {
        "id": "KU-0mRv91Z_R"
      },
      "execution_count": null,
      "outputs": []
    },
    {
      "cell_type": "markdown",
      "source": [
        "4. Considerando a renda das pessoas do nosso conjunto, podemos dizer\n",
        "que a renda de uma pessoa brasileira está na sua maioria em que faixa\n",
        "(faça faixa de 1.500 reais)? Qual é a sua função densidade de\n",
        "probabilidade?"
      ],
      "metadata": {
        "id": "dAwhPnZaC2ih"
      }
    },
    {
      "cell_type": "code",
      "source": [
        "#Determinar a Faixa de Renda\n",
        "import pandas as pd\n",
        "\n",
        "# Supondo que você já tenha o DataFrame 'dados' carregado\n",
        "\n",
        "# Definir faixas de renda de R$1.500\n",
        "bins = range(0, int(dados['renda'].max()) + 1500, 1500)\n",
        "labels = [f'{i}-{i + 1500}' for i in bins[:-1]]\n",
        "\n",
        "# Criar a coluna com faixas de renda\n",
        "dados['faixa_renda'] = pd.cut(dados['renda'], bins=bins, labels=labels, right=False)\n",
        "\n",
        "# Contar o número de pessoas em cada faixa de renda\n",
        "contagem_faixas = dados['faixa_renda'].value_counts().sort_index()\n",
        "\n",
        "# Exibir as faixas e suas contagens\n",
        "print(\"Contagem de pessoas por faixa de renda:\")\n",
        "print(contagem_faixas)\n",
        "\n",
        "# Encontrar a faixa com o maior número de pessoas\n",
        "faixa_mais_comum = contagem_faixas.idxmax()\n",
        "print(f\"A faixa de renda com o maior número de pessoas é: {faixa_mais_comum}\")\n"
      ],
      "metadata": {
        "id": "AJ41itJV4NwL"
      },
      "execution_count": null,
      "outputs": []
    },
    {
      "cell_type": "code",
      "source": [
        "#Usando Histograma para Aproximação:\n",
        "import matplotlib.pyplot as plt\n",
        "import numpy as np\n",
        "from scipy.stats import norm\n",
        "\n",
        "# Ajustar a distribuição normal\n",
        "mu, std = norm.fit(dados['renda'])\n",
        "\n",
        "# Definir os intervalos para o histograma\n",
        "intervalo = 1500\n",
        "faixas_renda = np.arange(0, dados['renda'].max() + intervalo, intervalo)\n",
        "\n",
        "# Plotar o histograma da renda\n",
        "plt.hist(dados['renda'], bins=faixas_renda, density=True, alpha=0.6, color='g', edgecolor='black')\n",
        "\n",
        "# Adicionar uma linha para a função densidade de probabilidade\n",
        "xmin, xmax = plt.xlim()\n",
        "x = np.linspace(xmin, xmax, 100)\n",
        "p = norm.pdf(x, mu, std)\n",
        "plt.plot(x, p, 'm', linewidth=2)  # 'm' é a cor rosa\n",
        "\n",
        "# Ajustar os eixos\n",
        "plt.xlabel('Renda')\n",
        "plt.ylabel('Densidade de Probabilidade')\n",
        "plt.title('Histograma da Renda com Função Densidade de Probabilidade')\n",
        "plt.grid(True)\n",
        "\n",
        "plt.show()\n"
      ],
      "metadata": {
        "id": "qvKOyZhb6YG1"
      },
      "execution_count": null,
      "outputs": []
    },
    {
      "cell_type": "code",
      "source": [
        "#Usando Distribuição Normal para PDF(Probability Density Function)se apropriado:\n",
        "import numpy as np\n",
        "import matplotlib.pyplot as plt\n",
        "from scipy.stats import norm\n",
        "\n",
        "# Ajustar a distribuição normal\n",
        "mu, std = norm.fit(dados['renda'])\n",
        "\n",
        "# Calcular a função densidade de probabilidade para um intervalo de valores\n",
        "valores = np.linspace(dados['renda'].min(), dados['renda'].max(), 100)\n",
        "pdf = norm.pdf(valores, mu, std)\n",
        "\n",
        "# Exibir a função densidade de probabilidade\n",
        "plt.plot(valores, pdf, 'm-', lw=2, label='PDF Normal')  # 'm' é a cor rosa\n",
        "plt.xlabel('Renda')\n",
        "plt.ylabel('Densidade de Probabilidade')\n",
        "plt.title('Função Densidade de Probabilidade da Renda')\n",
        "plt.legend()\n",
        "plt.grid(True)\n",
        "plt.show()\n"
      ],
      "metadata": {
        "id": "Mx1HCaHY6r1-"
      },
      "execution_count": null,
      "outputs": []
    },
    {
      "cell_type": "markdown",
      "source": [
        "5. Calcule a média e a variância da renda da amostra. Depois faça a\n",
        "distribuição normal, inclua o gráfico."
      ],
      "metadata": {
        "id": "hvhffnV9C8Oi"
      }
    },
    {
      "cell_type": "code",
      "source": [
        "#Código para Cálculo da Média e Variância e Distribuição Normal\n",
        "import numpy as np\n",
        "import pandas as pd\n",
        "import matplotlib.pyplot as plt\n",
        "from scipy.stats import norm\n",
        "\n",
        "# Supondo que você já tenha o DataFrame 'dados' carregado\n",
        "\n",
        "# Calcular a média e a variância da renda\n",
        "media_renda = dados['renda'].mean()\n",
        "variancia_renda = dados['renda'].var()\n",
        "\n",
        "print(f'Média da renda: R${media_renda:.2f}')\n",
        "print(f'Variância da renda: {variancia_renda:.2f}')\n",
        "\n",
        "# Ajustar a distribuição normal\n",
        "mu, sigma = norm.fit(dados['renda'])\n",
        "\n",
        "# Gerar valores para a função densidade de probabilidade\n",
        "x = np.linspace(dados['renda'].min(), dados['renda'].max(), 100)\n",
        "pdf = norm.pdf(x, mu, sigma)\n",
        "\n",
        "# Plotar o histograma da renda e a função densidade de probabilidade\n",
        "plt.figure(figsize=(10, 6))\n",
        "plt.hist(dados['renda'], bins=30, density=True, alpha=0.6, color='g', edgecolor='black', label='Histograma da Renda')\n",
        "plt.plot(x, pdf, 'm', linewidth=2, label='Distribuição Normal Ajustada')  # 'm' é a cor rosa\n",
        "plt.xlabel('Renda (R$)')\n",
        "plt.ylabel('Densidade de Probabilidade')\n",
        "plt.title('Histograma da Renda e Função Densidade de Probabilidade Normal')\n",
        "plt.legend()\n",
        "plt.grid(True)\n",
        "plt.show()\n",
        "\n"
      ],
      "metadata": {
        "id": "3XSGD50t59eE"
      },
      "execution_count": null,
      "outputs": []
    },
    {
      "cell_type": "markdown",
      "source": [
        "6. Primeiro considere a probabilidade encontrada no nosso conjunto de\n",
        "pessoas com escolaridade de pós-graduação. Considerando a amostra\n",
        "de população brasileira com 1 milhão de habitantes, qual a\n",
        "probabilidade de encontrarmos 243 mil pessoas com pós-graduação?"
      ],
      "metadata": {
        "id": "em94IWljDABX"
      }
    },
    {
      "cell_type": "code",
      "source": [
        "import pandas as pd\n",
        "from scipy import stats\n",
        "\n",
        "# Carregar o CSV\n",
        "caminho_csv = '/content/drive/My Drive/populacao_brasileira.csv'  # Substitua pelo caminho correto\n",
        "dados = pd.read_csv(caminho_csv)\n",
        "\n",
        "# Calcular a probabilidade de uma pessoa ter pós-graduação\n",
        "p_pos_graduacao = len(dados[dados['escolaridade'] == 'Pós-graduação']) / len(dados)\n",
        "print(f'Proporção de pessoas com pós-graduação na amostra: {p_pos_graduacao:.4f}')\n",
        "\n",
        "# Parâmetros para a distribuição binomial\n",
        "n = 1000000  # Total de pessoas na amostra\n",
        "k = 243000   # Número de pessoas com pós-graduação\n",
        "\n",
        "# Calcular a probabilidade usando a distribuição binomial\n",
        "prob_pos_grad = stats.binom.pmf(k, n, p_pos_graduacao)\n",
        "\n",
        "print(f'Probabilidade de encontrarmos exatamente 243 mil pessoas com pós-graduação: {prob_pos_grad:.15f}')\n"
      ],
      "metadata": {
        "id": "zy-KgFKF9DC1"
      },
      "execution_count": null,
      "outputs": []
    },
    {
      "cell_type": "markdown",
      "source": [
        "7. Somando as densidades nós temos a função de densidade acumulada.\n",
        "Considerando a coluna ‘Escolaridade’ faça a função de densidade\n",
        "acumulada discreta para cada nível de escolaridade."
      ],
      "metadata": {
        "id": "vgzXwWnSDHHr"
      }
    },
    {
      "cell_type": "code",
      "source": [
        "import pandas as pd\n",
        "\n",
        "# Carregar o CSV\n",
        "caminho_csv = '/content/drive/My Drive/populacao_brasileira.csv'  # Substitua pelo caminho correto\n",
        "dados = pd.read_csv(caminho_csv)\n",
        "\n",
        "# Contar o número de pessoas por nível de escolaridade\n",
        "frequencias = dados['escolaridade'].value_counts()\n",
        "\n",
        "# Calcular a densidade de cada nível de escolaridade\n",
        "total_pessoas = len(dados)\n",
        "densidades = frequencias / total_pessoas\n",
        "\n",
        "# Calcular a função de densidade acumulada (CDF)\n",
        "cdf = densidades.sort_index().cumsum()\n",
        "\n",
        "# Exibir a função de densidade acumulada discreta para cada nível de escolaridade\n",
        "print(\"Função de Densidade Acumulada Discreta (CDF - Função de Densidade Acumulada) para cada nível de escolaridade:\")\n",
        "print(cdf)\n"
      ],
      "metadata": {
        "id": "vgNqaWOFNC-a"
      },
      "execution_count": null,
      "outputs": []
    },
    {
      "cell_type": "code",
      "source": [
        "import pandas as pd\n",
        "import matplotlib.pyplot as plt\n",
        "\n",
        "# ... (seu código para carregar os dados e calcular a FDA)\n",
        "\n",
        "# Visualizar a FDA com a cor rosa\n",
        "plt.figure(figsize=(10, 6))\n",
        "plt.plot(cdf.index, cdf, marker='o', linestyle='-', color='pink')\n",
        "plt.xlabel('Nível de Escolaridade')\n",
        "plt.ylabel('Proporção Acumulada')\n",
        "plt.title('Função de Densidade Acumulada por Nível de Escolaridade')\n",
        "plt.grid(True)\n",
        "plt.xticks(rotation=45)\n",
        "plt.show()"
      ],
      "metadata": {
        "id": "PX2FidwIPHUo"
      },
      "execution_count": null,
      "outputs": []
    },
    {
      "cell_type": "markdown",
      "source": [
        "8. Qual a margem de erro amostral da proporção populacional\n",
        "considerando a proporção de pessoas com nível de inglês\n",
        "intermediário?"
      ],
      "metadata": {
        "id": "PmiHc_ntDLQn"
      }
    },
    {
      "cell_type": "code",
      "source": [
        "import pandas as pd\n",
        "import numpy as np\n",
        "\n",
        "# ... (seu código para carregar os dados)\n",
        "\n",
        "def calcular_margem_erro(p, n, z=1.96):\n",
        "    \"\"\"Calcula a margem de erro amostral para uma proporção.\"\"\"\n",
        "    margem_erro = z * np.sqrt((p * (1 - p)) / n)\n",
        "    return margem_erro\n",
        "\n",
        "# Calcular a proporção de pessoas com inglês intermediário\n",
        "p_intermediario = len(dados[dados['nível de proficiência em inglês'] == 'Intermediário']) / len(dados)\n",
        "\n",
        "# Tamanho da amostra\n",
        "n = len(dados)\n",
        "\n",
        "# Nível de confiança de 95%\n",
        "z = 1.96\n",
        "\n",
        "# Calcular a margem de erro\n",
        "margem_erro = calcular_margem_erro(p_intermediario, n)\n",
        "\n",
        "# Calcular o intervalo de confiança\n",
        "intervalo_confianca = (p_intermediario - margem_erro, p_intermediario + margem_erro)\n",
        "\n",
        "print(f'Proporção de pessoas com inglês intermediário: {p_intermediario:.4f}')\n",
        "print(f'Margem de erro amostral: {margem_erro:.4f}')\n",
        "print(f'Intervalo de confiança de 95%: {intervalo_confianca}')"
      ],
      "metadata": {
        "id": "0hF4O4LwOrVo"
      },
      "execution_count": null,
      "outputs": []
    },
    {
      "cell_type": "markdown",
      "source": [
        "9. Calcula a renda da população. Qual a probabilidade de encontrar 60\n",
        "pessoas com uma renda mil reais superior à média?"
      ],
      "metadata": {
        "id": "LV-9qKRcDO8y"
      }
    },
    {
      "cell_type": "code",
      "source": [
        "import pandas as pd\n",
        "import numpy as np\n",
        "from scipy.stats import norm\n",
        "\n",
        "# Assumindo que você tem um DataFrame chamado 'dados' com uma coluna 'renda'\n",
        "\n",
        "# Calcular a média e o desvio padrão da renda\n",
        "media_renda = dados['renda'].mean()\n",
        "desvio_padrao = dados['renda'].std()\n",
        "\n",
        "# Padronizar os valores\n",
        "dados['z_score'] = (dados['renda'] - media_renda) / desvio_padrao\n",
        "\n",
        "# Probabilidade de um indivíduo ter renda 1000 acima da média (assumindo distribuição normal)\n",
        "prob_acima_1000 = 1 - norm.cdf(1)\n",
        "\n",
        "# Tamanho da amostra\n",
        "n = len(dados)\n",
        "\n",
        "# Probabilidade de encontrar exatamente 60 pessoas com renda 1000 acima da média (distribuição binomial)\n",
        "prob_60_pessoas = stats.binom.pmf(60, n, prob_acima_1000)\n",
        "\n",
        "print(f\"Probabilidade de um indivíduo ter renda 1000 acima da média: {prob_acima_1000:.4f}\")\n",
        "print(f\"Probabilidade de encontrar exatamente 60 pessoas com renda 1000 acima da média: {prob_60_pessoas:.4f}\")"
      ],
      "metadata": {
        "id": "aSc2gxQDATMO"
      },
      "execution_count": null,
      "outputs": []
    },
    {
      "cell_type": "markdown",
      "source": [
        "10. Qual a probabilidade de escolhermos alguém do Sudeste que seja\n",
        "homem, com ensino fundamental e com renda maior que 2 mil reais por\n",
        "mês?"
      ],
      "metadata": {
        "id": "BzpVUovODU9T"
      }
    },
    {
      "cell_type": "code",
      "source": [
        "import pandas as pd\n",
        "\n",
        "# Carregar o CSV\n",
        "caminho_csv = '/content/drive/My Drive/populacao_brasileira.csv'  # Substitua pelo caminho correto\n",
        "dados = pd.read_csv(caminho_csv)\n",
        "\n",
        "# Filtrar as pessoas do Sudeste\n",
        "sudeste = dados[dados['estado'].isin(['SP', 'RJ', 'MG', 'ES'])]\n",
        "\n",
        "# Filtrar pessoas que são homens, com ensino fundamental e renda maior que 2 mil reais por mês\n",
        "criterios = sudeste[\n",
        "    (sudeste['sexo'] == 'Masculino') &\n",
        "    (sudeste['escolaridade'] == 'Fundamental') &\n",
        "    (sudeste['renda'] > 2000)\n",
        "]\n",
        "\n",
        "# Total de pessoas que atendem aos critérios\n",
        "total_criterios = len(criterios)\n",
        "\n",
        "# Total de pessoas na amostra\n",
        "total_pessoas = len(dados)\n",
        "\n",
        "# Calcular a probabilidade\n",
        "probabilidade = total_criterios / total_pessoas\n",
        "\n",
        "print(f'Probabilidade de escolher alguém do Sudeste que seja homem, com ensino fundamental e com renda maior que 2 mil reais por mês: {probabilidade:.4%}')\n"
      ],
      "metadata": {
        "id": "sK7ZMeOcRMgx"
      },
      "execution_count": null,
      "outputs": []
    }
  ]
}