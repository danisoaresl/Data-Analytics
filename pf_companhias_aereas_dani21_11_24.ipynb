{
  "nbformat": 4,
  "nbformat_minor": 0,
  "metadata": {
    "colab": {
      "private_outputs": true,
      "provenance": [],
      "authorship_tag": "ABX9TyOCYT3XnQ3HkXE1p3+55k2d",
      "include_colab_link": true
    },
    "kernelspec": {
      "name": "python3",
      "display_name": "Python 3"
    },
    "language_info": {
      "name": "python"
    }
  },
  "cells": [
    {
      "cell_type": "markdown",
      "metadata": {
        "id": "view-in-github",
        "colab_type": "text"
      },
      "source": [
        "<a href=\"https://colab.research.google.com/github/danisoaresl/Data-Analytics/blob/main/pf_companhias_aereas_dani21_11_24.ipynb\" target=\"_parent\"><img src=\"https://colab.research.google.com/assets/colab-badge.svg\" alt=\"Open In Colab\"/></a>"
      ]
    },
    {
      "cell_type": "code",
      "source": [
        "from google.colab import drive\n",
        "drive.mount('/content/drive')"
      ],
      "metadata": {
        "id": "dMsYmeT3Ufm4"
      },
      "execution_count": null,
      "outputs": []
    },
    {
      "cell_type": "markdown",
      "source": [
        "Desafio Final: Setor Aéreo"
      ],
      "metadata": {
        "id": "qLVnMz99Q6wt"
      }
    },
    {
      "cell_type": "markdown",
      "source": [
        "Suponha que você trabalha na área de dados de uma companhia aérea. O objetivo do seu time de dados é trazer mais insights para o time de produtos sobre esse setor e otimizar rotas de voo, de modo que a companhia aérea seja o mais eficiente possível."
      ],
      "metadata": {
        "id": "NJa2JstdRoFp"
      }
    },
    {
      "cell_type": "markdown",
      "source": [
        "Dado esse contexto, a sua equipe recebeu do time de operações dados históricos de voos de 2018 a 2022. Na pasta setor aéreo, vocês encontram os dados em arquivos csv ano a ano, um dicionário de dados e um arquivo csv com o de-para do código da cia aérea e seu nome.    "
      ],
      "metadata": {
        "id": "BvxHlagJRouU"
      }
    },
    {
      "cell_type": "markdown",
      "source": [
        "De posse dessas informações, o time de produtos e de operações solicitou a sua equipe as seguintes perguntas a serem respondidas:"
      ],
      "metadata": {
        "id": "9Cap1XATRpA2"
      }
    },
    {
      "cell_type": "markdown",
      "source": [
        "***Análise dos dados"
      ],
      "metadata": {
        "id": "FmvCYiZOTtoO"
      }
    },
    {
      "cell_type": "markdown",
      "source": [
        "*** Análise de Companhias Aéreas"
      ],
      "metadata": {
        "id": "EYJQAT62UDQI"
      }
    },
    {
      "cell_type": "markdown",
      "source": [
        "1. Quais são as principais companhias aéreas que mais voaram durante cada ano?"
      ],
      "metadata": {
        "id": "g5NW_SzXULtr"
      }
    },
    {
      "cell_type": "code",
      "source": [],
      "metadata": {
        "id": "Cz0FVNlnVuGN"
      },
      "execution_count": null,
      "outputs": []
    },
    {
      "cell_type": "markdown",
      "source": [
        "2. A pandemia afetou a operação de alguma delas? De que forma?"
      ],
      "metadata": {
        "id": "fx-LdAsWVtU9"
      }
    },
    {
      "cell_type": "code",
      "source": [],
      "metadata": {
        "id": "EaXgmhZxV5Hz"
      },
      "execution_count": null,
      "outputs": []
    },
    {
      "cell_type": "markdown",
      "source": [
        "3. Quais as companhias que alteraram mais voos durante a pandemia?"
      ],
      "metadata": {
        "id": "Az4jplFkTf6r"
      }
    },
    {
      "cell_type": "code",
      "source": [],
      "metadata": {
        "id": "IQJHz1xIREYU"
      },
      "execution_count": null,
      "outputs": []
    },
    {
      "cell_type": "markdown",
      "source": [
        "4. Quais as principais rotas aéreas das principais companhias?"
      ],
      "metadata": {
        "id": "o4mTERKmQ6--"
      }
    },
    {
      "cell_type": "code",
      "source": [],
      "metadata": {
        "id": "4wMJYs6dQ77u"
      },
      "execution_count": null,
      "outputs": []
    },
    {
      "cell_type": "markdown",
      "source": [
        "5. Qual é a companhia que tem maior % de cancelamento de voos a atraso?"
      ],
      "metadata": {
        "id": "HvJ9AC2eRb_R"
      }
    },
    {
      "cell_type": "code",
      "source": [],
      "metadata": {
        "id": "_dD_FiJFQ7zP"
      },
      "execution_count": null,
      "outputs": []
    },
    {
      "cell_type": "markdown",
      "source": [
        "***Análise da eficiência das rotas"
      ],
      "metadata": {
        "id": "nP6QiehJQ7RT"
      }
    },
    {
      "cell_type": "markdown",
      "source": [
        "1. Quais as principais rotas de voos?"
      ],
      "metadata": {
        "id": "rkTAaihAXU49"
      }
    },
    {
      "cell_type": "code",
      "execution_count": null,
      "metadata": {
        "id": "afJ1H_SNQzoq"
      },
      "outputs": [],
      "source": []
    },
    {
      "cell_type": "markdown",
      "source": [
        "2. Quais as rotas em que temos maior tempo de atraso?"
      ],
      "metadata": {
        "id": "lgbravVwRftq"
      }
    },
    {
      "cell_type": "code",
      "source": [],
      "metadata": {
        "id": "IszzISB5RaFG"
      },
      "execution_count": null,
      "outputs": []
    },
    {
      "cell_type": "markdown",
      "source": [
        "3. Quais as rotas em que temos maior índice de cancelamento de voos?"
      ],
      "metadata": {
        "id": "hQYrPXFEXwMZ"
      }
    },
    {
      "cell_type": "code",
      "source": [],
      "metadata": {
        "id": "QognVzJQZkgB"
      },
      "execution_count": null,
      "outputs": []
    },
    {
      "cell_type": "markdown",
      "source": [
        "4. Quais são as rotas mais eficientes e as menos eficientes?"
      ],
      "metadata": {
        "id": "WL8T9tOWZjHh"
      }
    },
    {
      "cell_type": "code",
      "source": [],
      "metadata": {
        "id": "xlFVqQiPaJXl"
      },
      "execution_count": null,
      "outputs": []
    },
    {
      "cell_type": "markdown",
      "source": [
        "***Análise do atraso das rotas"
      ],
      "metadata": {
        "id": "2MqGmsP7aH1J"
      }
    },
    {
      "cell_type": "markdown",
      "source": [
        "1. Qual o tempo médio de atraso dos voos? Considere as colunas ArrDelayMinutes e DepDelayMinutes."
      ],
      "metadata": {
        "id": "8i9_W7eCaf8r"
      }
    },
    {
      "cell_type": "code",
      "source": [],
      "metadata": {
        "id": "IZ5gM_D4Z5Ch"
      },
      "execution_count": null,
      "outputs": []
    },
    {
      "cell_type": "markdown",
      "source": [
        "2. Quais os fatores mais colrrelacionados com o atraso de um voo?"
      ],
      "metadata": {
        "id": "14O_BML7cMeU"
      }
    },
    {
      "cell_type": "code",
      "source": [],
      "metadata": {
        "id": "GzvwGvksZ6ER"
      },
      "execution_count": null,
      "outputs": []
    },
    {
      "cell_type": "markdown",
      "source": [
        "***Modelagem"
      ],
      "metadata": {
        "id": "u8Q54N_KcZfe"
      }
    },
    {
      "cell_type": "markdown",
      "source": [
        "3. Construa um modelo de regressão linear em que queremos estimar o tempo de atraso de um voo, considere o atraso da partida variável DepDelayMinutes. Lembre-se de construir variáveis dummy a partir de categorias como: mês do ano e rotas específicas."
      ],
      "metadata": {
        "id": "Lyd5yQekZ5rA"
      }
    }
  ]
}