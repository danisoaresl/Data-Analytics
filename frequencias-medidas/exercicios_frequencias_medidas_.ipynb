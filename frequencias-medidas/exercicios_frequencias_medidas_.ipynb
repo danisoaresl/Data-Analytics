{
 "cells": [
  {
   "cell_type": "markdown",
   "metadata": {
    "colab_type": "text",
    "id": "view-in-github"
   },
   "source": [
    "<a href=\"https://colab.research.google.com/github/danisoaresl/exercicios-frequencias_medidas/blob/exercicio/exercicios_frequencias_medidas_.ipynb\" target=\"_parent\"><img src=\"https://colab.research.google.com/assets/colab-badge.svg\" alt=\"Open In Colab\"/></a>"
   ]
  },
  {
   "cell_type": "markdown",
   "metadata": {
    "id": "6eQBZsKSpds-"
   },
   "source": [
    "Etapa 1: Importar Bibliotecas e Configurar Matplotlib"
   ]
  },
  {
   "cell_type": "code",
   "execution_count": null,
   "metadata": {
    "id": "fvVmbWjfpeno"
   },
   "outputs": [],
   "source": [
    "import pandas as pd\n",
    "import numpy as np\n",
    "import matplotlib.pyplot as plt\n",
    "import matplotlib\n",
    "\n",
    "# Configurar o backend do Matplotlib\n",
    "matplotlib.use('Agg')\n"
   ]
  },
  {
   "cell_type": "markdown",
   "metadata": {
    "id": "R90V0ZPEpjX3"
   },
   "source": [
    "Etapa 2: Carregar e Preparar o Arquivo JSON"
   ]
  },
  {
   "cell_type": "code",
   "execution_count": null,
   "metadata": {
    "id": "55H9YWSjprea"
   },
   "outputs": [],
   "source": [
    "from google.colab import drive\n",
    "import pandas as pd\n",
    "\n",
    "# Montar o Google Drive\n",
    "drive.mount('/content/drive')\n",
    "\n",
    "# Caminho para o arquivo JSON no Google Drive\n",
    "caminho_arquivo = '/content/drive/My Drive/enem_2023.json'\n",
    "\n",
    "# Carregar o arquivo JSON\n",
    "df = pd.read_json(caminho_arquivo)\n",
    "\n",
    "# Verificar e corrigir nomes de colunas\n",
    "print(\"Colunas no DataFrame:\", df.columns)\n",
    "\n",
    "# Corrigir nomes das colunas se necessário\n",
    "df.rename(columns={'Ciências da natureza': 'Ciências da Natureza'}, inplace=True)\n",
    "\n",
    "\n",
    "\n"
   ]
  },
  {
   "cell_type": "markdown",
   "metadata": {
    "id": "fsESyaNoptpv"
   },
   "source": [
    "Etapa 3: Verificar Valores Nulos e Corrigir Colunas"
   ]
  },
  {
   "cell_type": "code",
   "execution_count": null,
   "metadata": {
    "id": "w3I2FJiLpxsD"
   },
   "outputs": [],
   "source": [
    "# Verificar se há valores nulos\n",
    "print(\"Valores nulos por coluna:\")\n",
    "print(df[['Redação', 'Matemática', 'Linguagens', 'Ciências humanas', 'Ciências da Natureza']].isnull().sum())\n",
    "\n",
    "# Remover linhas com valores nulos\n",
    "df = df.dropna(subset=['Redação', 'Matemática', 'Linguagens', 'Ciências humanas', 'Ciências da Natureza'])\n",
    "\n",
    "# Garantir que todas as colunas são numéricas\n",
    "df[['Redação', 'Matemática', 'Linguagens', 'Ciências humanas', 'Ciências da Natureza']] = df[['Redação', 'Matemática', 'Linguagens', 'Ciências humanas', 'Ciências da Natureza']].apply(pd.to_numeric, errors='coerce')\n"
   ]
  },
  {
   "cell_type": "markdown",
   "metadata": {
    "id": "jXP7gVFCpz4r"
   },
   "source": [
    "Etapa 4: 1. Qual das disciplinas tem a maior amplitude de nota?"
   ]
  },
  {
   "cell_type": "code",
   "execution_count": null,
   "metadata": {
    "id": "wslsYfl-p2xh"
   },
   "outputs": [],
   "source": [
    "# Calcular a amplitude\n",
    "amplitude = df[['Redação', 'Matemática', 'Linguagens', 'Ciências humanas', 'Ciências da Natureza']].max() - df[['Redação', 'Matemática', 'Linguagens', 'Ciências humanas', 'Ciências da Natureza']].min()\n",
    "maior_amplitude = amplitude.idxmax()\n",
    "print(f\"A disciplina com a maior amplitude de nota é: {maior_amplitude}\")\n"
   ]
  },
  {
   "cell_type": "markdown",
   "metadata": {
    "id": "hCWtPiEGp49e"
   },
   "source": [
    "Etapa 5: 2. Qual é a média e a mediana para cada uma das disciplinas?"
   ]
  },
  {
   "cell_type": "code",
   "execution_count": null,
   "metadata": {
    "id": "Q_bWo3l5p8bE"
   },
   "outputs": [],
   "source": [
    "# Calcular a média e a mediana\n",
    "media = df[['Redação', 'Matemática', 'Linguagens', 'Ciências humanas', 'Ciências da Natureza']].mean()\n",
    "mediana = df[['Redação', 'Matemática', 'Linguagens', 'Ciências humanas', 'Ciências da Natureza']].median()\n",
    "\n",
    "print(\"\\nMédia das disciplinas:\")\n",
    "print(media)\n",
    "print(\"\\nMediana das disciplinas (sem valores nulos):\")\n",
    "print(mediana)\n"
   ]
  },
  {
   "cell_type": "markdown",
   "metadata": {
    "id": "8iVKrMzxp-OY"
   },
   "source": [
    "Etapa 6: 3. Desvio padrão e média ponderados dos 500 estudantes mais bem colocados"
   ]
  },
  {
   "cell_type": "code",
   "execution_count": null,
   "metadata": {
    "id": "VyIx78VWqAv7"
   },
   "outputs": [],
   "source": [
    "# Calcular a Nota Ponderada\n",
    "df['Nota_Ponderada'] = (df['Redação'] * 2 + df['Matemática'] * 4 + df['Linguagens'] * 2 +\n",
    "                        df['Ciências humanas'] * 1 + df['Ciências da Natureza'] * 1)\n",
    "\n",
    "# Selecionar os 500 melhores estudantes\n",
    "top_500 = df.nlargest(500, 'Nota_Ponderada')\n",
    "media_ponderada = top_500['Nota_Ponderada'].mean()\n",
    "desvio_padrao_ponderado = top_500['Nota_Ponderada'].std()\n",
    "\n",
    "print(f\"\\nMédia ponderada dos 500 melhores estudantes: {media_ponderada:.2f}\")\n",
    "print(f\"Desvio padrão ponderado dos 500 melhores estudantes: {desvio_padrao_ponderado:.2f}\")\n"
   ]
  },
  {
   "cell_type": "markdown",
   "metadata": {
    "id": "SfwYPpokqCoa"
   },
   "source": [
    "Etapa 7: 4. Variância e média dos 40 melhores estudantes"
   ]
  },
  {
   "cell_type": "code",
   "execution_count": null,
   "metadata": {
    "id": "SSg8UYNFqF6V"
   },
   "outputs": [],
   "source": [
    "# Selecionar os 40 melhores estudantes\n",
    "top_40 = top_500.head(40)\n",
    "variancia_top_40 = top_40['Nota_Ponderada'].var()\n",
    "media_top_40 = top_40['Nota_Ponderada'].mean()\n",
    "\n",
    "print(f\"\\nMédia das notas dos 40 estudantes que entraram: {media_top_40:.2f}\")\n",
    "print(f\"Variância das notas dos 40 estudantes que entraram: {variancia_top_40:.2f}\")\n"
   ]
  },
  {
   "cell_type": "markdown",
   "metadata": {
    "id": "bQdHhJbwqIZC"
   },
   "source": [
    "Etapa 8: 5. Valor do teto do terceiro quartil para Matemática e Linguagens"
   ]
  },
  {
   "cell_type": "code",
   "execution_count": null,
   "metadata": {
    "id": "b3nM5ZmrqLzq"
   },
   "outputs": [],
   "source": [
    "# Calcular o teto do terceiro quartil\n",
    "terceiro_quartil = df[['Matemática', 'Linguagens']].quantile(0.75)\n",
    "print(\"\\nTeto do terceiro quartil para Matemática e Linguagens:\")\n",
    "print(terceiro_quartil)\n"
   ]
  },
  {
   "cell_type": "markdown",
   "metadata": {
    "id": "1R8CXEwaqNpz"
   },
   "source": [
    "Etapa 9: 6. Histogramas de Redação e Linguagens (de 20 em 20 pontos). Podemos dizer que são histogramas simétricos, justifique e classifique\n",
    "se não assimétricas?"
   ]
  },
  {
   "cell_type": "code",
   "execution_count": null,
   "metadata": {
    "id": "OHVnEMIdqSo4"
   },
   "outputs": [],
   "source": [
    "# Criar histogramas de Redação e Linguagens\n",
    "plt.figure(figsize=(14, 6))\n",
    "\n",
    "plt.subplot(1, 2, 1)\n",
    "plt.hist(df['Redação'], bins=range(0, 1010, 20), edgecolor='black')\n",
    "plt.title('Histograma de Redação')\n",
    "plt.xlabel('Nota')\n",
    "plt.ylabel('Frequência')\n",
    "\n",
    "plt.subplot(1, 2, 2)\n",
    "plt.hist(df['Linguagens'], bins=range(0, 1010, 20), edgecolor='black')\n",
    "plt.title('Histograma de Linguagens')\n",
    "plt.xlabel('Nota')\n",
    "plt.ylabel('Frequência')\n",
    "\n",
    "plt.tight_layout()\n",
    "plt.savefig('histogramas.png') # Salvar a imagem em vez de mostrar\n",
    "plt.close()\n",
    "\n",
    "# Análise de simetria dos histogramas usando skewness\n",
    "import scipy.stats as stats\n",
    "\n",
    "# Calcular a assimetria das distribuições\n",
    "skew_redacao = stats.skew(df['Redação'])\n",
    "skew_linguagens = stats.skew(df['Linguagens'])\n",
    "\n",
    "print(f\"Assimetria (skewness) da Redação: {skew_redacao:.2f}\")\n",
    "print(f\"Assimetria (skewness) da Linguagens: {skew_linguagens:.2f}\")\n",
    "\n",
    "# Analisar a simetria com base nos valores de skewness\n",
    "if abs(skew_redacao) < 0.5:\n",
    "    print(\"O histograma de Redação é aproximadamente simétrico.\")\n",
    "elif skew_redacao > 0:\n",
    "    print(\"O histograma de Redação é assimétrico positivo (cauda à direita).\")\n",
    "else:\n",
    "    print(\"O histograma de Redação é assimétrico negativo (cauda à esquerda).\")\n",
    "\n",
    "if abs(skew_linguagens) < 0.5:\n",
    "    print(\"O histograma de Linguagens é aproximadamente simétrico.\")\n",
    "elif skew_linguagens > 0:\n",
    "    print(\"O histograma de Linguagens é assimétrico positivo (cauda à direita).\")\n",
    "else:\n",
    "    print(\"O histograma de Linguagens é assimétrico negativo (cauda à esquerda).\")\n"
   ]
  },
  {
   "cell_type": "markdown",
   "metadata": {
    "id": "3HJHmczsqVBX"
   },
   "source": [
    "Etapa 10: 7. Histogramas com range fixo de 0 até 1000"
   ]
  },
  {
   "cell_type": "code",
   "execution_count": null,
   "metadata": {
    "id": "zFziJS8_rSde"
   },
   "outputs": [],
   "source": [
    "# Criar histogramas com range fixo de 0 até 1000\n",
    "plt.figure(figsize=(14, 6))\n",
    "\n",
    "plt.subplot(1, 2, 1)\n",
    "plt.hist(df['Redação'], bins=50, range=[0, 1000], edgecolor='black')\n",
    "plt.title('Histograma de Redação (Range 0-1000)')\n",
    "plt.xlabel('Nota')\n",
    "plt.ylabel('Frequência')\n",
    "\n",
    "plt.subplot(1, 2, 2)\n",
    "plt.hist(df['Linguagens'], bins=50, range=[0, 1000], edgecolor='black')\n",
    "plt.title('Histograma de Linguagens (Range 0-1000)')\n",
    "plt.xlabel('Nota')\n",
    "plt.ylabel('Frequência')\n",
    "\n",
    "plt.tight_layout()\n",
    "plt.savefig('histogramas_range.png')  # Salvar a imagem em vez de mostrar\n",
    "plt.close()\n"
   ]
  },
  {
   "cell_type": "markdown",
   "metadata": {
    "id": "XIJ9lxuyrUG2"
   },
   "source": [
    "Etapa 11: 8. Boxplot das disciplinas"
   ]
  },
  {
   "cell_type": "code",
   "execution_count": null,
   "metadata": {
    "id": "HwDbsaB6radB"
   },
   "outputs": [],
   "source": [
    "# Criar boxplot das disciplinas\n",
    "plt.figure(figsize=(10, 6))\n",
    "plt.boxplot([df['Redação'], df['Matemática'], df['Linguagens'], df['Ciências humanas'], df['Ciências da Natureza']],\n",
    "            labels=['Redação', 'Matemática', 'Linguagens', 'Ciências humanas', 'Ciências da Natureza'])\n",
    "plt.title('Boxplot das Disciplinas')\n",
    "plt.ylabel('Nota')\n",
    "plt.savefig('boxplot.png')  # Salvar a imagem em vez de mostrar\n",
    "plt.close()\n"
   ]
  },
  {
   "cell_type": "markdown",
   "metadata": {
    "id": "TBdulS7ArciA"
   },
   "source": [
    "Etapa 12: 9. Remover outliers e verificar impacto"
   ]
  },
  {
   "cell_type": "code",
   "execution_count": null,
   "metadata": {
    "id": "54E7nVJrreqx"
   },
   "outputs": [],
   "source": [
    "# Função para remover outliers\n",
    "def remover_outliers(df, coluna):\n",
    "    Q1 = df[coluna].quantile(0.25)\n",
    "    Q3 = df[coluna].quantile(0.75)\n",
    "    IQR = Q3 - Q1\n",
    "    lim_inf = Q1 - 1.5 * IQR\n",
    "    lim_sup = Q3 + 1.5 * IQR\n",
    "    return df[(df[coluna] >= lim_inf) & (df[coluna] <= lim_sup)]\n",
    "\n",
    "# Remover outliers e calcular impacto\n",
    "df_sem_outliers = remover_outliers(df, 'Nota_Ponderada')\n",
    "media_sem_outliers = df_sem_outliers['Nota_Ponderada'].mean()\n",
    "desvio_padrao_sem_outliers = df_sem_outliers['Nota_Ponderada'].std()\n",
    "\n",
    "impacto_media = ((media_ponderada - media_sem_outliers) / media_ponderada) * 100\n",
    "print(f\"\\nMédia sem outliers: {media_sem_outliers:.2f}\")\n",
    "print(f\"Desvio padrão sem outliers: {desvio_padrao_sem_outliers:.2f}\")\n",
    "print(f\"Impacto na média nacional: {impacto_media:.2f}%\")\n"
   ]
  },
  {
   "cell_type": "markdown",
   "metadata": {
    "id": "G2PLigWwrgWK"
   },
   "source": [
    "Etapa 13: 10. Comparar substituições de valores nulos"
   ]
  },
  {
   "cell_type": "code",
   "execution_count": null,
   "metadata": {
    "id": "QfDqTkeiu8St"
   },
   "outputs": [],
   "source": [
    "# Selecionar apenas as colunas numéricas para o cálculo de média, moda e mediana\n",
    "colunas_numericas = df.select_dtypes(include=[np.number]).columns\n",
    "\n",
    "# Substituir valores nulos\n",
    "df_moda = df.fillna(df.mode().iloc[0])\n",
    "df_media = df.fillna(df[colunas_numericas].mean())\n",
    "df_mediana = df.fillna(df[colunas_numericas].median())\n",
    "\n",
    "# Calcular média e desvio padrão para cada abordagem\n",
    "media_original = df[colunas_numericas].mean()\n",
    "media_moda = df_moda[colunas_numericas].mean()\n",
    "media_media = df_media[colunas_numericas].mean()\n",
    "media_mediana = df_mediana[colunas_numericas].mean()\n",
    "\n",
    "desvio_padrao_original = df[colunas_numericas].std()\n",
    "desvio_padrao_moda = df_moda[colunas_numericas].std()\n",
    "desvio_padrao_media = df_media[colunas_numericas].std()\n",
    "desvio_padrao_mediana = df_mediana[colunas_numericas].std()\n",
    "\n",
    "# Comparar as mudanças na média e no desvio padrão\n",
    "print(\"\\nMédia e desvio padrão com diferentes substituições de valores nulos:\")\n",
    "\n",
    "# Exibir as médias\n",
    "print(f\"Média original:\")\n",
    "print(media_original)\n",
    "print(f\"Média com moda:\")\n",
    "print(media_moda)\n",
    "print(f\"Média com média:\")\n",
    "print(media_media)\n",
    "print(f\"Média com mediana:\")\n",
    "print(media_mediana)\n",
    "\n",
    "# Exibir os desvios padrão\n",
    "print(f\"\\nDesvio padrão original:\")\n",
    "print(desvio_padrao_original)\n",
    "print(f\"Desvio padrão com moda:\")\n",
    "print(desvio_padrao_moda)\n",
    "print(f\"Desvio padrão com média:\")\n",
    "print(desvio_padrao_media)\n",
    "print(f\"Desvio padrão com mediana:\")\n",
    "print(desvio_padrao_mediana)\n",
    "\n",
    "# Determinar qual método de substituição altera menos a média geral e o desvio padrão\n",
    "alteracao_media = {\n",
    "    'Moda': abs(media_original - media_moda).max(),\n",
    "    'Média': abs(media_original - media_media).max(),\n",
    "    'Mediana': abs(media_original - media_mediana).max()\n",
    "}\n",
    "\n",
    "alteracao_desvio_padrao = {\n",
    "    'Moda': abs(desvio_padrao_original - desvio_padrao_moda).max(),\n",
    "    'Média': abs(desvio_padrao_original - desvio_padrao_media).max(),\n",
    "    'Mediana': abs(desvio_padrao_original - desvio_padrao_mediana).max()\n",
    "}\n",
    "\n",
    "print(f\"\\nAlteração na média geral:\")\n",
    "for metodo, alteracao in alteracao_media.items():\n",
    "    print(f\"{metodo}: {alteracao:.2f}\")\n",
    "\n"
   ]
  }
 ],
 "metadata": {
  "colab": {
   "authorship_tag": "ABX9TyNXlE3IZ5EOlBaSaaFGeuTg",
   "include_colab_link": true,
   "private_outputs": true,
   "provenance": []
  },
  "kernelspec": {
   "display_name": "Python 3 (ipykernel)",
   "language": "python",
   "name": "python3"
  },
  "language_info": {
   "codemirror_mode": {
    "name": "ipython",
    "version": 3
   },
   "file_extension": ".py",
   "mimetype": "text/x-python",
   "name": "python",
   "nbconvert_exporter": "python",
   "pygments_lexer": "ipython3",
   "version": "3.11.4"
  }
 },
 "nbformat": 4,
 "nbformat_minor": 1
}
