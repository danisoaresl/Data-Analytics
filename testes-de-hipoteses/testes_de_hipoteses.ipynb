{
  "nbformat": 4,
  "nbformat_minor": 0,
  "metadata": {
    "colab": {
      "private_outputs": true,
      "provenance": []
    },
    "kernelspec": {
      "name": "python3",
      "display_name": "Python 3"
    },
    "language_info": {
      "name": "python"
    }
  },
  "cells": [
    {
      "cell_type": "code",
      "source": [
        "from google.colab import drive\n",
        "\n",
        "# Montar o Google Drive\n",
        "drive.mount('/content/drive')\n",
        "\n",
        "import pandas as pd\n",
        "import numpy as np\n",
        "import matplotlib.pyplot as plt\n",
        "from scipy import stats\n",
        "\n",
        "# Carregar o CSV com o nome correto\n",
        "df_ab = pd.read_csv('/content/drive/MyDrive/testes_de_hipoteses/experimento_teste_ab.csv')"
      ],
      "metadata": {
        "id": "QMXdDpsdAxuI"
      },
      "execution_count": null,
      "outputs": []
    },
    {
      "cell_type": "markdown",
      "source": [
        "\n",
        "    1. Qual dos cenários tem a maior taxa de conversão?\n",
        "\n",
        "\n"
      ],
      "metadata": {
        "id": "k4_KIYOo7ze-"
      }
    },
    {
      "cell_type": "code",
      "source": [
        "# Agrupar por versão da página e calcular a média de conversões\n",
        "conversao_por_versao = df_ab.groupby('Versão_Página')['Conversões'].mean()\n",
        "\n",
        "# Exibir as taxas de conversão por versão\n",
        "print(conversao_por_versao)\n",
        "\n",
        "# Encontrar a versão com a maior taxa de conversão\n",
        "melhor_versao = conversao_por_versao.idxmax()\n",
        "\n",
        "print(f\"\\nA versão da página com a maior taxa de conversão é: {melhor_versao}\\n\")\n",
        "\n",
        "# Plotar as taxas de conversão por versão\n",
        "conversao_por_versao.plot(kind='bar', color='pink')\n",
        "\n",
        "plt.title('Taxa de Conversão por Versão da Página')\n",
        "plt.xlabel('Versão da Página')\n",
        "plt.ylabel('Taxa de Conversão')\n",
        "\n",
        "plt.show()\n"
      ],
      "metadata": {
        "id": "27_QjFGI5ADQ"
      },
      "execution_count": null,
      "outputs": []
    },
    {
      "cell_type": "markdown",
      "source": [
        "     \n",
        "    2. Calcule qual o tamanho da amostra necessária para o desenvolvimento de um teste A/B, seguindo os seguintes critérios:\n",
        "\n",
        "        a. O cenário A, da base, como o inicial, que funciona hoje.\n",
        "\n",
        "        b. Considere 95% de confiança de que o efeito na conversão não foi aleatório com um nível de significância de 5% (alpha = 0,05).\n",
        "\n",
        "        c. Também considere 80% de certeza conseguir capturar o efeito da nova abordagem.\n",
        "        \n",
        "        d. O aumento para 10% de conversão."
      ],
      "metadata": {
        "id": "CmoLc9xo8r5m"
      }
    },
    {
      "cell_type": "code",
      "source": [
        "from statsmodels.stats.power import NormalIndPower\n",
        "from statsmodels.stats.proportion import proportion_effectsize\n",
        "\n",
        "# Taxas de conversão esperadas\n",
        "taxa_conversao_A = 0.105  # Conversão da versão A (atual)\n",
        "taxa_conversao_B = 0.105 * 1.10  # Um aumento de 10% na taxa de conversão\n",
        "\n",
        "# Tamanho do efeito\n",
        "efeito = proportion_effectsize(taxa_conversao_A, taxa_conversao_B)\n",
        "\n",
        "# Poder estatístico e nível de confiança\n",
        "poder = 0.8  # 80%\n",
        "alpha = 0.05  # 95% de confiança\n",
        "\n",
        "# Calculando o tamanho da amostra necessária\n",
        "analisador = NormalIndPower()\n",
        "tamanho_amostra = analisador.solve_power(efeito, power=poder, alpha=alpha, ratio=1)\n",
        "\n",
        "print(f\"Tamanho da amostra necessário por grupo: {int(np.ceil(tamanho_amostra))}\")\n"
      ],
      "metadata": {
        "id": "8_XcrAML6OGH"
      },
      "execution_count": null,
      "outputs": []
    },
    {
      "cell_type": "markdown",
      "source": [
        "\n",
        "    3. Considerando uma amostra de 45 números que representam o index do dataframe, índices= ([909, 751, 402, 400, 726, 39, 184, 269, 255, 769, 209, 715, 677, 381, 793, 697,  89, 280, 232, 756, 358,  36, 439, 768, 967, 699, 473, 222,  89, 639, 883, 558, 757,  84, 907, 895, 217, 224, 311, 348, 146, 505, 273, 957, 362]). Considerando essa amostra é possível dizer que a idade média das pessoas com problemas cardíacos é maior que 50 anos? Nível de significância igual a 5%.\n",
        "\n"
      ],
      "metadata": {
        "id": "YuZ9SHGdEeHc"
      }
    },
    {
      "cell_type": "code",
      "source": [
        "import pandas as pd\n",
        "from scipy import stats\n",
        "\n",
        "# Carregar a base pacientes.csv\n",
        "df_pacientes = pd.read_csv('/content/drive/MyDrive/testes_de_hipoteses/pacientes.csv')\n",
        "\n",
        "# Verificar os nomes das colunas\n",
        "print(df_pacientes.columns)\n",
        "\n",
        "# Índices da amostra\n",
        "indices = [909, 751, 402, 400, 726, 39, 184, 269, 255, 769,\n",
        "           209, 715, 677, 381, 793, 697, 89, 280, 232, 756,\n",
        "           358, 36, 439, 768, 967, 699, 473, 222, 89, 639,\n",
        "           883, 558, 757, 84, 907, 895, 217, 224, 311, 348,\n",
        "           146, 505, 273, 957, 362]\n",
        "\n",
        "# Amostra de idades (ajustar o nome da coluna para 'Idade')\n",
        "amostra = df_pacientes.loc[indices, 'Idade']  # Use 'Idade' com letra maiúscula\n",
        "\n",
        "# Hipótese nula: idade média = 50 anos\n",
        "t_stat, p_value = stats.ttest_1samp(amostra, 50)\n",
        "\n",
        "# Resultado do teste\n",
        "print(f\"\\nt-stat: {t_stat:.4f}, p-value: {p_value:.4f}\\n\")\n",
        "\n",
        "if p_value < 0.05:\n",
        "    print(\"Rejeitamos a hipótese nula. A idade média é maior que 50 anos.\\n\")\n",
        "else:\n",
        "    print(\"Não podemos rejeitar a hipótese nula. A idade média não é significativamente maior que 50 anos.\\n\")\n",
        "\n",
        "\n",
        "\n",
        "\n"
      ],
      "metadata": {
        "id": "J7jZUH71Ee-o"
      },
      "execution_count": null,
      "outputs": []
    },
    {
      "cell_type": "markdown",
      "source": [
        "     \n",
        "    4. Queremos entender que tipo de amostra estamos lidando se dividirmos os conjuntos em 2, sendo um com pessoas que têm condições de saúde adicionais e o outro com pessoas saudáveis. Seria dependente ou independente?"
      ],
      "metadata": {
        "id": "GUFXnwezGQOT"
      }
    },
    {
      "cell_type": "markdown",
      "source": [
        "Resposta: Dado que você está lidando com duas populações distintas (pessoas com condições de saúde adicionais e pessoas saudáveis), a análise pode ser considerada como amostras independentes."
      ],
      "metadata": {
        "id": "M053aYq5Odgn"
      }
    },
    {
      "cell_type": "code",
      "source": [
        "import pandas as pd\n",
        "import numpy as np\n",
        "import matplotlib.pyplot as plt\n",
        "from scipy import stats\n",
        "\n",
        "# Carregar o CSV\n",
        "df_ab = pd.read_csv('/content/drive/MyDrive/testes_de_hipoteses/pacientes.csv')\n",
        "\n",
        "# Verificar a distribuição das variáveis em cada grupo\n",
        "print(df_ab.groupby('Nome_Estado_Saude').describe())\n",
        "\n",
        "# Testar a diferença de médias de variáveis numéricas (Idade)\n",
        "t_stat, p_value = stats.ttest_ind(df_ab[df_ab['Nome_Estado_Saude'] == 1]['Idade'],\n",
        "                                 df_ab[df_ab['Nome_Estado_Saude'] == 0]['Idade'])\n",
        "print(f\"Teste t: t-statistic = {t_stat:.4f}, p-value = {p_value:.4f}\")\n",
        "\n",
        "# Testar a associação entre variáveis categóricas (Genero)\n",
        "crosstab = pd.crosstab(df_ab['Nome_Estado_Saude'], df_ab['Genero'])\n",
        "chi2, p, dof, expected = stats.chi2_contingency(crosstab)\n",
        "print(f\"Teste Qui-quadrado: chi2 = {chi2:.4f}, p-value = {p:.4f}\")\n"
      ],
      "metadata": {
        "id": "uh4RNRKrGR5a"
      },
      "execution_count": null,
      "outputs": []
    },
    {
      "cell_type": "code",
      "source": [
        "import pandas as pd\n",
        "import numpy as np\n",
        "import matplotlib.pyplot as plt\n",
        "import seaborn as sns\n",
        "\n",
        "# Carregar a base de dados\n",
        "df_pacientes = pd.read_csv('/content/drive/MyDrive/testes_de_hipoteses/pacientes.csv')\n",
        "\n",
        "# Função para criar um boxplot comparando duas variáveis numéricas por grupo\n",
        "def plot_boxplot(df, coluna_numerica, coluna_grupo, labels, cor='pink'):\n",
        "    \"\"\"Cria um boxplot personalizado com a cor especificada.\n",
        "\n",
        "    Args:\n",
        "        df: DataFrame com os dados.\n",
        "        coluna_numerica: Nome da coluna com a variável numérica.\n",
        "        coluna_grupo: Nome da coluna com a variável categórica para agrupamento.\n",
        "        labels: Lista com os rótulos dos grupos.\n",
        "        cor: Cor dos boxplots (opcional, padrão é 'pink').\n",
        "    \"\"\"\n",
        "\n",
        "    plt.figure(figsize=(8, 6))\n",
        "    sns.boxplot(x=coluna_grupo, y=coluna_numerica, data=df, palette=[cor])\n",
        "    plt.title(f'Comparação de {coluna_numerica} entre os grupos')\n",
        "    plt.show()\n",
        "\n",
        "# Exemplo de uso das funções\n",
        "plot_boxplot(df_pacientes, 'Idade', 'Nome_Estado_Saude', ['Saudável', 'Com condições de saúde adicionais'])"
      ],
      "metadata": {
        "id": "9Qo4jUv4p8Rp"
      },
      "execution_count": null,
      "outputs": []
    },
    {
      "cell_type": "code",
      "source": [
        "import seaborn as sns\n",
        "\n",
        "# Gráfico de dispersão para o grupo saudável\n",
        "sns.scatterplot(x='Idade', y='Pressao_Arterial', data=df_pacientes[df_pacientes['Nome_Estado_Saude'] == 'Saudável'])\n",
        "plt.title('Relação entre Idade e Pressão Arterial (Saudáveis)')\n",
        "plt.show()\n",
        "\n",
        "# Gráfico de dispersão para o grupo com condições de saúde adicionais\n",
        "sns.scatterplot(x='Idade', y='Pressao_Arterial', data=df_pacientes[df_pacientes['Nome_Estado_Saude'] != 'Saudável'])\n",
        "plt.title('Relação entre Idade e Pressão Arterial (Com condições)')\n",
        "plt.show()"
      ],
      "metadata": {
        "id": "fy0mAv-msPac"
      },
      "execution_count": null,
      "outputs": []
    },
    {
      "cell_type": "markdown",
      "source": [
        "     \n",
        "    5. Agora considere o um conjunto de pessoas aleatória que representam o index do dataframe,  índices = ([690, 894,  67, 201, 364,  19,  60, 319, 588, 643, 855, 623, 530, 174, 105, 693,   6, 462, 973, 607, 811, 346, 354, 966, 943, 372]), podemos dizer que a pressão arterial média para pacientes com condições de saúde adicionais é igual à pressão arterial média para pacientes sem condições adicionais de saúde? Considere o nível de significância a 6%."
      ],
      "metadata": {
        "id": "eN_GmKTmXxnV"
      }
    },
    {
      "cell_type": "markdown",
      "source": [
        "\n",
        "Resposta:\n",
        "\n",
        "Número de Pacientes:\n",
        "\n",
        "Saudáveis: 490\n",
        "\n",
        "Com Condições de Saúde Adicionais: 510\n",
        "\n",
        "Resultados do Teste T:\n",
        "\n",
        "t-stat: 0.8343\n",
        "\n",
        "p-value: 0.4043\n",
        "\n",
        "Com um p-value de 0.4043, não rejeitamos a hipótese nula, o que indica que não há diferença significativa nas pressões arteriais médias entre os grupos. Portanto, podemos concluir que as pressões arteriais médias dos pacientes saudáveis e daqueles com condições de saúde adicionais não são significativamente diferentes."
      ],
      "metadata": {
        "id": "vpig1QsOHPO-"
      }
    },
    {
      "cell_type": "code",
      "source": [
        "import pandas as pd\n",
        "\n",
        "# Carregar a base de dados\n",
        "df_pacientes = pd.read_csv('/content/drive/MyDrive/testes_de_hipoteses/pacientes.csv')\n",
        "\n",
        "# Verificar os nomes das colunas\n",
        "print(df_pacientes.columns)\n",
        "\n",
        "# Contar o número de pacientes saudáveis e com condições de saúde adicionais\n",
        "num_saudaveis = df_pacientes[df_pacientes['Nome_Estado_Saude'] == 'Saudável'].shape[0]\n",
        "num_condicoes_adicionais = df_pacientes[df_pacientes['Nome_Estado_Saude'] != 'Saudável'].shape[0]\n",
        "\n",
        "print(f\"\\nNúmero de pacientes saudáveis: {num_saudaveis}\")\n",
        "print(f\"Número de pacientes com condições de saúde adicionais: {num_condicoes_adicionais}\\n\")\n",
        "\n",
        "# Análise estatística (se necessário)\n",
        "# Exemplo: Média e desvio padrão das idades para ambos os grupos\n",
        "media_idade_saudaveis = df_pacientes[df_pacientes['Nome_Estado_Saude'] == 'Saudável']['Idade'].mean()\n",
        "media_idade_condicoes = df_pacientes[df_pacientes['Nome_Estado_Saude'] != 'Saudável']['Idade'].mean()\n",
        "\n",
        "desvio_idade_saudaveis = df_pacientes[df_pacientes['Nome_Estado_Saude'] == 'Saudável']['Idade'].std()\n",
        "desvio_idade_condicoes = df_pacientes[df_pacientes['Nome_Estado_Saude'] != 'Saudável']['Idade'].std()\n",
        "\n",
        "print(f\"Média da idade dos pacientes saudáveis: {media_idade_saudaveis}, Desvio padrão: {desvio_idade_saudaveis}\\n\")\n",
        "print(f\"Média da idade dos pacientes com condições de saúde adicionais: {media_idade_condicoes}, Desvio padrão: {desvio_idade_condicoes}\")\n",
        "\n"
      ],
      "metadata": {
        "id": "_8lbNtgyI-ge"
      },
      "execution_count": null,
      "outputs": []
    },
    {
      "cell_type": "code",
      "source": [
        "from scipy import stats\n",
        "\n",
        "# Amostras de pressão arterial para cada grupo\n",
        "pressao_saudaveis = df_pacientes[df_pacientes['Nome_Estado_Saude'] == 'Saudável']['Pressao_Arterial']\n",
        "pressao_condicoes = df_pacientes[df_pacientes['Nome_Estado_Saude'] != 'Saudável']['Pressao_Arterial']\n",
        "\n",
        "# Teste t para amostras independentes\n",
        "t_stat, p_value = stats.ttest_ind(pressao_saudaveis, pressao_condicoes)\n",
        "\n",
        "# Resultado do teste\n",
        "print(f\"\\nt-stat: {t_stat:.4f}, p-value: {p_value:.4f}\\n\")\n",
        "\n",
        "if p_value < 0.05:\n",
        "    print(\"Rejeitamos a hipótese nula. As pressões arteriais médias são significativamente diferentes entre os grupos.\")\n",
        "else:\n",
        "    print(\"Não podemos rejeitar a hipótese nula. As pressões arteriais médias não são significativamente diferentes entre os grupos.\")\n",
        "\n"
      ],
      "metadata": {
        "id": "93NJwyiV9Mur"
      },
      "execution_count": null,
      "outputs": []
    },
    {
      "cell_type": "markdown",
      "source": [
        "     \n",
        "    6. Existe uma diferença significativa na pressão arterial média entre diferentes grupos étnicos nesta população? (Teste ANOVA, alpha é 5%)"
      ],
      "metadata": {
        "id": "5Sr0C9v1jm5x"
      }
    },
    {
      "cell_type": "markdown",
      "source": [
        "    a. Hipótese Nula (H0): A pressão arterial média é a mesma em todos os grupos étnicos.\n",
        "\n",
        "Resposta:\n",
        "\n",
        "Resultados do Teste ANOVA:\n",
        "\n",
        "F: 0.232453\n",
        "\n",
        "p-value: 0.8738\n",
        "\n",
        "Interpretação: Com um p-value de 0.8738, que é maior que o nível de significância de 0.05, não rejeitamos a hipótese nula. Portanto, não há evidências suficientes para afirmar que existe uma diferença significativa na pressão arterial média entre os diferentes grupos étnicos nesta população.\n"
      ],
      "metadata": {
        "id": "011xYO8oCvgR"
      }
    },
    {
      "cell_type": "code",
      "source": [
        "import pandas as pd\n",
        "import scipy.stats as stats\n",
        "from statsmodels.formula.api import ols\n",
        "import statsmodels.api as sm\n",
        "\n",
        "# Carregar a base de dados (substitua o caminho pelo correto)\n",
        "df_pacientes = pd.read_csv('/content/drive/MyDrive/testes_de_hipoteses/pacientes.csv')\n",
        "\n",
        "# 6a. Teste ANOVA - Diferença na pressão arterial entre grupos étnicos\n",
        "# Realizar a ANOVA\n",
        "modelo = ols('Pressao_Arterial ~ C(Etnia)', data=df_pacientes).fit()\n",
        "anova_resultado = sm.stats.anova_lm(modelo, typ=2)\n",
        "\n",
        "# Exibir os resultados da ANOVA\n",
        "print(\"Resultado ANOVA:\")\n",
        "print(anova_resultado)\n",
        "\n",
        "print('\\n' + '-' * 50 + '\\n')  # Linha separadora\n",
        "\n"
      ],
      "metadata": {
        "id": "qLaO_ejQk7Fe"
      },
      "execution_count": null,
      "outputs": []
    },
    {
      "cell_type": "markdown",
      "source": [
        "    b. Existe uma associação entre a idade dos pacientes e sua pressão arterial?\n",
        "\n",
        "    i. Hipótese Nula (H0): A idade dos pacientes é independente da pressão arterial.\n",
        "\n",
        "    ii. Hipótese Alternativa (H1): A idade dos pacientes está associada à sua pressão arterial.\n"
      ],
      "metadata": {
        "id": "siUN4CP0C-4F"
      }
    },
    {
      "cell_type": "markdown",
      "source": [
        "Resposta:\n",
        "\n",
        "Coeficiente de correlação de Pearson: −0.0214\n",
        "\n",
        "O coeficiente de correlação de Pearson próximo de zero sugere que não há uma correlação linear significativa entre a idade dos pacientes e a pressão arterial.\n",
        "\n",
        "Valor p: 0.4994\n",
        "\n",
        "O valor p de\n",
        "0.4994\n",
        "0.4994 é maior que o nível de significância de 0.05, o que indica que não há evidência suficiente para rejeitar a hipótese nula.\n",
        "\n",
        "Baseando-se nos resultados obtidos, não podemos afirmar que existe uma associação significativa entre a idade dos pacientes e sua pressão arterial. Assim, a hipótese nula (H0) é mantida, ou seja, a idade dos pacientes é considerada independente da pressão arterial."
      ],
      "metadata": {
        "id": "2rg6iSwvGiNU"
      }
    },
    {
      "cell_type": "code",
      "source": [
        "import pandas as pd\n",
        "from scipy import stats\n",
        "\n",
        "# Carregar a base de dados com o caminho correto\n",
        "df_pacientes = pd.read_csv('/content/drive/MyDrive/testes_de_hipoteses/pacientes.csv')\n",
        "\n",
        "# Verificar os dados\n",
        "print(\"Primeiras linhas do DataFrame:\\n\")\n",
        "print(df_pacientes.head())\n",
        "\n",
        "print('\\n' + '-' * 50 + '\\n')  # Linha separadora\n",
        "\n",
        "print(\"Resumo estatístico do DataFrame:\\n\")\n",
        "print(df_pacientes.describe())\n",
        "\n",
        "print('\\n' + '-' * 50 + '\\n')  # Linha separadora\n",
        "\n",
        "# Calcular a correlação de Pearson\n",
        "correlacao, p_valor = stats.pearsonr(df_pacientes['Idade'], df_pacientes['Pressao_Arterial'])\n",
        "\n",
        "# Exibir os resultados da correlação\n",
        "print(f\"\\nCoeficiente de correlação de Pearson: {correlacao}\")\n",
        "print(f\"Valor p: {p_valor}\")\n",
        "\n",
        "\n"
      ],
      "metadata": {
        "id": "k0M2xSm2sZge"
      },
      "execution_count": null,
      "outputs": []
    },
    {
      "cell_type": "markdown",
      "source": [
        "    c. pótese Alternativa (H1): Há uma diferença significativa na pressão arterial média entre pelo menos dois grupos étnicos nesta população.\n"
      ],
      "metadata": {
        "id": "93gZ1ds3DJAq"
      }
    },
    {
      "cell_type": "code",
      "source": [
        "import pandas as pd\n",
        "import matplotlib.pyplot as plt\n",
        "import seaborn as sns\n",
        "import statsmodels.api as sm\n",
        "from statsmodels.formula.api import ols\n",
        "\n",
        "# Carregar a base de dados com o caminho correto\n",
        "df_pacientes = pd.read_csv('/content/drive/MyDrive/testes_de_hipoteses/pacientes.csv')\n",
        "\n",
        "# Resumo dos dados\n",
        "print(\"Resumo dos dados:\\n\")\n",
        "print(df_pacientes.describe())\n",
        "\n",
        "print('\\n' + '-' * 50 + '\\n')  # Linha separadora\n",
        "\n",
        "# Boxplot para comparar a pressão arterial entre grupos étnicos\n",
        "sns.boxplot(x='Etnia', y='Pressao_Arterial', data=df_pacientes, palette='pink')\n",
        "plt.title('Comparação da Pressão Arterial por Etnia')\n",
        "plt.show()\n",
        "\n",
        "print('\\n' + '-' * 50 + '\\n')  # Linha separadora\n",
        "\n",
        "# Modelo de regressão linear para ANOVA\n",
        "modelo = ols('Pressao_Arterial ~ C(Etnia)', data=df_pacientes).fit()\n",
        "\n",
        "# Tabela ANOVA\n",
        "anova_table = sm.stats.anova_lm(modelo, typ=2)\n",
        "print(\"Tabela ANOVA:\\n\")\n",
        "print(anova_table)\n",
        "\n",
        "print('\\n' + '-' * 50 + '\\n')  # Linha separadora\n",
        "\n",
        "# Verificando o resultado da ANOVA\n",
        "p_value = anova_table['PR(>F)'][0]\n",
        "if p_value < 0.05:\n",
        "    print(\"Rejeitamos a hipótese nula, há diferença significativa na pressão arterial média entre os grupos étnicos.\")\n",
        "else:\n",
        "    print(\"Não rejeitamos a hipótese nula, não há diferença significativa na pressão arterial média entre os grupos étnicos.\")\n"
      ],
      "metadata": {
        "id": "NHb5kRJcQSXA"
      },
      "execution_count": null,
      "outputs": []
    },
    {
      "cell_type": "markdown",
      "source": [
        "         \n",
        "    7. Lúcia é uma pesquisadora e tem o objetivo de entender a relação de gênero neste grupo de pacientes. Acredita-se que há uma relação entre o sexo e condições de saúde adicionais. (Teste qui-quadrado)"
      ],
      "metadata": {
        "id": "reDapA0Tt0UW"
      }
    },
    {
      "cell_type": "code",
      "source": [
        "import pandas as pd\n",
        "from scipy.stats import chi2_contingency\n",
        "\n",
        "# Carregar os dados\n",
        "dados = pd.read_csv('/content/drive/MyDrive/testes_de_hipoteses/pacientes.csv')\n",
        "\n",
        "# Criar a tabela de contingência (exemplo: gênero x estado de saúde)\n",
        "tabela_contingencia = pd.crosstab(dados['Genero'], dados['Nome_Estado_Saude'])\n",
        "\n",
        "# Realizar o teste qui-quadrado\n",
        "chi2, p, dof, expected = chi2_contingency(tabela_contingencia)\n",
        "\n",
        "# Imprimir os resultados\n",
        "print('Tabela de contingência:')\n",
        "print(tabela_contingencia)\n",
        "\n",
        "print('\\n' + '-' * 50 + '\\n')  # Linha separadora\n",
        "\n",
        "print('Resultados do Teste Qui-quadrado:')\n",
        "print(f'Qui-quadrado: {chi2:.2f}')  # Arredondando o valor do qui-quadrado\n",
        "print(f'p-valor: {p:.5f}')  # Arredondando o p-valor\n",
        "\n",
        "print('\\n' + '-' * 50 + '\\n')  # Linha separadora\n",
        "\n",
        "# Interpretar os resultados\n",
        "if p < 0.05:\n",
        "    print(\"Há evidência estatística de associação entre o gênero e o estado de saúde.\")\n",
        "else:\n",
        "    print(\"Não há evidência estatística de associação entre o gênero e o estado de saúde.\")\n"
      ],
      "metadata": {
        "id": "yCgi_DTgQEUY"
      },
      "execution_count": null,
      "outputs": []
    },
    {
      "cell_type": "markdown",
      "source": [
        "     \n",
        "    8. Qual é o intervalo de confiança para a média da pressão arterial entre os pacientes com condições de saúde adicionais? (nível de confiança 95%)\n",
        "\n"
      ],
      "metadata": {
        "id": "hps_njb6vCAg"
      }
    },
    {
      "cell_type": "code",
      "source": [
        "import pandas as pd\n",
        "import numpy as np\n",
        "\n",
        "# Carregar os dados\n",
        "df = pd.read_csv('/content/drive/MyDrive/testes_de_hipoteses/pacientes.csv')\n",
        "\n",
        "# Filtrar os dados para pacientes com condições de saúde adicionais\n",
        "df_com_condicoes = df[df['Nome_Estado_Saude'] != 'Saudável']  # Alterar conforme necessário\n",
        "\n",
        "# Verificar se existem dados filtrados\n",
        "if df_com_condicoes.empty:\n",
        "    print(\"Não há pacientes com condições de saúde adicionais.\")\n",
        "else:\n",
        "    # Calcular a média e o desvio padrão da pressão arterial\n",
        "    media = df_com_condicoes['Pressao_Arterial'].mean()\n",
        "    desvio_padrao = df_com_condicoes['Pressao_Arterial'].std()\n",
        "    n = len(df_com_condicoes)\n",
        "\n",
        "    # Calcular o intervalo de confiança (95%)\n",
        "    z = 1.96  # Para nível de confiança de 95%\n",
        "    margem_de_erro = z * (desvio_padrao / np.sqrt(n))\n",
        "    intervalo_confianca = (media - margem_de_erro, media + margem_de_erro)\n",
        "\n",
        "    # Exibir o intervalo de confiança\n",
        "    print(f\"Intervalo de confiança para a média da pressão arterial: {intervalo_confianca}\")\n"
      ],
      "metadata": {
        "id": "QC5_47zjvEGn"
      },
      "execution_count": null,
      "outputs": []
    },
    {
      "cell_type": "markdown",
      "source": [
        "    9. A distribuição da pressão arterial na população segue uma distribuição normal?\n",
        "        a. Hipótese Nula (H0): A distribuição da pressão arterial na população segue uma distribuição normal.\n",
        "        b. Hipótese Alternativa (H1): A distribuição da pressão arterial na população não segue uma distribuição normal."
      ],
      "metadata": {
        "id": "OHQefvyKyjJQ"
      }
    },
    {
      "cell_type": "code",
      "source": [
        "import pandas as pd\n",
        "from scipy.stats import shapiro\n",
        "import matplotlib.pyplot as plt\n",
        "import statsmodels.api as sm\n",
        "\n",
        "\n",
        "# Carregar a base de dados com o caminho correto\n",
        "df_pacientes = pd.read_csv('/content/drive/MyDrive/testes_de_hipoteses/pacientes.csv')\n",
        "\n",
        "\n",
        "# Assumir que a coluna com os dados da pressão arterial se chama 'Pressao_Arterial'\n",
        "pressao_arterial = df_pacientes['Pressao_Arterial']  # Corrigido para df_pacientes\n",
        "\n",
        "\n",
        "# Realizar o teste de Shapiro-Wilk\n",
        "stat, p = shapiro(pressao_arterial)\n",
        "\n",
        "\n",
        "# Imprimir os resultados\n",
        "print('Estatística de teste:', stat)\n",
        "print('p-valor:', p)\n",
        "\n",
        "\n",
        "# Interpretar o resultado:\n",
        "alpha = 0.05\n",
        "if p > alpha:\n",
        "    print('A distribuição é provavelmente normal.')\n",
        "else:\n",
        "    print('A distribuição não é provavelmente normal.')\n",
        "\n",
        "\n",
        "# Visualização da distribuição (opcional)\n",
        "plt.hist(pressao_arterial, bins=30, color='pink')\n",
        "plt.title('Histograma da Pressão Arterial')\n",
        "plt.xlabel('Pressão Arterial')\n",
        "plt.ylabel('Frequência')\n",
        "plt.show()\n",
        "\n",
        "\n",
        "# QQ-plot (opcional)\n",
        "sm.qqplot(pressao_arterial, line='s')\n",
        "plt.title('QQ-plot da Pressão Arterial')\n",
        "plt.show()\n"
      ],
      "metadata": {
        "id": "kTwJmoIgzRUf"
      },
      "execution_count": null,
      "outputs": []
    }
  ]
}