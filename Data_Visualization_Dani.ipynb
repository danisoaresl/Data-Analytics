{
  "nbformat": 4,
  "nbformat_minor": 0,
  "metadata": {
    "colab": {
      "private_outputs": true,
      "provenance": [],
      "authorship_tag": "ABX9TyMUPFYi5skp2nulwBvWsqVa",
      "include_colab_link": true
    },
    "kernelspec": {
      "name": "python3",
      "display_name": "Python 3"
    },
    "language_info": {
      "name": "python"
    }
  },
  "cells": [
    {
      "cell_type": "markdown",
      "metadata": {
        "id": "view-in-github",
        "colab_type": "text"
      },
      "source": [
        "<a href=\"https://colab.research.google.com/github/danisoaresl/Data-Analytics/blob/main/Data_Visualization_Dani.ipynb\" target=\"_parent\"><img src=\"https://colab.research.google.com/assets/colab-badge.svg\" alt=\"Open In Colab\"/></a>"
      ]
    },
    {
      "cell_type": "markdown",
      "source": [
        "Exercício Prático - Data Visualization"
      ],
      "metadata": {
        "id": "zCA78Q19lXaK"
      }
    },
    {
      "cell_type": "markdown",
      "source": [
        "Desafio Prático 1: Visualizando Dados Diferentes"
      ],
      "metadata": {
        "id": "ghcCYfCrldWt"
      }
    },
    {
      "cell_type": "markdown",
      "source": [
        "Descrição: Neste desafio, suas alunas irão visualizar dados de diferentes formas utilizando\n",
        "Matplotlib, Seaborn e Plotly. Elas deverão criar gráficos que mostrem a distribuição dos\n",
        "dados, correlações entre variáveis e tendências."
      ],
      "metadata": {
        "id": "q-8IkBGnlhjM"
      }
    },
    {
      "cell_type": "markdown",
      "source": [
        "Tarefas:"
      ],
      "metadata": {
        "id": "sXMRqA5_lXMS"
      }
    },
    {
      "cell_type": "markdown",
      "source": [
        "1. Carregar os dados de um arquivo CSV fornecido (saude.csv)."
      ],
      "metadata": {
        "id": "o8NMy-rMlnMD"
      }
    },
    {
      "cell_type": "code",
      "source": [
        "import pandas as pd\n",
        "\n",
        "from google.colab import drive\n",
        "drive.mount('/content/drive')\n",
        "\n",
        "with open('/content/drive/My Drive/saude.csv', 'r') as file:\n",
        "  #ler o conteúdo do arquivo\n",
        "  #para ler todas as linhas\n",
        "  lines = file.readlines()\n",
        "\n",
        "#ler arquivo CSV\n",
        "df = pd.read_csv('/content/drive/My Drive/saude.csv')\n",
        "\n",
        "#criar cópia DataFrame\n",
        "df_saude = df.copy()\n",
        "\n",
        "#visualizar os primeiros 5 registros da cópia\n",
        "print(df_saude.head())"
      ],
      "metadata": {
        "id": "WWEyqySOop8i"
      },
      "execution_count": null,
      "outputs": []
    },
    {
      "cell_type": "markdown",
      "source": [
        "2. Criar um histograma da variável 'age' usando Matplotlib."
      ],
      "metadata": {
        "id": "BOuH0MGzlngx"
      }
    },
    {
      "cell_type": "code",
      "source": [
        "#contagem de cada gênero\n",
        "gender_counts = df_saude['gender'].value_counts().reset_index()\n",
        "gender_counts.columns = ['gender', 'contagem']\n",
        "\n",
        "#colunas para conferir os valores\n",
        "print(gender_counts)"
      ],
      "metadata": {
        "id": "RUBqMecArfJa"
      },
      "execution_count": null,
      "outputs": []
    },
    {
      "cell_type": "markdown",
      "source": [
        "O eixo x deve ter os valores \"M\" e \"F\".\n",
        "\n",
        "O eixo y deve mostrar a contagem de 5 para cada gênero."
      ],
      "metadata": {
        "id": "yBV8soE-rvKY"
      }
    },
    {
      "cell_type": "code",
      "execution_count": null,
      "metadata": {
        "id": "yPnM-XVSlWUL"
      },
      "outputs": [],
      "source": [
        "import pandas as pd\n",
        "import matplotlib.pyplot as plt\n",
        "\n",
        "#criar o histograma da variável 'age'\n",
        "plt.hist(df_saude['age'], bins=10, color='purple')  # bins define o número de barras no histograma\n",
        "\n",
        "#adicionar títulos aos eixos\n",
        "plt.xlabel('Idade')\n",
        "plt.ylabel('Frequência')\n",
        "plt.title('Distribuição das Idades')\n",
        "\n",
        "#mostrar gráfico\n",
        "plt.show()"
      ]
    },
    {
      "cell_type": "code",
      "source": [
        "import matplotlib.pyplot as plt\n",
        "\n",
        "#criar histogramas para 'age', 'height' e 'weight'\n",
        "fig, axes = plt.subplots(1, 3, figsize=(18, 5))\n",
        "\n",
        "#histograma idade\n",
        "axes[0].hist(df_saude['age'], bins=10, color='purple')\n",
        "axes[0].set_xlabel('Idade')\n",
        "axes[0].set_ylabel('Frequência')\n",
        "axes[0].set_title('Distribuição das Idades')\n",
        "\n",
        "#histograma altura\n",
        "axes[1].hist(df_saude['height'], bins=10, color='lightblue')\n",
        "axes[1].set_xlabel('Altura (cm)')\n",
        "axes[1].set_ylabel('Frequência')\n",
        "axes[1].set_title('Distribuição da Altura')\n",
        "\n",
        "#histograma peso\n",
        "axes[2].hist(df_saude['weight'], bins=10, color='lightgreen')\n",
        "axes[2].set_xlabel('Peso (kg)')\n",
        "axes[2].set_ylabel('Frequência')\n",
        "axes[2].set_title('Distribuição do Peso')\n",
        "\n",
        "plt.tight_layout()\n",
        "plt.show()\n"
      ],
      "metadata": {
        "id": "FRHX_9Ekuouz"
      },
      "execution_count": null,
      "outputs": []
    },
    {
      "cell_type": "markdown",
      "source": [
        "3. Criar um gráfico de dispersão mostrando a relação entre 'height' e 'weight' usando\n",
        "Seaborn."
      ],
      "metadata": {
        "id": "-xY1z-dNlnwj"
      }
    },
    {
      "cell_type": "code",
      "source": [
        "import pandas as pd\n",
        "import seaborn as sns\n",
        "import matplotlib.pyplot as plt\n",
        "\n",
        "#criando uma coluna categórica chamada 'grupo' apenas para demonstrar a diferença de cores no gráfico\n",
        "#grupo A e Grupo B foram atribuídos de forma alternada\n",
        "df_saude['grupo'] = ['Grupo A', 'Grupo B'] * (len(df_saude) // 2)\n",
        "\n",
        "#gráfico de dispersão com cores diferentes para cada grupo\n",
        "sns.scatterplot(data=df_saude, x='height', y='weight', hue='grupo')\n",
        "\n",
        "#adicionando título e rótulos aos eixos\n",
        "plt.title('Relação entre Altura e Peso')\n",
        "plt.xlabel('Altura (cm)')\n",
        "plt.ylabel('Peso (kg)')\n",
        "\n",
        "plt.show()\n"
      ],
      "metadata": {
        "id": "a2gWAJ93_vAE"
      },
      "execution_count": null,
      "outputs": []
    },
    {
      "cell_type": "code",
      "source": [
        "import seaborn as sns\n",
        "import matplotlib.pyplot as plt\n",
        "\n",
        "#calcular a matriz de correlação\n",
        "correlation_matrix = df_saude[['age', 'height', 'weight']].corr()\n",
        "\n",
        "#criar um mapa de calor das correlações\n",
        "plt.figure(figsize=(8, 6))\n",
        "sns.heatmap(correlation_matrix, annot=True, cmap='coolwarm', vmin=-1, vmax=1)\n",
        "plt.title('Mapa de Calor das Correlações')\n",
        "plt.show()\n"
      ],
      "metadata": {
        "id": "JxuhHy1Puwvg"
      },
      "execution_count": null,
      "outputs": []
    },
    {
      "cell_type": "markdown",
      "source": [
        "4. Criar um gráfico interativo de barras mostrando a contagem de indivíduos por\n",
        "'gender' usando Plotly."
      ],
      "metadata": {
        "id": "nMD-YySclnWi"
      }
    },
    {
      "cell_type": "code",
      "source": [
        "import pandas as pd\n",
        "import plotly.express as px\n",
        "\n",
        "#calculando contagem de cada gênero\n",
        "gender_counts = df_saude['gender'].value_counts().reset_index()\n",
        "gender_counts.columns = ['gender', 'contagem']\n",
        "\n",
        "#gráfico de barras interativo com cores personalizadas\n",
        "fig = px.bar(gender_counts, x='gender', y='contagem', color='gender',\n",
        "             color_discrete_map={'M': 'green', 'F': 'purple'},  # Definindo cores para masculino (verde) e feminino (roxo)\n",
        "             labels={'gender': 'Gênero', 'contagem': 'Contagem'},\n",
        "             title='Contagem de Indivíduos por Gênero')\n",
        "\n",
        "#mostrar gráfico\n",
        "fig.show()\n"
      ],
      "metadata": {
        "id": "gSiAN9Mxwp2V"
      },
      "execution_count": null,
      "outputs": []
    },
    {
      "cell_type": "code",
      "source": [
        "import plotly.express as px\n",
        "\n",
        "#calcular média de idade, altura e peso por gênero\n",
        "gender_means = df_saude.groupby('gender')[['age', 'height', 'weight']].mean().reset_index()\n",
        "\n",
        "#criar gráficos de barras para média de idade, altura e peso por gênero\n",
        "fig = px.bar(gender_means.melt(id_vars='gender'), x='gender', y='value', color='variable',\n",
        "             labels={'gender': 'Gênero', 'value': 'Média', 'variable': 'Variável'},\n",
        "             title='Média de Idade, Altura e Peso por Gênero')\n",
        "fig.show()\n"
      ],
      "metadata": {
        "id": "NWjDcZBzu6m6"
      },
      "execution_count": null,
      "outputs": []
    },
    {
      "cell_type": "code",
      "source": [
        "import seaborn as sns\n",
        "import matplotlib.pyplot as plt\n",
        "\n",
        "#paleta de cores para cada gênero\n",
        "palette = {'M': 'green', 'F': 'purple'}  # Verde para masculino, roxo para feminino\n",
        "\n",
        "#boxplots para idade, altura e peso separados por gênero\n",
        "fig, axes = plt.subplots(1, 3, figsize=(18, 6))\n",
        "\n",
        "#boxplot para Idade\n",
        "sns.boxplot(data=df_saude, x='gender', y='age', ax=axes[0], palette=palette)\n",
        "axes[0].set_title('Distribuição de Idade por Gênero')\n",
        "\n",
        "#boxplot para Altura\n",
        "sns.boxplot(data=df_saude, x='gender', y='height', ax=axes[1], palette=palette)\n",
        "axes[1].set_title('Distribuição de Altura por Gênero')\n",
        "\n",
        "#boxplot para Peso\n",
        "sns.boxplot(data=df_saude, x='gender', y='weight', ax=axes[2], palette=palette)\n",
        "axes[2].set_title('Distribuição de Peso por Gênero')\n",
        "\n",
        "plt.tight_layout()\n",
        "plt.show()\n"
      ],
      "metadata": {
        "id": "qnd56DT7vAug"
      },
      "execution_count": null,
      "outputs": []
    },
    {
      "cell_type": "markdown",
      "source": [
        "Desafio Prático 2: Séries Temporais"
      ],
      "metadata": {
        "id": "2sgxihLnmAHw"
      }
    },
    {
      "cell_type": "markdown",
      "source": [
        "Descrição: Neste desafio, suas alunas irão analisar uma série temporal de dados de\n",
        "vendas.\n",
        "Elas deverão criar gráficos que mostrem as vendas ao longo do tempo, identificar\n",
        "tendências e sazonalidades."
      ],
      "metadata": {
        "id": "vPCXMyXAmF3n"
      }
    },
    {
      "cell_type": "markdown",
      "source": [
        "Tarefas:"
      ],
      "metadata": {
        "id": "2MraP3ZGlnqd"
      }
    },
    {
      "cell_type": "markdown",
      "source": [
        "1.Carregar os dados de um arquivo CSV fornecido (vendas.csv)."
      ],
      "metadata": {
        "id": "xZYyVwOTmOLR"
      }
    },
    {
      "cell_type": "code",
      "source": [
        "import pandas as pd\n",
        "\n",
        "from google.colab import drive\n",
        "drive.mount('/content/drive')\n",
        "\n",
        "with open('/content/drive/My Drive/vendas.csv', 'r') as file:\n",
        "  #ler o conteúdo do arquivo\n",
        "  #para ler todas as linhas:\n",
        "  lines = file.readlines()\n",
        "\n",
        "#arquivo CSV\n",
        "df = pd.read_csv('/content/drive/My Drive/vendas.csv')\n",
        "\n",
        "#cópia DataFrame\n",
        "df_vendas = df.copy()\n",
        "\n",
        "#primeiros 5 registros da cópia\n",
        "print(df_vendas.head())"
      ],
      "metadata": {
        "id": "oufRjLtasISM"
      },
      "execution_count": null,
      "outputs": []
    },
    {
      "cell_type": "markdown",
      "source": [
        "2.Criar um gráfico de linhas das vendas ao longo do tempo usando Matplotlib."
      ],
      "metadata": {
        "id": "b_Yyh04gmOVX"
      }
    },
    {
      "cell_type": "code",
      "source": [
        "import matplotlib.pyplot as plt\n",
        "\n",
        "#carregar dados\n",
        "df = pd.read_csv('/content/drive/My Drive/vendas.csv')\n",
        "\n",
        "#cópia DataFrame\n",
        "df_vendas = df.copy()\n",
        "\n",
        "#garantir que coluna datas esteja no formato datetime\n",
        "df_vendas['date'] = pd.to_datetime(df_vendas['date'])\n",
        "\n",
        "#criar o gráfico de linha cor rosa\n",
        "plt.figure(figsize=(10, 6))\n",
        "plt.plot(df_vendas['date'], df_vendas['sales'], color='orange', marker='o')\n",
        "\n",
        "#adicionar título e rótulos aos eixos\n",
        "plt.title('Vendas ao longo do tempo', fontsize=14)\n",
        "plt.xlabel('Data', fontsize=12)\n",
        "plt.ylabel('Vendas', fontsize=12)\n",
        "\n",
        "#adicionar grade ao gráfico\n",
        "plt.grid(True)\n",
        "\n",
        "#mostrar gráfico\n",
        "plt.xticks(rotation=45)  #rotacionar as datas para melhor visualização\n",
        "plt.tight_layout()  #ajustar o layout\n",
        "plt.show()"
      ],
      "metadata": {
        "id": "PNcuyRMfsI2v"
      },
      "execution_count": null,
      "outputs": []
    },
    {
      "cell_type": "markdown",
      "source": [
        "3.Criar um gráfico de decomposição sazonal usando Seaborn."
      ],
      "metadata": {
        "id": "lMvNzfdLmOeX"
      }
    },
    {
      "cell_type": "code",
      "source": [
        "import seaborn as sns\n",
        "from statsmodels.tsa.seasonal import seasonal_decompose\n",
        "\n",
        "#definir a coluna 'date' como índice\n",
        "df_vendas.set_index('date', inplace=True)\n",
        "\n",
        "#decomposição sazonal (usando a decomposição aditiva)\n",
        "decomposition = seasonal_decompose(df_vendas['sales'], model='additive', period=7)  # period=7 pode ser ajustado conforme a sazonalidade\n",
        "\n",
        "#extrair componentes\n",
        "trend = decomposition.trend\n",
        "seasonal = decomposition.seasonal\n",
        "residual = decomposition.resid\n",
        "\n",
        "#configurar gráfico\n",
        "plt.figure(figsize=(12, 8))\n",
        "\n",
        "#plotar tendência\n",
        "plt.subplot(3, 1, 1)\n",
        "sns.lineplot(x=df_vendas.index, y=trend, color='blue')\n",
        "plt.title('Tendência')\n",
        "\n",
        "#plotar sazonalidade\n",
        "plt.subplot(3, 1, 2)\n",
        "sns.lineplot(x=df_vendas.index, y=seasonal, color='green')\n",
        "plt.title('Sazonalidade')\n",
        "\n",
        "#plotar resíduos\n",
        "plt.subplot(3, 1, 3)\n",
        "sns.lineplot(x=df_vendas.index, y=residual, color='red')\n",
        "plt.title('Resíduos')\n",
        "\n",
        "#layout\n",
        "plt.tight_layout()\n",
        "plt.show()\n"
      ],
      "metadata": {
        "id": "5_IQki8nDg8I"
      },
      "execution_count": null,
      "outputs": []
    },
    {
      "cell_type": "markdown",
      "source": [
        "4.Criar um gráfico interativo que permita a exploração dos dados de vendas ao longo\n",
        "do tempo usando Plotly."
      ],
      "metadata": {
        "id": "dMQzsC_GmOma"
      }
    },
    {
      "cell_type": "code",
      "source": [
        "#restaurar date como coluna no dataframe para fazer Plotly\n",
        "df_vendas.reset_index(inplace=True)"
      ],
      "metadata": {
        "id": "NsWjhUGisdGC"
      },
      "execution_count": null,
      "outputs": []
    },
    {
      "cell_type": "code",
      "source": [
        "print(df_vendas.head())"
      ],
      "metadata": {
        "id": "Cj_mDQmJtY2F"
      },
      "execution_count": null,
      "outputs": []
    },
    {
      "cell_type": "code",
      "source": [
        "import pandas as pd\n",
        "import plotly.express as px\n",
        "\n",
        "#gráfico interativo com Plotly\n",
        "fig = px.line(df_vendas, x='date', y='sales', title='Vendas ao longo do tempo')\n",
        "\n",
        "#cor da linha rosa\n",
        "fig.update_traces(line=dict(color='orange'))\n",
        "\n",
        "#mostrar gráfico\n",
        "fig.show()\n"
      ],
      "metadata": {
        "id": "b5tQ-k5bsKHz"
      },
      "execution_count": null,
      "outputs": []
    }
  ]
}