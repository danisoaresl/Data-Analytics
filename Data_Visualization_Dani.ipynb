{
  "nbformat": 4,
  "nbformat_minor": 0,
  "metadata": {
    "colab": {
      "private_outputs": true,
      "provenance": [],
      "authorship_tag": "ABX9TyM1E4kH5Smid1225zyjYddh",
      "include_colab_link": true
    },
    "kernelspec": {
      "name": "python3",
      "display_name": "Python 3"
    },
    "language_info": {
      "name": "python"
    }
  },
  "cells": [
    {
      "cell_type": "markdown",
      "metadata": {
        "id": "view-in-github",
        "colab_type": "text"
      },
      "source": [
        "<a href=\"https://colab.research.google.com/github/danisoaresl/Data-Analytics/blob/main/Data_Visualization_Dani.ipynb\" target=\"_parent\"><img src=\"https://colab.research.google.com/assets/colab-badge.svg\" alt=\"Open In Colab\"/></a>"
      ]
    },
    {
      "cell_type": "markdown",
      "source": [
        "Exercício Prático - Data Visualization"
      ],
      "metadata": {
        "id": "zCA78Q19lXaK"
      }
    },
    {
      "cell_type": "markdown",
      "source": [
        "Desafio Prático 1: Visualizando Dados Diferentes"
      ],
      "metadata": {
        "id": "ghcCYfCrldWt"
      }
    },
    {
      "cell_type": "markdown",
      "source": [
        "Descrição: Neste desafio, suas alunas irão visualizar dados de diferentes formas utilizando\n",
        "Matplotlib, Seaborn e Plotly. Elas deverão criar gráficos que mostrem a distribuição dos\n",
        "dados, correlações entre variáveis e tendências."
      ],
      "metadata": {
        "id": "q-8IkBGnlhjM"
      }
    },
    {
      "cell_type": "markdown",
      "source": [
        "Tarefas:"
      ],
      "metadata": {
        "id": "sXMRqA5_lXMS"
      }
    },
    {
      "cell_type": "markdown",
      "source": [
        "1. Carregar os dados de um arquivo CSV fornecido (saude.csv)."
      ],
      "metadata": {
        "id": "o8NMy-rMlnMD"
      }
    },
    {
      "cell_type": "code",
      "source": [
        "import pandas as pd\n",
        "\n",
        "from google.colab import drive\n",
        "drive.mount('/content/drive')\n",
        "\n",
        "with open('/content/drive/My Drive/saude.csv', 'r') as file:\n",
        "  #ler o conteúdo do arquivo\n",
        "  #para ler todas as linhas:\n",
        "  lines = file.readlines()\n",
        "\n",
        "#ler arquivo CSV\n",
        "df = pd.read_csv('/content/drive/My Drive/saude.csv')\n",
        "\n",
        "#criar cópia DataFrame\n",
        "df_saude = df.copy()\n",
        "\n",
        "#visualizar os primeiros 5 registros da cópia\n",
        "print(df_saude.head())"
      ],
      "metadata": {
        "id": "WWEyqySOop8i"
      },
      "execution_count": null,
      "outputs": []
    },
    {
      "cell_type": "markdown",
      "source": [
        "2. Criar um histograma da variável 'age' usando Matplotlib."
      ],
      "metadata": {
        "id": "BOuH0MGzlngx"
      }
    },
    {
      "cell_type": "code",
      "execution_count": null,
      "metadata": {
        "id": "yPnM-XVSlWUL"
      },
      "outputs": [],
      "source": [
        "import pandas as pd\n",
        "import matplotlib.pyplot as plt\n",
        "\n",
        "#criar o histograma da variável 'age'\n",
        "plt.hist(df_saude['age'], bins=10, color='pink')  # bins define o número de barras no histograma\n",
        "\n",
        "#adicionar títulos aos eixos\n",
        "plt.xlabel('Idade')\n",
        "plt.ylabel('Frequência')\n",
        "plt.title('Distribuição das Idades')\n",
        "\n",
        "#mostrar gráfico\n",
        "plt.show()"
      ]
    },
    {
      "cell_type": "markdown",
      "source": [
        "3. Criar um gráfico de dispersão mostrando a relação entre 'height' e 'weight' usando\n",
        "Seaborn."
      ],
      "metadata": {
        "id": "-xY1z-dNlnwj"
      }
    },
    {
      "cell_type": "code",
      "source": [
        "import pandas as pd\n",
        "import seaborn as sns\n",
        "import matplotlib.pyplot as plt\n",
        "\n",
        "#criando o gráfico de dispersão\n",
        "sns.scatterplot(data=df_saude, x='height', y='weight', color='pink')\n",
        "\n",
        "#adicionando título e rótulos aos eixos\n",
        "plt.title('Relação entre Altura e Peso')\n",
        "plt.xlabel('Altura (cm)')\n",
        "plt.ylabel('Peso (kg)')\n",
        "\n",
        "plt.show()"
      ],
      "metadata": {
        "id": "XQ_KmQS_l_sN"
      },
      "execution_count": null,
      "outputs": []
    },
    {
      "cell_type": "markdown",
      "source": [
        "4. Criar um gráfico interativo de barras mostrando a contagem de indivíduos por\n",
        "'gender' usando Plotly."
      ],
      "metadata": {
        "id": "nMD-YySclnWi"
      }
    },
    {
      "cell_type": "code",
      "source": [
        "import pandas as pd\n",
        "import plotly.express as px\n",
        "\n",
        "#calculando contagem de cada gênero\n",
        "gender_counts = df_saude['gender'].value_counts().reset_index()\n",
        "gender_counts.columns = ['gender', 'contagem']\n",
        "\n",
        "#gráfico de barras interativo\n",
        "fig = px.bar(gender_counts, x='gender', y='contagem', color='gender', color_discrete_sequence=['pink'],\n",
        "            labels={'gender': 'Gênero', 'contagem': 'Contagem'},\n",
        "            title='Contagem de Indivíduos por Gênero')\n",
        "\n",
        "#mostrar gráfico\n",
        "fig.show()\n"
      ],
      "metadata": {
        "id": "BrvtVKviq8H1"
      },
      "execution_count": null,
      "outputs": []
    },
    {
      "cell_type": "code",
      "source": [
        "# Calculando a contagem de cada gênero\n",
        "gender_counts = df_saude['gender'].value_counts().reset_index()\n",
        "gender_counts.columns = ['gender', 'contagem']\n",
        "\n",
        "# Imprimindo as colunas para conferir os valores\n",
        "print(gender_counts)"
      ],
      "metadata": {
        "id": "RUBqMecArfJa"
      },
      "execution_count": null,
      "outputs": []
    },
    {
      "cell_type": "markdown",
      "source": [
        "O eixo x deve ter os valores \"M\" e \"F\".\n",
        "\n",
        "O eixo y deve mostrar a contagem de 5 para cada gênero."
      ],
      "metadata": {
        "id": "yBV8soE-rvKY"
      }
    },
    {
      "cell_type": "markdown",
      "source": [
        "Desafio Prático 2: Séries Temporais"
      ],
      "metadata": {
        "id": "2sgxihLnmAHw"
      }
    },
    {
      "cell_type": "markdown",
      "source": [
        "Descrição: Neste desafio, suas alunas irão analisar uma série temporal de dados de\n",
        "vendas.\n",
        "Elas deverão criar gráficos que mostrem as vendas ao longo do tempo, identificar\n",
        "tendências e sazonalidades."
      ],
      "metadata": {
        "id": "vPCXMyXAmF3n"
      }
    },
    {
      "cell_type": "markdown",
      "source": [
        "Tarefas:"
      ],
      "metadata": {
        "id": "2MraP3ZGlnqd"
      }
    },
    {
      "cell_type": "markdown",
      "source": [
        "1.Carregar os dados de um arquivo CSV fornecido (vendas.csv)."
      ],
      "metadata": {
        "id": "xZYyVwOTmOLR"
      }
    },
    {
      "cell_type": "code",
      "source": [
        "import pandas as pd\n",
        "\n",
        "from google.colab import drive\n",
        "drive.mount('/content/drive')\n",
        "\n",
        "with open('/content/drive/My Drive/vendas.csv', 'r') as file:\n",
        "  #ler o conteúdo do arquivo\n",
        "  #para ler todas as linhas:\n",
        "  lines = file.readlines()\n",
        "\n",
        "#ler arquivo CSV\n",
        "df = pd.read_csv('/content/drive/My Drive/vendas.csv')\n",
        "\n",
        "#criar cópia DataFrame\n",
        "df_vendas = df.copy()\n",
        "\n",
        "#visualizar os primeiros 5 registros da cópia\n",
        "print(df_vendas.head())"
      ],
      "metadata": {
        "id": "oufRjLtasISM"
      },
      "execution_count": null,
      "outputs": []
    },
    {
      "cell_type": "markdown",
      "source": [
        "2.Criar um gráfico de linhas das vendas ao longo do tempo usando Matplotlib."
      ],
      "metadata": {
        "id": "b_Yyh04gmOVX"
      }
    },
    {
      "cell_type": "code",
      "source": [
        "import matplotlib.pyplot as plt\n",
        "\n",
        "#carregar dados\n",
        "df = pd.read_csv('/content/drive/My Drive/vendas.csv')\n",
        "\n",
        "#cópia DataFrame\n",
        "df_vendas = df.copy()\n",
        "\n",
        "#garantir que coluna datas esteja no formato datetime\n",
        "df_vendas['date'] = pd.to_datetime(df_vendas['date'])\n",
        "\n",
        "#criar o gráfico de linha cor rosa\n",
        "plt.figure(figsize=(10, 6))\n",
        "plt.plot(df_vendas['date'], df_vendas['sales'], color='pink', marker='o')\n",
        "\n",
        "#adicionar título e rótulos aos eixos\n",
        "plt.title('Vendas ao longo do tempo', fontsize=14)\n",
        "plt.xlabel('Data', fontsize=12)\n",
        "plt.ylabel('Vendas', fontsize=12)\n",
        "\n",
        "#adicionar grade ao gráfico\n",
        "plt.grid(True)\n",
        "\n",
        "#mostrar gráfico\n",
        "plt.xticks(rotation=45)  # Rotacionar as datas para melhor visualização\n",
        "plt.tight_layout()  # Ajustar o layout\n",
        "plt.show()"
      ],
      "metadata": {
        "id": "PNcuyRMfsI2v"
      },
      "execution_count": null,
      "outputs": []
    },
    {
      "cell_type": "markdown",
      "source": [
        "3.Criar um gráfico de decomposição sazonal usando Seaborn."
      ],
      "metadata": {
        "id": "lMvNzfdLmOeX"
      }
    },
    {
      "cell_type": "code",
      "source": [
        "import seaborn as sns\n",
        "from statsmodels.tsa.seasonal import seasonal_decompose\n",
        "\n",
        "#definir a coluna 'date' como índice\n",
        "df_vendas.set_index('date', inplace=True)\n",
        "\n",
        "#decomposição sazonal (usando a decomposição aditiva)\n",
        "decomposition = seasonal_decompose(df_vendas['sales'], model='additive', period=7)  # period=7 pode ser ajustado conforme a sazonalidade\n",
        "\n",
        "#extrair componentes\n",
        "trend = decomposition.trend\n",
        "seasonal = decomposition.seasonal\n",
        "residual = decomposition.resid\n",
        "\n",
        "#configurar gráfico\n",
        "plt.figure(figsize=(12, 8))\n",
        "\n",
        "#plotar tendência\n",
        "plt.subplot(3, 1, 1)\n",
        "sns.lineplot(x=df_vendas.index, y=trend, color='blue')\n",
        "plt.title('Tendência')\n",
        "\n",
        "#plotar sazonalidade\n",
        "plt.subplot(3, 1, 2)\n",
        "sns.lineplot(x=df_vendas.index, y=seasonal, color='green')\n",
        "plt.title('Sazonalidade')\n",
        "\n",
        "#plotar resíduos\n",
        "plt.subplot(3, 1, 3)\n",
        "sns.lineplot(x=df_vendas.index, y=residual, color='red')\n",
        "plt.title('Resíduos')\n",
        "\n",
        "#layout\n",
        "plt.tight_layout()\n",
        "plt.show()\n"
      ],
      "metadata": {
        "id": "5_IQki8nDg8I"
      },
      "execution_count": null,
      "outputs": []
    },
    {
      "cell_type": "markdown",
      "source": [
        "4.Criar um gráfico interativo que permita a exploração dos dados de vendas ao longo\n",
        "do tempo usando Plotly."
      ],
      "metadata": {
        "id": "dMQzsC_GmOma"
      }
    },
    {
      "cell_type": "code",
      "source": [
        "import pandas as pd\n",
        "import plotly.express as px\n",
        "\n",
        "#garantir que a coluna de datas esteja no formato datetime\n",
        "df_vendas['date'] = pd.to_datetime(df_vendas['date'])\n",
        "\n",
        "#criar o gráfico interativo com Plotly\n",
        "fig = px.line(df_vendas, x='date', y='sales', title='Vendas ao longo do tempo')\n",
        "\n",
        "#alterar linha para rosa\n",
        "fig.update_traces(line=dict(color='pink'))\n",
        "\n",
        "#mostrar gráfico\n",
        "fig.show()\n"
      ],
      "metadata": {
        "id": "b5tQ-k5bsKHz"
      },
      "execution_count": null,
      "outputs": []
    }
  ]
}