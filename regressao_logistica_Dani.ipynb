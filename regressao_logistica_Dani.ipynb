{
  "nbformat": 4,
  "nbformat_minor": 0,
  "metadata": {
    "colab": {
      "private_outputs": true,
      "provenance": [],
      "cell_execution_strategy": "setup",
      "authorship_tag": "ABX9TyMx6BdyeuZ4SPOLbD3gRh4F",
      "include_colab_link": true
    },
    "kernelspec": {
      "name": "python3",
      "display_name": "Python 3"
    },
    "language_info": {
      "name": "python"
    }
  },
  "cells": [
    {
      "cell_type": "markdown",
      "metadata": {
        "id": "view-in-github",
        "colab_type": "text"
      },
      "source": [
        "<a href=\"https://colab.research.google.com/github/danisoaresl/Data-Analytics/blob/main/regressao_logistica_Dani.ipynb\" target=\"_parent\"><img src=\"https://colab.research.google.com/assets/colab-badge.svg\" alt=\"Open In Colab\"/></a>"
      ]
    },
    {
      "cell_type": "markdown",
      "source": [
        "Modelos de Classificação e Regressão\n",
        "\n",
        "Logística\n",
        "\n",
        "Desafio Final\n",
        "\n",
        "1. Utilizando o data set iris (iris.csv em anexo ou usandoo sklearn):\n",
        "\n",
        "Exemplo de como fazer a importação do dataset usando o sklearn\n",
        "\n",
        "from sklearn import datasets\n",
        "iris = datasets.load_iris()\n",
        "\n",
        "Responda:"
      ],
      "metadata": {
        "id": "AdLq-_351lZg"
      }
    },
    {
      "cell_type": "markdown",
      "source": [
        "a. Faça uma análise inicial sobre esse dataset"
      ],
      "metadata": {
        "id": "Fd2FRyky1oqw"
      }
    },
    {
      "cell_type": "code",
      "source": [
        "#importação de bibliotecas\n",
        "from sklearn import datasets\n",
        "import pandas as pd\n",
        "import seaborn as sns\n",
        "import matplotlib.pyplot as plt"
      ],
      "metadata": {
        "id": "6mpVAKIw9vKQ"
      },
      "execution_count": null,
      "outputs": []
    },
    {
      "cell_type": "code",
      "source": [
        "from google.colab import drive\n",
        "\n",
        "# Montar o Google Drive\n",
        "drive.mount('/content/drive')\n",
        "\n",
        "# Carregar o conjunto de dados Iris do sklearn\n",
        "iris = datasets.load_iris()\n",
        "\n",
        "# Carregar os conjuntos de dados train e test\n",
        "train = pd.read_csv('/content/drive/MyDrive/train.csv')\n",
        "test = pd.read_csv('/content/drive/MyDrive/test.csv')\n",
        "iris = pd.read_csv('/content/drive/MyDrive/iris.csv')\n",
        "\n",
        "# Fazer cópias dos DataFrames\n",
        "df_train = train.copy()\n",
        "df_test = test.copy()\n",
        "df_iris = iris.copy()\n",
        "\n",
        "# Visualizar os dados\n",
        "print(\"Train DataFrame:\")\n",
        "print(df_train.head())\n",
        "print(\"\\nTest DataFrame:\")\n",
        "print(df_test.head())\n",
        "print(\"\\nIris DataFrame:\")\n",
        "print(df_iris.head())"
      ],
      "metadata": {
        "id": "eFEtwQRd94-8"
      },
      "execution_count": null,
      "outputs": []
    },
    {
      "cell_type": "code",
      "source": [
        "print(df_iris.isnull().sum())"
      ],
      "metadata": {
        "id": "80IH0RPfA5z_"
      },
      "execution_count": null,
      "outputs": []
    },
    {
      "cell_type": "code",
      "source": [
        "#imprimir estatísticas descritivas para colunas numéricas\n",
        "print(df_iris.describe())"
      ],
      "metadata": {
        "id": "TSI8FK2--ubW"
      },
      "execution_count": null,
      "outputs": []
    },
    {
      "cell_type": "code",
      "source": [
        "#contar o número de amostras em cada classe\n",
        "print(df_iris['Species'].value_counts())"
      ],
      "metadata": {
        "id": "BSzlqQJVCb6y"
      },
      "execution_count": null,
      "outputs": []
    },
    {
      "cell_type": "markdown",
      "source": [
        "b. Use o boxplot e o histograma para caracterizar as propriedades\n",
        "de cada uma das espécies existentes."
      ],
      "metadata": {
        "id": "LdVS2-Io1mQF"
      }
    },
    {
      "cell_type": "code",
      "source": [
        "print(df_iris.columns)"
      ],
      "metadata": {
        "id": "eF8ZUgFOA2Q6"
      },
      "execution_count": null,
      "outputs": []
    },
    {
      "cell_type": "code",
      "source": [
        "#boxplot para cada característica\n",
        "plt.figure(figsize=(12, 8))\n",
        "sns.boxplot(data=df_iris, orient=\"h\")\n",
        "plt.title(\"Boxplot das Características do Iris\")\n",
        "plt.show()"
      ],
      "metadata": {
        "id": "GuYFPgPhDmhY"
      },
      "execution_count": null,
      "outputs": []
    },
    {
      "cell_type": "code",
      "source": [
        "#histogramas para cada característica\n",
        "df_iris.hist(bins=20, figsize=(10, 8))\n",
        "plt.tight_layout()\n",
        "plt.show()"
      ],
      "metadata": {
        "id": "cRTtI-7mDeyX"
      },
      "execution_count": null,
      "outputs": []
    },
    {
      "cell_type": "code",
      "source": [
        "#pairplot\n",
        "sns.pairplot(df_iris, hue='Species')\n",
        "plt.title(\"Pairplot do Dataset Iris\")\n",
        "plt.show()"
      ],
      "metadata": {
        "id": "aO1bhQG4Dwwf"
      },
      "execution_count": null,
      "outputs": []
    },
    {
      "cell_type": "code",
      "source": [
        "#calcular a matriz de correlação apenas com colunas numéricas\n",
        "correlation_matrix = df_iris.drop(columns='Species').corr()\n",
        "\n",
        "#plotar a matriz de correlação\n",
        "plt.figure(figsize=(10, 8))\n",
        "sns.heatmap(correlation_matrix, annot=True, cmap='coolwarm', fmt='.2f')\n",
        "plt.title(\"Matriz de Correlação\")\n",
        "plt.show()\n"
      ],
      "metadata": {
        "id": "sJY3Cj70EPAt"
      },
      "execution_count": null,
      "outputs": []
    },
    {
      "cell_type": "markdown",
      "source": [
        "c. Somente olhando esses gráficos, é possível afirmar que uma ou mais\n",
        "propriedades (Sepal_Length, Sepal_Width, Petal_Length, Petal_Width)\n",
        "são suficientes para distinguir as espécies?\n",
        "\n",
        "\n",
        "É possível concluir que características como petal length e petal width são as mais distintivas para separar as espécies no dataset Iris.\n"
      ],
      "metadata": {
        "id": "HdMGad4m1nj1"
      }
    },
    {
      "cell_type": "code",
      "source": [
        "df_iris.describe()"
      ],
      "metadata": {
        "id": "hRbVel3tDezo"
      },
      "execution_count": null,
      "outputs": []
    },
    {
      "cell_type": "code",
      "source": [
        "# Boxplot para Sepal Length\n",
        "plt.figure(figsize=(10, 6))\n",
        "sns.boxplot(x='Species', y='Sepal_Length', data=df_iris)\n",
        "plt.title('Boxplot de Sepal Length por Espécie')\n",
        "plt.show()"
      ],
      "metadata": {
        "id": "9AJWHu9jFUjt"
      },
      "execution_count": null,
      "outputs": []
    },
    {
      "cell_type": "code",
      "source": [
        "#histograma para Sepal Length\n",
        "plt.figure(figsize=(10, 6))\n",
        "sns.histplot(data=df_iris, x='Sepal_Length', hue='Species', multiple='stack', bins=15)\n",
        "plt.title('Histograma de Sepal Length por Espécie')\n",
        "plt.show()"
      ],
      "metadata": {
        "id": "BkFUD0d7Fbs7"
      },
      "execution_count": null,
      "outputs": []
    },
    {
      "cell_type": "code",
      "source": [
        "# Boxplot para Sepal Width\n",
        "plt.figure(figsize=(10, 6))\n",
        "sns.boxplot(x='Species', y='Sepal_Width', data=df_iris)\n",
        "plt.title('Boxplot de Sepal Width por Espécie')\n",
        "plt.show()"
      ],
      "metadata": {
        "id": "wkzHlWLTF2X1"
      },
      "execution_count": null,
      "outputs": []
    },
    {
      "cell_type": "code",
      "source": [
        "#histograma para Sepal Width\n",
        "plt.figure(figsize=(10, 6))\n",
        "sns.histplot(data=df_iris, x='Sepal_Width', hue='Species', multiple='stack', bins=15)\n",
        "plt.title('Histograma de Sepal Width por Espécie')\n",
        "plt.show()"
      ],
      "metadata": {
        "id": "-FGbqZWPGDc1"
      },
      "execution_count": null,
      "outputs": []
    },
    {
      "cell_type": "code",
      "source": [
        "# Boxplot para Petal Length\n",
        "plt.figure(figsize=(10, 6))\n",
        "sns.boxplot(x='Species', y='Petal_Length', data=df_iris)\n",
        "plt.title('Boxplot de Petal Length por Espécie')\n",
        "plt.show()"
      ],
      "metadata": {
        "id": "SCBycdUbGZlS"
      },
      "execution_count": null,
      "outputs": []
    },
    {
      "cell_type": "code",
      "source": [
        "#histograma para Petal Length\n",
        "plt.figure(figsize=(10, 6))\n",
        "sns.histplot(data=df_iris, x='Petal_Length', hue='Species', multiple='stack', bins=15)\n",
        "plt.title('Histograma de Petal Length por Espécie')\n",
        "plt.show()"
      ],
      "metadata": {
        "id": "nGvaBId2GZ2k"
      },
      "execution_count": null,
      "outputs": []
    },
    {
      "cell_type": "code",
      "source": [
        "#boxplot para Petal Width\n",
        "plt.figure(figsize=(10, 6))\n",
        "sns.boxplot(x='Species', y='Petal_Width', data=df_iris)\n",
        "plt.title('Boxplot de Petal Width por Espécie')\n",
        "plt.show()"
      ],
      "metadata": {
        "id": "7_MbWfkXGaSy"
      },
      "execution_count": null,
      "outputs": []
    },
    {
      "cell_type": "code",
      "source": [
        "#histograma para Petal Width\n",
        "plt.figure(figsize=(10, 6))\n",
        "sns.histplot(data=df_iris, x='Petal_Width', hue='Species', multiple='stack', bins=15)\n",
        "plt.title('Histograma de Petal Width por Espécie')\n",
        "plt.show()"
      ],
      "metadata": {
        "id": "aNHz_aHXGagF"
      },
      "execution_count": null,
      "outputs": []
    },
    {
      "cell_type": "code",
      "source": [
        "from scipy import stats\n",
        "\n",
        "#definir o atributo para o teste ANOVA\n",
        "feature_to_test = 'Sepal_Length'\n",
        "\n",
        "#separar os dados para cada espécie com base na coluna 'Species'\n",
        "setosa_data = df_iris[df_iris['Species'] == 'setosa'][feature_to_test]\n",
        "versicolor_data = df_iris[df_iris['Species'] == 'versicolor'][feature_to_test]\n",
        "virginica_data = df_iris[df_iris['Species'] == 'virginica'][feature_to_test]\n",
        "\n",
        "#realizar ANOVA unidirecional\n",
        "f_statistic, p_value = stats.f_oneway(setosa_data, versicolor_data, virginica_data)\n",
        "\n",
        "#imprimir resultados da ANOVA\n",
        "print(f\"ANOVA for {feature_to_test}:\")\n",
        "print(f\"  F-statistic: {f_statistic:.4f}\")\n",
        "print(f\"  p-value: {p_value:.4f}\")\n",
        "\n",
        "#interpretar resultados\n",
        "if p_value < 0.05:\n",
        "    print(f\"A diferença nas médias de {feature_to_test} entre as espécies é significativa.\")\n",
        "else:\n",
        "    print(f\"A diferença nas médias de {feature_to_test} entre as espécies não é significativa.\")\n",
        "\n"
      ],
      "metadata": {
        "id": "UZO0NTJC1u6C"
      },
      "execution_count": null,
      "outputs": []
    },
    {
      "cell_type": "markdown",
      "source": [
        "  F-statistic: 119.2645\n",
        "\n",
        "  p-value: 0.0000\n",
        "  \n",
        "A diferença nas médias de Sepal_Length entre as espécies é significativa."
      ],
      "metadata": {
        "id": "wp2dtDVuIbFZ"
      }
    },
    {
      "cell_type": "markdown",
      "source": [
        "Estatística F: Uma estatística F elevada sugere que existe uma diferença significativa entre as médias do comprimento da sépala entre as diferentes espécies de íris: Setosa, Versicolor e Virginica.\n",
        "\n",
        "Valor p: Um valor p extremamente baixo, indica que as diferenças observadas nas médias são estatisticamente significativas. Isso significa que posso rejeitar a hipótese nula, que afirma que não há diferença entre as médias das diferentes espécies.\n",
        "\n",
        "\n"
      ],
      "metadata": {
        "id": "CkOVXt6tC1ez"
      }
    },
    {
      "cell_type": "markdown",
      "source": [
        "d. Aplique a regressão logística para avaliar o modelo de\n",
        "classificação."
      ],
      "metadata": {
        "id": "4NO0jDhurgVO"
      }
    },
    {
      "cell_type": "code",
      "source": [
        "from sklearn.model_selection import train_test_split, cross_val_score\n",
        "from sklearn.linear_model import LogisticRegression\n",
        "from sklearn.metrics import accuracy_score, confusion_matrix\n",
        "from sklearn.preprocessing import StandardScaler"
      ],
      "metadata": {
        "id": "WezCx9EHGADP"
      },
      "execution_count": null,
      "outputs": []
    },
    {
      "cell_type": "code",
      "source": [
        "#separar recursos (X) e variável de destino (y)\n",
        "X = df_iris.drop(['Species'], axis=1)  # Remova apenas a coluna 'Species'\n",
        "y = df_iris['Species']\n",
        "\n",
        "#escalonar os dados\n",
        "scaler = StandardScaler()\n",
        "X_scaled = scaler.fit_transform(X)\n",
        "\n",
        "#dividir os dados em conjuntos de treinamento e teste\n",
        "X_train, X_test, y_train, y_test = train_test_split(X_scaled, y, test_size=0.2, random_state=42)"
      ],
      "metadata": {
        "id": "jPTmqzMoGmUj"
      },
      "execution_count": null,
      "outputs": []
    },
    {
      "cell_type": "code",
      "source": [
        "#criar e treinar um modelo de regressão logística\n",
        "model = LogisticRegression(max_iter=200)  # Aumentando o número máximo de iterações\n",
        "model.fit(X_train, y_train)"
      ],
      "metadata": {
        "id": "2SNcpoqnK5q9"
      },
      "execution_count": null,
      "outputs": []
    },
    {
      "cell_type": "code",
      "source": [
        "#fazer previsões no conjunto de testes\n",
        "y_pred = model.predict(X_test)"
      ],
      "metadata": {
        "id": "2gXOGxJpLEgO"
      },
      "execution_count": null,
      "outputs": []
    },
    {
      "cell_type": "code",
      "source": [
        "#avaliar o desempenho do modelo\n",
        "accuracy = accuracy_score(y_test, y_pred)\n",
        "conf_matrix = confusion_matrix(y_test, y_pred)\n",
        "\n",
        "#realizar validação cruzada para uma avaliação mais robusta\n",
        "cross_val_accuracy = cross_val_score(model, X_scaled, y, cv=5).mean()  # Acurácia média com validação cruzada\n",
        "cross_val_std = cross_val_score(model, X_scaled, y, cv=5).std()  # Desvio padrão com validação cruzada\n",
        "\n",
        "#imprimir os resultados\n",
        "print(\"Accuracy:\", accuracy)\n",
        "print(\"Confusion Matrix:\\n\", conf_matrix)\n",
        "print(\"Acurácia média (validação cruzada):\", cross_val_accuracy)\n",
        "print(\"Desvio padrão (validação cruzada):\", cross_val_std)"
      ],
      "metadata": {
        "id": "NKn5qt0bGmhA"
      },
      "execution_count": null,
      "outputs": []
    },
    {
      "cell_type": "markdown",
      "source": [
        "e. Calcule a acurácia, precisão e recall."
      ],
      "metadata": {
        "id": "VgjXYvIu3Xw1"
      }
    },
    {
      "cell_type": "code",
      "source": [
        "from sklearn.metrics import accuracy_score, precision_score, recall_score, f1_score\n",
        "\n",
        "#cálculo de métricas\n",
        "accuracy = accuracy_score(y_test, y_pred)\n",
        "precision = precision_score(y_test, y_pred, average='weighted')  # 'weighted' leva em conta a proporção de cada classe\n",
        "recall = recall_score(y_test, y_pred, average='weighted')        # 'weighted' leva em conta a proporção de cada classe\n",
        "f1 = f1_score(y_test, y_pred, average='weighted')                # F1 Score, que é a média harmônica da precisão e do recall\n",
        "\n",
        "#imprimir resultados\n",
        "print(\"Acurácia:\", accuracy)\n",
        "print(\"Precisão:\", precision)\n",
        "print(\"Recall:\", recall)\n",
        "print(\"F1 Score:\", f1)"
      ],
      "metadata": {
        "id": "azdYrHteQRyT"
      },
      "execution_count": null,
      "outputs": []
    },
    {
      "cell_type": "code",
      "source": [
        "from sklearn.preprocessing import LabelEncoder\n",
        "\n",
        "# Codificar os rótulos das espécies\n",
        "encoder = LabelEncoder()\n",
        "y_encoded = encoder.fit_transform(y)\n",
        "\n",
        "# Dividir os dados\n",
        "X_train, X_test, y_train, y_test = train_test_split(X, y_encoded, test_size=0.2, random_state=42)\n",
        "\n",
        "# Treinar o modelo\n",
        "model = LogisticRegression()\n",
        "model.fit(X_train, y_train)\n",
        "\n",
        "# Fazer previsões\n",
        "y_pred = model.predict(X_test)"
      ],
      "metadata": {
        "id": "3Y3cGqj-LS9s"
      },
      "execution_count": null,
      "outputs": []
    },
    {
      "cell_type": "code",
      "source": [
        "from sklearn.metrics import classification_report\n",
        "\n",
        "y_true = y_test  # substitua y_test pelos valores reais de teste\n",
        "y_pred = model.predict(X_test)  # substitua model pelo seu modelo e X_test pelos dados de teste\n",
        "\n",
        "report = classification_report(y_true, y_pred)"
      ],
      "metadata": {
        "id": "VjQy4eCeG92j"
      },
      "execution_count": null,
      "outputs": []
    },
    {
      "cell_type": "code",
      "source": [
        "report = classification_report(y_true, y_pred)\n",
        "print(\"Relatório de Classificação:\\n\", report)"
      ],
      "metadata": {
        "id": "Wxd5nGH0HRvV"
      },
      "execution_count": null,
      "outputs": []
    },
    {
      "cell_type": "markdown",
      "source": [
        "   accuracy                           \n",
        "   f1-score 0.92   \n",
        "\n",
        "   macro avg       \n",
        "   precision, recall, f1-score 0.92      \n",
        "\n",
        "weighted avg       \n",
        "precision, recall, f1-score 0.92      \n",
        "\n",
        "\n",
        "Essas métricas mostram que o modelo tem um desempenho consistente em todas as classes, com leve variação entre elas."
      ],
      "metadata": {
        "id": "CCPWVCFOHuBa"
      }
    },
    {
      "cell_type": "code",
      "source": [
        "import matplotlib.pyplot as plt\n",
        "import seaborn as sns\n",
        "from sklearn.metrics import confusion_matrix\n",
        "\n",
        "#matriz de confusão\n",
        "conf_matrix = confusion_matrix(y_true, y_pred)\n",
        "\n",
        "#plotando a matriz de confusão como gráfico de calor\n",
        "plt.figure(figsize=(10, 8))\n",
        "sns.heatmap(conf_matrix, annot=True, fmt=\"d\", cmap=\"Blues\", cbar=False)\n",
        "plt.title(\"Matriz de Confusão\")\n",
        "plt.xlabel(\"Previsão\")\n",
        "plt.ylabel(\"Real\")\n",
        "plt.show()\n",
        "\n",
        "#resultados\n",
        "print(\"Acurácia:\", accuracy)\n",
        "print(\"Relatório de Classificação:\\n\", report)\n",
        "print(\"Precisão média ponderada:\", precision)\n",
        "print(\"Recall médio ponderado:\", recall)\n"
      ],
      "metadata": {
        "id": "Ap6IWCs2rkIg"
      },
      "execution_count": null,
      "outputs": []
    },
    {
      "cell_type": "markdown",
      "source": [
        "Acurácia: 0.9154285714285715\n",
        "\n",
        "Precisão média ponderada: 0.9152106299252099\n",
        "\n",
        "Recall médio ponderado: 0.9154285714285715"
      ],
      "metadata": {
        "id": "fP-O_zZnJrW8"
      }
    },
    {
      "cell_type": "markdown",
      "source": [
        "f. Plote a matriz de confusão com matplotlib ou seaborn."
      ],
      "metadata": {
        "id": "uXGHqGiQrkQP"
      }
    },
    {
      "cell_type": "code",
      "source": [
        "#plotar a matriz de confusão\n",
        "sns.heatmap(conf_matrix, annot=True, fmt='g', cmap='Blues')\n",
        "plt.xlabel('Predito')\n",
        "plt.ylabel('Real')\n",
        "plt.title('Matriz de Confusão')\n",
        "plt.show()\n"
      ],
      "metadata": {
        "id": "3qJGony7rkYH"
      },
      "execution_count": null,
      "outputs": []
    },
    {
      "cell_type": "markdown",
      "source": [
        "2. Utilizando o dataset load_digits. Exemplo de como fazer a\n",
        "importação do dataset usando o sklearn:\n",
        "\n",
        "from sklearn.datasets import\n",
        "\n",
        "load_digits digits = load_digits()\n",
        "\n",
        "Responda:\n",
        "\n",
        "a. Faça uma análise inicial sobre esse\n",
        "dataset\n",
        "\n",
        "i. Quantos dados possui?\n",
        "\n",
        "O dataset possui 1.797 amostras e 64 características (pixels) por amostra."
      ],
      "metadata": {
        "id": "Mrp-SxNHPLaP"
      }
    },
    {
      "cell_type": "code",
      "source": [
        "#carregar o dataset\n",
        "from sklearn.datasets import load_digits\n",
        "digits = load_digits()\n",
        "\n",
        "print(digits.keys())"
      ],
      "metadata": {
        "id": "JiEdHdUBP0R8"
      },
      "execution_count": null,
      "outputs": []
    },
    {
      "cell_type": "markdown",
      "source": [
        "data: As intensidades dos pixels em um formato bidimensional.\n",
        "\n",
        "target: A classe do dígito (0 a 9).\n",
        "\n",
        "images: As imagens originais em formato 8x8.\n",
        "\n",
        "DESCR: Descrição completa do dataset."
      ],
      "metadata": {
        "id": "QD6w824FdQRj"
      }
    },
    {
      "cell_type": "code",
      "source": [
        "#importar bibliotecas\n",
        "import pandas as pd\n",
        "import numpy as np\n",
        "import matplotlib.pyplot as plt\n",
        "from sklearn.datasets import load_digits"
      ],
      "metadata": {
        "id": "JOfvvPZyM0ss"
      },
      "execution_count": null,
      "outputs": []
    },
    {
      "cell_type": "code",
      "source": [
        "#dataFrame para facilitar a análise\n",
        "df_digits = pd.DataFrame(digits.data, columns=range(64))\n",
        "df_digits['target'] = digits.target"
      ],
      "metadata": {
        "id": "Jx2Mh952M5k3"
      },
      "execution_count": null,
      "outputs": []
    },
    {
      "cell_type": "code",
      "source": [
        "#estatísticas descritivas\n",
        "print(df_digits.describe())"
      ],
      "metadata": {
        "id": "RI1Scnx6M7r5"
      },
      "execution_count": null,
      "outputs": []
    },
    {
      "cell_type": "code",
      "source": [
        "#contagem de exemplos por classe\n",
        "print(df_digits['target'].value_counts())"
      ],
      "metadata": {
        "id": "rLQ6IRyMM9s6"
      },
      "execution_count": null,
      "outputs": []
    },
    {
      "cell_type": "code",
      "source": [
        "#contagem de exemplos por classe como uma lista em linha\n",
        "counts = df_digits['target'].value_counts().sort_index()\n",
        "print(\"Contagem de exemplos por classe (0-9):\", list(counts))\n",
        "\n",
        "#alternativamente, exibir contagem organizada por dígito\n",
        "for digit, count in counts.items():\n",
        "    print(f\"Dígito {digit}: {count} exemplos\")\n"
      ],
      "metadata": {
        "id": "g27Y2ndMd-EK"
      },
      "execution_count": null,
      "outputs": []
    },
    {
      "cell_type": "code",
      "source": [
        "#visualização da distribuição de pixels\n",
        "plt.hist(df_digits.iloc[:, 0], bins=30)\n",
        "plt.xlabel('Intensidade do pixel')\n",
        "plt.ylabel('Frequência')\n",
        "plt.title('Distribuição da intensidade do primeiro pixel')\n",
        "plt.show()"
      ],
      "metadata": {
        "id": "dEiAS2EUS-5E"
      },
      "execution_count": null,
      "outputs": []
    },
    {
      "cell_type": "code",
      "source": [
        "# Filtrar uma amostra do dígito \"1\" e exibi-la\n",
        "index_of_one = np.where(digits.target == 1)[0][0]  # Primeira ocorrência do dígito \"1\"\n",
        "image_of_one = digits.images[index_of_one]"
      ],
      "metadata": {
        "id": "V4Mds1ayeesv"
      },
      "execution_count": null,
      "outputs": []
    },
    {
      "cell_type": "code",
      "source": [
        "# Exibir o dígito \"1\" em escala de cinza\n",
        "plt.imshow(image_of_one, cmap='gray')\n",
        "plt.title('Dígito 1 em Preto e Branco')\n",
        "plt.axis('off')  # Ocultar os eixos para uma melhor visualização\n",
        "plt.show()"
      ],
      "metadata": {
        "id": "yr5rs0BDegNx"
      },
      "execution_count": null,
      "outputs": []
    },
    {
      "cell_type": "markdown",
      "source": [
        "ii. Existem dados nulos? Se sim quantos?\n",
        "\n",
        "O resultado 0 indica que não há dados nulos."
      ],
      "metadata": {
        "id": "X4H_IMJ-P4Si"
      }
    },
    {
      "cell_type": "code",
      "source": [
        "#verificar se há valores nulos em todo o DataFrame\n",
        "print(df_digits.isnull().sum().sum())"
      ],
      "metadata": {
        "id": "F1oCoyvMP5U9"
      },
      "execution_count": null,
      "outputs": []
    },
    {
      "cell_type": "markdown",
      "source": [
        "Não há dados nulos."
      ],
      "metadata": {
        "id": "TpP5N1Stfy-w"
      }
    },
    {
      "cell_type": "markdown",
      "source": [
        "iii. Todos são dados numéricos ou existem colunas com dados\n",
        "categóricos?"
      ],
      "metadata": {
        "id": "Dss9uZ6tP8Yu"
      }
    },
    {
      "cell_type": "markdown",
      "source": [
        "No dataset load_digits, todos os dados são numéricos, incluindo a coluna target."
      ],
      "metadata": {
        "id": "_zeUFE22UnQu"
      }
    },
    {
      "cell_type": "code",
      "source": [
        "#verificar os tipos de dados de cada coluna\n",
        "print(df_digits.dtypes)"
      ],
      "metadata": {
        "id": "okebQM0tP903"
      },
      "execution_count": null,
      "outputs": []
    },
    {
      "cell_type": "markdown",
      "source": [
        "b. Aplique a regressão logística para construir e avaliar o modelo de\n",
        "classificação."
      ],
      "metadata": {
        "id": "pp4WwgLpP_QC"
      }
    },
    {
      "cell_type": "code",
      "source": [
        "#importar as bibliotecas\n",
        "from sklearn.datasets import load_digits\n",
        "from sklearn.model_selection import train_test_split\n",
        "from sklearn.linear_model import LogisticRegression\n",
        "from sklearn.metrics import accuracy_score, confusion_matrix, classification_report"
      ],
      "metadata": {
        "id": "RHt6u49RQCC4"
      },
      "execution_count": null,
      "outputs": []
    },
    {
      "cell_type": "code",
      "source": [
        "#carregar o dataset\n",
        "from sklearn.datasets import load_digits\n",
        "digits = load_digits()"
      ],
      "metadata": {
        "id": "HW2X0IsLVpiW"
      },
      "execution_count": null,
      "outputs": []
    },
    {
      "cell_type": "code",
      "source": [
        "#dividir os dados em conjuntos de treinamento e teste:\n",
        "X_train, X_test, y_train, y_test = train_test_split(digits.data, digits.target, test_size=0.2, random_state=42)"
      ],
      "metadata": {
        "id": "rUvrijfYVrDp"
      },
      "execution_count": null,
      "outputs": []
    },
    {
      "cell_type": "code",
      "source": [
        "#criar e treinar um modelo de regressão logística\n",
        "model = LogisticRegression(multi_class='multinomial', solver='lbfgs', max_iter=1000)\n",
        "model.fit(X_train, y_train)"
      ],
      "metadata": {
        "id": "X-eD8Y0xWT4C"
      },
      "execution_count": null,
      "outputs": []
    },
    {
      "cell_type": "code",
      "source": [
        "#fazer previsões:\n",
        "y_pred = model.predict(X_test)"
      ],
      "metadata": {
        "id": "Z2O0YefrWcjO"
      },
      "execution_count": null,
      "outputs": []
    },
    {
      "cell_type": "code",
      "source": [
        "#avaliar o modelo:\n",
        "#acurácia:\n",
        "accuracy = accuracy_score(y_test, y_pred)\n",
        "print(\"Acurácia:\", accuracy)"
      ],
      "metadata": {
        "id": "X7Z7PgNfWjKL"
      },
      "execution_count": null,
      "outputs": []
    },
    {
      "cell_type": "markdown",
      "source": [
        "Acurácia: 0.9722222222222222"
      ],
      "metadata": {
        "id": "Px8Dz3q5gHaC"
      }
    },
    {
      "cell_type": "markdown",
      "source": [
        "c. Calcule a acurácia, precisão e recall com base no desempenho do modelo."
      ],
      "metadata": {
        "id": "hzzCIpayQFZv"
      }
    },
    {
      "cell_type": "code",
      "source": [
        "#importar bibliotecas\n",
        "from sklearn import datasets\n",
        "from sklearn.preprocessing import StandardScaler\n",
        "from sklearn.metrics import accuracy_score, precision_score, recall_score, confusion_matrix\n",
        "import matplotlib.pyplot as plt\n",
        "import seaborn as sns"
      ],
      "metadata": {
        "id": "9nICcDV7S_GQ"
      },
      "execution_count": null,
      "outputs": []
    },
    {
      "cell_type": "code",
      "source": [
        "#carregar o dataset\n",
        "from sklearn.datasets import load_digits\n",
        "digits = load_digits()\n",
        "\n",
        "#crie um DataFrame a partir do conjunto de dados\n",
        "df_orig = pd.DataFrame(digits.data, columns=digits.feature_names)\n",
        "df_orig['target'] = digits.target\n",
        "df_orig['target_names'] = digits.target_names[digits.target]\n",
        "\n",
        "#crie uma cópia do DataFrame\n",
        "df_digits = df_orig.copy()\n"
      ],
      "metadata": {
        "id": "RDFBpYBPVRim"
      },
      "execution_count": null,
      "outputs": []
    },
    {
      "cell_type": "code",
      "source": [
        "#recursos separados (X) e variável de destino (y)\n",
        "X = df_digits.drop(['target', 'target_names'], axis=1)\n",
        "y = df_digits['target']\n",
        "\n",
        "#divida os dados em conjuntos de treinamento e teste\n",
        "X_train, X_test, y_train, y_test = train_test_split(X, y, test_size=0.2, random_state=42)\n",
        "\n",
        "#dimensione os recursos\n",
        "scaler = StandardScaler()\n",
        "X_train = scaler.fit_transform(X_train)\n",
        "X_test = scaler.transform(X_test)"
      ],
      "metadata": {
        "id": "33RxH7ofVZSp"
      },
      "execution_count": null,
      "outputs": []
    },
    {
      "cell_type": "code",
      "source": [
        "#criar e treinar um modelo de regressão logística\n",
        "model = LogisticRegression(multi_class='multinomial', solver='lbfgs', max_iter=1000)\n",
        "model.fit(X_train, y_train)"
      ],
      "metadata": {
        "id": "ehI05Qf0VhEl"
      },
      "execution_count": null,
      "outputs": []
    },
    {
      "cell_type": "code",
      "source": [
        "#faça previsões no conjunto de testes\n",
        "y_pred = model.predict(X_test)"
      ],
      "metadata": {
        "id": "I3HAUtbfVlCv"
      },
      "execution_count": null,
      "outputs": []
    },
    {
      "cell_type": "code",
      "source": [
        "#avalie o desempenho do modelo\n",
        "accuracy = accuracy_score(y_test, y_pred)\n",
        "precision = precision_score(y_test, y_pred, average='weighted')\n",
        "recall = recall_score(y_test, y_pred, average='weighted')"
      ],
      "metadata": {
        "id": "razNbwHfVqGa"
      },
      "execution_count": null,
      "outputs": []
    },
    {
      "cell_type": "code",
      "source": [
        "print(\"Accuracy:\", accuracy)\n",
        "print(\"Precision:\", precision)\n",
        "print(\"Recall:\", recall)"
      ],
      "metadata": {
        "id": "B_qvGbC-wuZm"
      },
      "execution_count": null,
      "outputs": []
    },
    {
      "cell_type": "markdown",
      "source": [
        "Accuracy: 0.9722222222222222\n",
        "\n",
        "Precision: 0.9725212596953555\n",
        "\n",
        "Recall: 0.9722222222222222"
      ],
      "metadata": {
        "id": "N3ityB_Rgqtl"
      }
    },
    {
      "cell_type": "markdown",
      "source": [
        "d. Plote a matriz de confusão dos resultados do modelo utilizando matplotlib\n",
        "ou seaborn."
      ],
      "metadata": {
        "id": "j-9O6_HHQGqg"
      }
    },
    {
      "cell_type": "code",
      "source": [
        "#calcular a matriz de confusão\n",
        "conf_matrix = confusion_matrix(y_test, y_pred)\n",
        "\n",
        "#plotar a matriz de confusão usando Seaborn\n",
        "plt.figure(figsize=(8, 6))\n",
        "sns.heatmap(conf_matrix, annot=True, fmt=\"d\", cmap=\"Blues\", cbar=False)\n",
        "plt.xlabel(\"Previsto\")\n",
        "plt.ylabel(\"Real\")\n",
        "plt.title(\"Matriz de Confusão\")\n",
        "plt.show()"
      ],
      "metadata": {
        "id": "_FdzFwnoQJ6t"
      },
      "execution_count": null,
      "outputs": []
    },
    {
      "cell_type": "code",
      "source": [
        "#calcular a matriz de confusão\n",
        "conf_matrix = confusion_matrix(y_test, y_pred)\n",
        "\n",
        "#plotar a matriz de confusão usando Matplotlib\n",
        "plt.figure(figsize=(8, 6))\n",
        "plt.imshow(conf_matrix, interpolation='nearest', cmap='Blues')\n",
        "plt.title(\"Matriz de Confusão\")\n",
        "plt.colorbar()\n"
      ],
      "metadata": {
        "id": "uNQgBxGAhA6K"
      },
      "execution_count": null,
      "outputs": []
    },
    {
      "cell_type": "markdown",
      "source": [
        "e. Aplique a regressão logística para avaliar o modelo de classificação dos\n",
        "dígitos de 0 a 9 utilizando o conjunto de dados específico para esse problema\n",
        "(por exemplo, MNIST)."
      ],
      "metadata": {
        "id": "9AfOV-6cQNxR"
      }
    },
    {
      "cell_type": "code",
      "source": [
        "#importar as bibliotecas\n",
        "import numpy as np\n",
        "import matplotlib.pyplot as plt\n",
        "from sklearn.model_selection import train_test_split\n",
        "from sklearn.linear_model import LogisticRegression\n",
        "from sklearn.metrics import accuracy_score, confusion_matrix\n",
        "import seaborn as sns\n",
        "from sklearn.datasets import fetch_openml\n",
        "from sklearn.preprocessing import StandardScaler"
      ],
      "metadata": {
        "id": "iUmplzc8V2Qg"
      },
      "execution_count": null,
      "outputs": []
    },
    {
      "cell_type": "code",
      "source": [
        "#carregar o dataset MNIST\n",
        "mnist = fetch_openml('mnist_784')"
      ],
      "metadata": {
        "id": "Lqvh67bPQOfw"
      },
      "execution_count": null,
      "outputs": []
    },
    {
      "cell_type": "code",
      "source": [
        "#converter os dados para um formato NumPy\n",
        "X, y = mnist.data, mnist.target\n",
        "\n",
        "#converter as labels para números inteiros\n",
        "y = y.astype('int')"
      ],
      "metadata": {
        "id": "-LcxPwWpWEbt"
      },
      "execution_count": null,
      "outputs": []
    },
    {
      "cell_type": "code",
      "source": [
        "#dividir os dados em conjuntos de treinamento e teste\n",
        "X_train, X_test, y_train, y_test = train_test_split(X, y, test_size=0.2, random_state=42)"
      ],
      "metadata": {
        "id": "npt2FrlWbwOV"
      },
      "execution_count": null,
      "outputs": []
    },
    {
      "cell_type": "code",
      "source": [
        "#escalonar os dados\n",
        "scaler = StandardScaler()\n",
        "X_train = scaler.fit_transform(X_train)\n",
        "X_test = scaler.transform(X_test)"
      ],
      "metadata": {
        "id": "Vh6Tln8BWLPx"
      },
      "execution_count": null,
      "outputs": []
    },
    {
      "cell_type": "code",
      "source": [
        "#criar o modelo de regressão logística\n",
        "model = LogisticRegression(solver='lbfgs', max_iter=2000)\n",
        "\n",
        "# treinar o modelo\n",
        "model.fit(X_train, y_train)"
      ],
      "metadata": {
        "id": "DWqIDeQqWPmH"
      },
      "execution_count": null,
      "outputs": []
    },
    {
      "cell_type": "code",
      "source": [
        "#fazer previsões no conjunto de teste\n",
        "y_pred = model.predict(X_test)\n",
        "\n",
        "#acurácia\n",
        "accuracy = accuracy_score(y_test, y_pred)\n",
        "print(\"Acurácia:\", accuracy)"
      ],
      "metadata": {
        "id": "Q_xo4DOJb6aU"
      },
      "execution_count": null,
      "outputs": []
    },
    {
      "cell_type": "markdown",
      "source": [
        "Acurácia: 0.9154285714285715"
      ],
      "metadata": {
        "id": "MhBQNpyDjAWt"
      }
    },
    {
      "cell_type": "markdown",
      "source": [
        "f. Calcule a acurácia, precisão e recall com base no desempenho do modelo\n",
        "para a classificação dos dígitos de 0 a 9."
      ],
      "metadata": {
        "id": "0xPMGIoKQQke"
      }
    },
    {
      "cell_type": "code",
      "source": [
        "#calcular métricas\n",
        "accuracy = accuracy_score(y_test, y_pred)\n",
        "precision = precision_score(y_test, y_pred, average='weighted')\n",
        "recall = recall_score(y_test, y_pred, average='weighted')\n",
        "\n",
        "#imprimir os resultados\n",
        "print(\"Accuracy:\", accuracy)\n",
        "print(\"Precision:\", precision)\n",
        "print(\"Recall:\", recall)"
      ],
      "metadata": {
        "id": "-DsUGFzsQRQ4"
      },
      "execution_count": null,
      "outputs": []
    },
    {
      "cell_type": "markdown",
      "source": [
        "Accuracy: 0.9154285714285715\n",
        "\n",
        "Precision: 0.9152106299252099\n",
        "\n",
        "Recall: 0.9154285714285715"
      ],
      "metadata": {
        "id": "OsNc3anzjFrR"
      }
    },
    {
      "cell_type": "markdown",
      "source": [
        "g. Plote a matriz de confusão dos resultados da classificação dos dígitos de 0\n",
        "a 9 utilizando matplotlib ou seaborn."
      ],
      "metadata": {
        "id": "Sf5vkeeiQUId"
      }
    },
    {
      "cell_type": "code",
      "source": [
        "#importar biblioteca\n",
        "from sklearn.metrics import confusion_matrix"
      ],
      "metadata": {
        "id": "Y3Nh0S3ZWwoC"
      },
      "execution_count": null,
      "outputs": []
    },
    {
      "cell_type": "code",
      "source": [
        "#calcular a matriz de confusão\n",
        "conf_matrix = confusion_matrix(y_test, y_pred)\n",
        "\n",
        "#plotar a matriz de confusão usando Seaborn\n",
        "plt.figure(figsize=(10, 8))\n",
        "sns.heatmap(conf_matrix, annot=True, fmt=\"d\", cmap=\"Blues\",\n",
        "            xticklabels=np.arange(10), yticklabels=np.arange(10))\n",
        "plt.xlabel(\"Previsto\")\n",
        "plt.ylabel(\"Real\")\n",
        "plt.title(\"Matriz de Confusão para Classificação dos Dígitos de 0 a 9\")\n",
        "plt.show()"
      ],
      "metadata": {
        "id": "563ogKkhQU9G"
      },
      "execution_count": null,
      "outputs": []
    }
  ]
}