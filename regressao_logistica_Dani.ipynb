{
  "nbformat": 4,
  "nbformat_minor": 0,
  "metadata": {
    "colab": {
      "private_outputs": true,
      "provenance": [],
      "cell_execution_strategy": "setup",
      "authorship_tag": "ABX9TyMF5T/Fnz9K/ZeFUY4bRPy4",
      "include_colab_link": true
    },
    "kernelspec": {
      "name": "python3",
      "display_name": "Python 3"
    },
    "language_info": {
      "name": "python"
    }
  },
  "cells": [
    {
      "cell_type": "markdown",
      "metadata": {
        "id": "view-in-github",
        "colab_type": "text"
      },
      "source": [
        "<a href=\"https://colab.research.google.com/github/danisoaresl/Data-Analytics/blob/main/regressao_logistica_Dani.ipynb\" target=\"_parent\"><img src=\"https://colab.research.google.com/assets/colab-badge.svg\" alt=\"Open In Colab\"/></a>"
      ]
    },
    {
      "cell_type": "markdown",
      "source": [
        "Modelos de Classificação e Regressão\n",
        "\n",
        "Logística\n",
        "\n",
        "Desafio Final\n",
        "\n",
        "1. Utilizando o data set iris (iris.csv em anexo ou usandoo sklearn):\n",
        "\n",
        "Exemplo de como fazer a importação do dataset usando o sklearn\n",
        "\n",
        "from sklearn import datasets\n",
        "iris = datasets.load_iris()\n",
        "\n",
        "Responda:"
      ],
      "metadata": {
        "id": "AdLq-_351lZg"
      }
    },
    {
      "cell_type": "markdown",
      "source": [
        "a. Faça uma análise inicial sobre esse dataset"
      ],
      "metadata": {
        "id": "Fd2FRyky1oqw"
      }
    },
    {
      "cell_type": "code",
      "execution_count": null,
      "metadata": {
        "id": "1JFqn9vuz3N6"
      },
      "outputs": [],
      "source": [
        "# Import libraries for data manipulation and visualization\n",
        "from sklearn import datasets\n",
        "import pandas as pd\n",
        "import seaborn as sns\n",
        "import matplotlib.pyplot as plt\n",
        "\n",
        "#carregar os dados\n",
        "file_path = '/content/drive/MyDrive/regressao-logistica/iris.csv'\n",
        "\n",
        "# Load the Iris dataset from sklearn\n",
        "iris = datasets.load_iris()\n",
        "\n",
        "# Create a Pandas DataFrame from the Iris data\n",
        "df_iris = pd.DataFrame(iris.data, columns=iris.feature_names)\n",
        "\n",
        "# Add target column with class labels\n",
        "df_iris['target'] = iris.target\n",
        "\n",
        "# Add target names column with human-readable class names\n",
        "df_iris['target_names'] = iris.target_names[iris.target]\n",
        "\n",
        "# Print the first few rows of the DataFrame\n",
        "print(df_iris.head())\n",
        "\n",
        "# Print descriptive statistics for numeric columns\n",
        "print(df_iris.describe())\n",
        "\n",
        "# Count the number of samples in each class\n",
        "print(df_iris['target_names'].value_counts())\n",
        "\n",
        "# Create a pairplot to visualize relationships between features (colored by class)\n",
        "sns.pairplot(df_iris, hue='target_names')\n",
        "plt.show()"
      ]
    },
    {
      "cell_type": "markdown",
      "source": [
        "b. Use o boxplot e o histograma para caracterizar as propriedades\n",
        "de cada uma das espécies existentes."
      ],
      "metadata": {
        "id": "LdVS2-Io1mQF"
      }
    },
    {
      "cell_type": "code",
      "source": [
        "print(df_iris.columns)"
      ],
      "metadata": {
        "id": "eF8ZUgFOA2Q6"
      },
      "execution_count": null,
      "outputs": []
    },
    {
      "cell_type": "code",
      "source": [
        "for col in df_iris.columns:\n",
        "    if 'sepal' in col.lower():  # Check for 'sepal' (case-insensitive)\n",
        "        sepal_length_col = col  # Store the column name\n",
        "        break  # Exit loop once found\n",
        "\n",
        "sns.boxplot(x='target_names', y=sepal_length_col, data=df_iris)  # Use the extracted name"
      ],
      "metadata": {
        "id": "vMjRUCDh1oGz"
      },
      "execution_count": null,
      "outputs": []
    },
    {
      "cell_type": "code",
      "source": [
        "import seaborn as sns\n",
        "import matplotlib.pyplot as plt\n",
        "\n",
        "# Find the column for petal length\n",
        "petal_length_col = None\n",
        "for col in df_iris.columns:\n",
        "    if 'petal' in col.lower() and 'length' in col.lower():\n",
        "        petal_length_col = col\n",
        "        break\n",
        "\n",
        "# Create the histogram\n",
        "sns.histplot(data=df_iris, x=petal_length_col, hue='target_names', multiple='stack')\n",
        "plt.title('Distribuição do Comprimento da Pétala por Espécie')\n",
        "plt.show()"
      ],
      "metadata": {
        "id": "144q3xVI1nPc"
      },
      "execution_count": null,
      "outputs": []
    },
    {
      "cell_type": "markdown",
      "source": [
        "c. Somente olhando esses gráficos, é possível afirmar que uma ou mais\n",
        "propriedades (Sepal_Length, Sepal_Width, Petal_Length, Petal_Width)\n",
        "são suficientes para distinguir as espécies?"
      ],
      "metadata": {
        "id": "HdMGad4m1nj1"
      }
    },
    {
      "cell_type": "code",
      "source": [
        "df_iris.describe()"
      ],
      "metadata": {
        "id": "hRbVel3tDezo"
      },
      "execution_count": null,
      "outputs": []
    },
    {
      "cell_type": "code",
      "source": [
        "# Calculando a média de uma lista de números\n",
        "def calcular_media(numeros):\n",
        "    return sum(numeros) / len(numeros)\n",
        "\n",
        "# Exemplo de uso:\n",
        "lista_numeros = [1, 2, 3, 4, 5]\n",
        "media = calcular_media(lista_numeros)\n",
        "print(\"A média é:\", media)"
      ],
      "metadata": {
        "id": "y-HGIFgGAGan"
      },
      "execution_count": null,
      "outputs": []
    },
    {
      "cell_type": "markdown",
      "source": [],
      "metadata": {
        "id": "zQR9ihWb1r_u"
      }
    },
    {
      "cell_type": "code",
      "source": [
        "# ... (your existing code up to df creation)\n",
        "\n",
        "# Feature for ANOVA test (replace 'sepal_length' if needed)\n",
        "feature_to_test = 'sepal length (cm)'\n",
        "\n",
        "# Separate data for each species based on target column\n",
        "setosa_data = df_iris[df_iris['target'] == 0][feature_to_test]\n",
        "versicolor_data = df_iris[df_iris['target'] == 1][feature_to_test]\n",
        "virginica_data = df_iris[df_iris['target'] == 2][feature_to_test]\n",
        "\n",
        "# Perform one-way ANOVA using SciPy stats\n",
        "from scipy import stats\n",
        "\n",
        "f_statistic, p_value = stats.f_oneway(setosa_data, versicolor_data, virginica_data)\n",
        "\n",
        "# Print ANOVA results\n",
        "print(f\"ANOVA for {feature_to_test}:\")\n",
        "print(f\"  F-statistic: {f_statistic}\")\n",
        "print(f\"  p-value: {p_value}\")\n",
        "\n",
        "# Interpret the results:\n",
        "# - A low p-value (typically < 0.05) suggests statistically significant differences in mean {feature_to_test} across species."
      ],
      "metadata": {
        "id": "UZO0NTJC1u6C"
      },
      "execution_count": null,
      "outputs": []
    },
    {
      "cell_type": "markdown",
      "source": [
        "d. Aplique a regressão logística para avaliar o modelo de\n",
        "classificação."
      ],
      "metadata": {
        "id": "4NO0jDhurgVO"
      }
    },
    {
      "cell_type": "code",
      "source": [
        "print(X.dtypes)"
      ],
      "metadata": {
        "id": "Qp4c3R3n0IHs"
      },
      "execution_count": null,
      "outputs": []
    },
    {
      "cell_type": "code",
      "source": [
        "import pandas as pd\n",
        "from sklearn import datasets\n",
        "from sklearn.model_selection import train_test_split\n",
        "from sklearn.linear_model import LogisticRegression\n",
        "from sklearn.metrics import accuracy_score, confusion_matrix\n",
        "\n",
        "# Load the Iris dataset\n",
        "iris = datasets.load_iris()\n",
        "\n",
        "# Create a DataFrame from the Iris data\n",
        "df_original = pd.DataFrame(iris.data, columns=iris.feature_names)\n",
        "df_original['target'] = iris.target\n",
        "df_original['target_names'] = iris.target_names[iris.target]\n",
        "\n",
        "# Create a copy of the DataFrame for working\n",
        "df_iris = df_original.copy()\n",
        "\n",
        "# Separate features (X) and target variable (y)\n",
        "X = df_iris.drop(['target', 'target_names'], axis=1)\n",
        "y = df_iris['target']\n",
        "\n",
        "# Divide the data into training and testing sets\n",
        "X_train, X_test, y_train, y_test = train_test_split(X, y, test_size=0.2, random_state=42)\n",
        "\n",
        "# Create and train a logistic regression model\n",
        "model = LogisticRegression()\n",
        "model.fit(X_train, y_train)\n",
        "\n",
        "# Make predictions on the testing set\n",
        "y_pred = model.predict(X_test)\n",
        "\n",
        "# Evaluate model performance\n",
        "accuracy = accuracy_score(y_test, y_pred)\n",
        "confusion_matrix = confusion_matrix(y_test, y_pred)\n",
        "\n",
        "print(\"Accuracy:\", accuracy)\n",
        "print(\"Confusion Matrix:\\n\", confusion_matrix)\n"
      ],
      "metadata": {
        "id": "UaVyEPA0ri9k"
      },
      "execution_count": null,
      "outputs": []
    },
    {
      "cell_type": "markdown",
      "source": [],
      "metadata": {
        "id": "CCG5a9TtrjfI"
      }
    },
    {
      "cell_type": "code",
      "source": [
        "import pandas as pd\n",
        "from sklearn.model_selection import train_test_split\n",
        "from sklearn.linear_model import LogisticRegression\n",
        "from sklearn.metrics import accuracy_score, confusion_matrix, classification_report\n",
        "\n",
        "# Carregar e preparar os dados (já realizado nos passos anteriores)\n",
        "\n",
        "# Dividir os dados em treinamento e teste\n",
        "X_train, X_test, y_train, y_test = train_test_split(X, y, test_size=0.2, random_state=42)\n",
        "\n",
        "# Criar e treinar o modelo\n",
        "model = LogisticRegression()\n",
        "model.fit(X_train, y_train)\n",
        "\n",
        "# Fazer previsões\n",
        "y_pred = model.predict(X_test)\n",
        "\n",
        "# Avaliar o modelo\n",
        "print(\"Accuracy:\", accuracy_score(y_test, y_pred))\n",
        "print(\"Confusion Matrix:\\n\", confusion_matrix(y_test, y_pred))\n",
        "print(\"Classification Report:\\n\", classification_report(y_test, y_pred))"
      ],
      "metadata": {
        "id": "yS6siTjcrjwI"
      },
      "execution_count": null,
      "outputs": []
    },
    {
      "cell_type": "markdown",
      "source": [
        "e. Calcule a acurácia, precisão e recall."
      ],
      "metadata": {
        "id": "VgjXYvIu3Xw1"
      }
    },
    {
      "cell_type": "code",
      "source": [
        "import pandas as pd\n",
        "from sklearn.model_selection import train_test_split\n",
        "from sklearn.linear_model import LogisticRegression\n",
        "from sklearn.metrics import accuracy_score, confusion_matrix, classification_report\n",
        "\n",
        "# ... (seu código existente)\n",
        "\n",
        "# Fazer previsões\n",
        "y_pred = model.predict(X_test)\n",
        "\n",
        "# Avaliar o modelo\n",
        "accuracy = accuracy_score(y_test, y_pred)\n",
        "confusion_matrix = confusion_matrix(y_test, y_pred)\n",
        "classification_report = classification_report(y_test, y_pred)\n",
        "\n",
        "# Imprimir resultados\n",
        "print(\"Acurácia:\", accuracy)\n",
        "print(\"Matriz de Confusão:\\n\", confusion_matrix)\n",
        "print(\"Relatório de Classificação:\\n\", classification_report)\n",
        "\n",
        "# Extrair precisão e recall médios ponderados\n",
        "from sklearn.metrics import precision_score, recall_score\n",
        "\n",
        "precision = precision_score(y_test, y_pred, average='weighted')\n",
        "recall = recall_score(y_test, y_pred, average='weighted')\n",
        "\n",
        "print(\"Precisão média ponderada:\", precision)\n",
        "print(\"Recall médio ponderado:\", recall)"
      ],
      "metadata": {
        "id": "Ap6IWCs2rkIg"
      },
      "execution_count": null,
      "outputs": []
    },
    {
      "cell_type": "markdown",
      "source": [
        "f. Plote a matriz de confusão com matplotlib ou seaborn."
      ],
      "metadata": {
        "id": "uXGHqGiQrkQP"
      }
    },
    {
      "cell_type": "code",
      "source": [
        "import pandas as pd\n",
        "from sklearn.model_selection import train_test_split\n",
        "from sklearn.linear_model import LogisticRegression\n",
        "from sklearn.metrics import accuracy_score, confusion_matrix, classification_report\n",
        "import seaborn as sns\n",
        "import matplotlib.pyplot as plt\n",
        "\n",
        "# ... (seu código existente)\n",
        "\n",
        "# Fazer previsões\n",
        "y_pred = model.predict(X_test)\n",
        "\n",
        "# Avaliar o modelo\n",
        "accuracy = accuracy_score(y_test, y_pred)\n",
        "confusion_matrix = confusion_matrix(y_test, y_pred)\n",
        "classification_report = classification_report(y_test, y_pred)\n",
        "\n",
        "# Imprimir resultados\n",
        "print(\"Acurácia:\", accuracy)\n",
        "print(\"Matriz de Confusão:\\n\", confusion_matrix)\n",
        "print(\"Relatório de Classificação:\\n\", classification_report)\n",
        "\n",
        "# Plotar a matriz de confusão\n",
        "sns.heatmap(confusion_matrix, annot=True, fmt='g', cmap='Blues')\n",
        "plt.xlabel('Predito')\n",
        "plt.ylabel('Real')\n",
        "plt.title('Matriz de Confusão')\n",
        "plt.show()"
      ],
      "metadata": {
        "id": "3qJGony7rkYH"
      },
      "execution_count": null,
      "outputs": []
    },
    {
      "cell_type": "markdown",
      "source": [],
      "metadata": {
        "id": "DMbOKQse5Dnm"
      }
    },
    {
      "cell_type": "code",
      "source": [],
      "metadata": {
        "id": "umj5MYSI5F_M"
      },
      "execution_count": null,
      "outputs": []
    },
    {
      "cell_type": "markdown",
      "source": [],
      "metadata": {
        "id": "PRP9SPzI5GcL"
      }
    },
    {
      "cell_type": "code",
      "source": [],
      "metadata": {
        "id": "TPuUOGMA5GmO"
      },
      "execution_count": null,
      "outputs": []
    },
    {
      "cell_type": "markdown",
      "source": [
        "2. Utilizando o dataset load_digits. Exemplo de como fazer a\n",
        "importação do dataset usando o sklearn:\n",
        "\n",
        "from sklearn.datasets import\n",
        "\n",
        "load_digits digits = load_digits()\n",
        "\n",
        "Responda:\n",
        "\n",
        "a. Faça uma análise inicial sobre esse\n",
        "dataset\n",
        "\n",
        "i. Quantos dados possui?"
      ],
      "metadata": {
        "id": "Mrp-SxNHPLaP"
      }
    },
    {
      "cell_type": "code",
      "source": [
        "from sklearn.datasets import load_digits\n",
        "digits = load_digits()\n"
      ],
      "metadata": {
        "id": "JiEdHdUBP0R8"
      },
      "execution_count": null,
      "outputs": []
    },
    {
      "cell_type": "code",
      "source": [
        "print(digits.keys())"
      ],
      "metadata": {
        "id": "fIRBICs3S4RA"
      },
      "execution_count": null,
      "outputs": []
    },
    {
      "cell_type": "code",
      "source": [
        "import matplotlib.pyplot as plt\n",
        "\n",
        "# Selecionar uma imagem aleatória\n",
        "index = 42\n",
        "plt.imshow(digits.images[index], cmap='gray')\n",
        "plt.title('Dígito: %i' % digits.target[index])\n",
        "plt.show()\n"
      ],
      "metadata": {
        "id": "fI6O4mt2S7IZ"
      },
      "execution_count": null,
      "outputs": []
    },
    {
      "cell_type": "code",
      "source": [
        "import pandas as pd\n",
        "import numpy as np\n",
        "\n",
        "# Criar um DataFrame para facilitar a análise\n",
        "df_digits = pd.DataFrame(digits.data, columns=range(64))\n",
        "df_digits['target'] = digits.target\n",
        "\n",
        "# Estatísticas descritivas\n",
        "print(df.describe())\n",
        "\n",
        "# Contagem de exemplos por classe\n",
        "print(df['target'].value_counts())\n",
        "\n",
        "# Visualização da distribuição de pixels\n",
        "plt.hist(df.iloc[:, 0], bins=30)\n",
        "plt.xlabel('Intensidade do pixel')\n",
        "plt.ylabel('Frequência')\n",
        "plt.title('Distribuição da intensidade do primeiro pixel')\n",
        "plt.show()"
      ],
      "metadata": {
        "id": "dEiAS2EUS-5E"
      },
      "execution_count": null,
      "outputs": []
    },
    {
      "cell_type": "markdown",
      "source": [
        "ii. Existem dados nulos? Se sim quantos?"
      ],
      "metadata": {
        "id": "X4H_IMJ-P4Si"
      }
    },
    {
      "cell_type": "code",
      "source": [
        "import pandas as pd\n",
        "import numpy as np\n",
        "\n",
        "# Criar um DataFrame para facilitar a análise\n",
        "df_digits = pd.DataFrame(digits.data, columns=range(64))\n",
        "df_digits['target'] = digits.target\n",
        "\n",
        "# Verificar se há valores nulos em todo o DataFrame\n",
        "print(df.isnull().sum().sum())"
      ],
      "metadata": {
        "id": "F1oCoyvMP5U9"
      },
      "execution_count": null,
      "outputs": []
    },
    {
      "cell_type": "markdown",
      "source": [
        "iii. Todos são dados numéricos ou existem colunas com dados\n",
        "categóricos?"
      ],
      "metadata": {
        "id": "Dss9uZ6tP8Yu"
      }
    },
    {
      "cell_type": "markdown",
      "source": [
        "R.: No dataset load_digits, todos os dados são numéricos, exceto a coluna target."
      ],
      "metadata": {
        "id": "_zeUFE22UnQu"
      }
    },
    {
      "cell_type": "code",
      "source": [
        "import pandas as pd\n",
        "import numpy as np\n",
        "\n",
        "# Criar um DataFrame para facilitar a análise\n",
        "df_digits = pd.DataFrame(digits.data, columns=range(64))\n",
        "df_digits['target'] = digits.target\n",
        "\n",
        "# Verificar os tipos de dados de cada coluna\n",
        "print(df_digits.dtypes)"
      ],
      "metadata": {
        "id": "okebQM0tP903"
      },
      "execution_count": null,
      "outputs": []
    },
    {
      "cell_type": "markdown",
      "source": [
        "b. Aplique a regressão logística para construir e avaliar o modelo de\n",
        "classificação."
      ],
      "metadata": {
        "id": "pp4WwgLpP_QC"
      }
    },
    {
      "cell_type": "code",
      "source": [
        "#Importar as bibliotecas necessárias:\n",
        "from sklearn.datasets import load_digits\n",
        "from sklearn.model_selection import train_test_split\n",
        "from sklearn.linear_model import LogisticRegression\n",
        "from sklearn.metrics import accuracy_score, confusion_matrix\n",
        "import matplotlib.pyplot as plt\n",
        "import seaborn as sns"
      ],
      "metadata": {
        "id": "RHt6u49RQCC4"
      },
      "execution_count": null,
      "outputs": []
    },
    {
      "cell_type": "code",
      "source": [
        "from sklearn.datasets import load_digits\n",
        "digits = load_digits()\n"
      ],
      "metadata": {
        "id": "HW2X0IsLVpiW"
      },
      "execution_count": null,
      "outputs": []
    },
    {
      "cell_type": "code",
      "source": [
        "#Dividir os dados em conjuntos de treinamento e teste:\n",
        "X_train, X_test, y_train, y_test = train_test_split(digits.data, digits.target, test_size=0.2, random_state=42)\n"
      ],
      "metadata": {
        "id": "rUvrijfYVrDp"
      },
      "execution_count": null,
      "outputs": []
    },
    {
      "cell_type": "code",
      "source": [
        "#Criar e treinar o modelo:\n",
        "model = LogisticRegression(multi_class='multinomial', solver='lbfgs')\n",
        "model.fit(X_train, y_train)"
      ],
      "metadata": {
        "id": "X-eD8Y0xWT4C"
      },
      "execution_count": null,
      "outputs": []
    },
    {
      "cell_type": "code",
      "source": [
        "#Fazer previsões:\n",
        "y_pred = model.predict(X_test)"
      ],
      "metadata": {
        "id": "Z2O0YefrWcjO"
      },
      "execution_count": null,
      "outputs": []
    },
    {
      "cell_type": "code",
      "source": [
        "#Avaliar o modelo:\n",
        "#Acurácia:\n",
        "accuracy = accuracy_score(y_test, y_pred)\n",
        "print(\"Acurácia:\", accuracy)"
      ],
      "metadata": {
        "id": "X7Z7PgNfWjKL"
      },
      "execution_count": null,
      "outputs": []
    },
    {
      "cell_type": "code",
      "source": [
        "import pandas as pd\n",
        "from sklearn import datasets\n",
        "from sklearn.model_selection import train_test_split\n",
        "from sklearn.linear_model import LogisticRegression\n",
        "from sklearn.metrics import accuracy_score, confusion_matrix, classification_report\n",
        "import seaborn as sns\n",
        "import matplotlib.pyplot as plt\n",
        "\n",
        "# Load the Iris dataset\n",
        "digits = datasets.load_digits()\n",
        "\n",
        "# Create a DataFrame from the Iris data\n",
        "df_orig = pd.DataFrame(digits.data, columns=digits.feature_names)\n",
        "df_orig['target'] = digits.target\n",
        "df_orig['target_names'] = digits.target_names[digits.target]\n",
        "\n",
        "# Create a copy of the DataFrame for working\n",
        "df_digits = df_orig.copy()\n",
        "\n",
        "# Separate features (X) and target variable (y)\n",
        "X = df_digits.drop(['target', 'target_names'], axis=1)\n",
        "y = df_digits['target']\n",
        "\n",
        "# Divide the data into training and testing sets\n",
        "X_train, X_test, y_train, y_test = train_test_split(X, y, test_size=0.2, random_state=42)\n",
        "\n",
        "# Create and train a logistic regression model\n",
        "model = LogisticRegression()\n",
        "model.fit(X_train, y_train)\n",
        "\n",
        "# Make predictions on the testing set\n",
        "y_pred = model.predict(X_test)\n",
        "\n",
        "# Evaluate model performance\n",
        "accuracy = accuracy_score(y_test, y_pred)\n",
        "confusion_matrix = confusion_matrix(y_test, y_pred)\n",
        "classification_report = classification_report(y_test, y_pred)\n",
        "\n",
        "print(\"Accuracy:\", accuracy)\n",
        "print(\"Confusion Matrix:\\n\", confusion_matrix)\n",
        "print(\"Classification Report:\\n\", classification_report)\n",
        "\n",
        "# Plot the confusion matrix\n",
        "plt.figure(figsize=(8, 6))\n",
        "sns.heatmap(confusion_matrix, annot=True, fmt=\"d\", cmap=\"Blues\")\n",
        "plt.xlabel(\"Predicted\")\n",
        "plt.ylabel(\"True\")\n",
        "plt.title(\"Confusion Matrix\")\n",
        "plt.show()"
      ],
      "metadata": {
        "id": "XvbByfVsWvNt"
      },
      "execution_count": null,
      "outputs": []
    },
    {
      "cell_type": "markdown",
      "source": [
        "c. Calcule a acurácia, precisão e recall com base no desempenho do modelo."
      ],
      "metadata": {
        "id": "hzzCIpayQFZv"
      }
    },
    {
      "cell_type": "code",
      "source": [
        "import pandas as pd\n",
        "from sklearn import datasets\n",
        "from sklearn.model_selection import train_test_split\n",
        "from sklearn.linear_model import LogisticRegression\n",
        "from sklearn.metrics import accuracy_score, precision_score, recall_score, confusion_matrix\n",
        "import matplotlib.pyplot as plt\n",
        "import seaborn as sns\n",
        "\n",
        "digits = datasets.load_digits()\n",
        "\n",
        "df_orig = pd.DataFrame(digits.data, columns=digits.feature_names)\n",
        "df_orig['target'] = digits.target\n",
        "df_orig['target_names'] = digits.target_names[digits.target]\n",
        "\n",
        "# Create a copy of the DataFrame for working\n",
        "df_digits = df_orig.copy()\n",
        "\n",
        "# Separate features (X) and target variable (y)\n",
        "X = df_digits.drop(['target', 'target_names'], axis=1)\n",
        "y = df_digits['target']\n",
        "\n",
        "# Divide the data into training and testing sets\n",
        "X_train, X_test, y_train, y_test = train_test_split(X, y, test_size=0.2, random_state=42)\n",
        "\n",
        "# Create and train a logistic regression model\n",
        "model = LogisticRegression(multi_class='multinomial', solver='lbfgs')\n",
        "model.fit(X_train, y_train)\n",
        "\n",
        "# Make predictions on the testing set\n",
        "y_pred = model.predict(X_test)\n",
        "\n",
        "# Evaluate model performance\n",
        "accuracy = accuracy_score(y_test, y_pred)\n",
        "precision = precision_score(y_test, y_pred, average='weighted')\n",
        "recall = recall_score(y_test, y_pred, average='weighted')\n",
        "\n",
        "print(\"Accuracy:\", accuracy)\n",
        "print(\"Precision:\", precision)\n",
        "print(\"Recall:\", recall)\n",
        "\n",
        "# Confusion Matrix\n",
        "conf_matrix = confusion_matrix(y_test, y_pred)\n",
        "sns.heatmap(conf_matrix, annot=True, fmt=\"d\")\n",
        "plt.xlabel(\"Predicted\")\n",
        "plt.ylabel(\"True\")\n",
        "plt.title(\"Confusion Matrix\")\n",
        "plt.show()"
      ],
      "metadata": {
        "id": "dNy8oaSfQGMd"
      },
      "execution_count": null,
      "outputs": []
    },
    {
      "cell_type": "markdown",
      "source": [
        "d. Plote a matriz de confusão dos resultados do modelo utilizando matplotlib\n",
        "ou seaborn."
      ],
      "metadata": {
        "id": "j-9O6_HHQGqg"
      }
    },
    {
      "cell_type": "code",
      "source": [
        "import pandas as pd\n",
        "from sklearn import datasets\n",
        "from sklearn.model_selection import train_test_split\n",
        "from sklearn.linear_model import LogisticRegression\n",
        "from sklearn.metrics import confusion_matrix\n",
        "import seaborn as sns\n",
        "import matplotlib.pyplot as plt\n",
        "\n",
        "# Carregar o dataset\n",
        "digits = datasets.load_digits()\n",
        "\n",
        "# Criar um DataFrame a partir dos dados\n",
        "df_orig = pd.DataFrame(digits.data, columns=digits.feature_names)\n",
        "df_orig['target'] = digits.target\n",
        "df_orig['target_names'] = digits.target_names[digits.target]\n",
        "\n",
        "# Criar uma cópia do DataFrame para trabalhar\n",
        "df_digits = df_orig.copy()\n",
        "\n",
        "# Separar as features (X) e a variável alvo (y)\n",
        "X = df_digits.drop(['target', 'target_names'], axis=1)\n",
        "y = df_digits['target']\n",
        "\n",
        "# Dividir os dados em conjuntos de treinamento e teste\n",
        "X_train, X_test, y_train, y_test = train_test_split(X, y, test_size=0.2, random_state=42)\n",
        "\n",
        "# Criar e treinar um modelo de regressão logística\n",
        "model = LogisticRegression(multi_class='multinomial', solver='lbfgs')\n",
        "model.fit(X_train, y_train)\n",
        "\n",
        "# Fazer previsões no conjunto de teste\n",
        "y_pred = model.predict(X_test)\n",
        "\n",
        "# Calcular a matriz de confusão\n",
        "conf_matrix = confusion_matrix(y_test, y_pred)\n",
        "\n",
        "# Plotar a matriz de confusão usando Seaborn\n",
        "plt.figure(figsize=(8, 6))\n",
        "sns.heatmap(conf_matrix, annot=True, fmt=\"d\", cmap=\"Blues\")\n",
        "plt.xlabel(\"Previsto\")\n",
        "plt.ylabel(\"Real\")\n",
        "plt.title(\"Matriz de Confusão\")\n",
        "plt.show()"
      ],
      "metadata": {
        "id": "_FdzFwnoQJ6t"
      },
      "execution_count": null,
      "outputs": []
    },
    {
      "cell_type": "markdown",
      "source": [
        "e. Aplique a regressão logística para avaliar o modelo de classificação dos\n",
        "dígitos de 0 a 9 utilizando o conjunto de dados específico para esse problema\n",
        "(por exemplo, MNIST)."
      ],
      "metadata": {
        "id": "9AfOV-6cQNxR"
      }
    },
    {
      "cell_type": "code",
      "source": [
        "import numpy as np\n",
        "import matplotlib.pyplot as plt\n",
        "from sklearn.model_selection import train_test_split\n",
        "from sklearn.linear_model import LogisticRegression\n",
        "from sklearn.metrics import accuracy_score, confusion_matrix\n",
        "import seaborn as sns\n",
        "from sklearn.datasets import fetch_openml\n",
        "\n",
        "# Carregar o dataset MNIST\n",
        "mnist = fetch_openml('mnist_784')"
      ],
      "metadata": {
        "id": "Lqvh67bPQOfw"
      },
      "execution_count": null,
      "outputs": []
    },
    {
      "cell_type": "code",
      "source": [
        "# Converter os dados para um formato NumPy\n",
        "X, y = mnist.data, mnist.target\n",
        "\n",
        "# Converter as labels para números inteiros\n",
        "y = y.astype('int')\n",
        "\n",
        "# Dividir os dados em conjuntos de treinamento e teste\n",
        "X_train, X_test, y_train, y_test = train_test_split(X, y, test_size=0.2, random_state=42)"
      ],
      "metadata": {
        "id": "npt2FrlWbwOV"
      },
      "execution_count": null,
      "outputs": []
    },
    {
      "cell_type": "code",
      "source": [
        "# Criar o modelo de regressão logística\n",
        "model = LogisticRegression(multi_class='multinomial', solver='lbfgs', max_iter=1000)\n",
        "\n",
        "# Treinar o modelo\n",
        "model.fit(X_train, y_train)"
      ],
      "metadata": {
        "id": "Q_xo4DOJb6aU"
      },
      "execution_count": null,
      "outputs": []
    },
    {
      "cell_type": "code",
      "source": [
        "# Fazer previsões no conjunto de teste\n",
        "y_pred = model.predict(X_test)"
      ],
      "metadata": {
        "id": "nEypTKfXcAaI"
      },
      "execution_count": null,
      "outputs": []
    },
    {
      "cell_type": "code",
      "source": [
        "# Acurácia\n",
        "accuracy = accuracy_score(y_test, y_pred)\n",
        "print(\"Acurácia:\", accuracy)\n",
        "\n",
        "# Matriz de confusão\n",
        "conf_matrix = confusion_matrix(y_test, y_pred)\n",
        "sns.heatmap(conf_matrix, annot=True, fmt=\"d\", cmap=\"Blues\")\n",
        "plt.xlabel(\"Previsto\")\n",
        "plt.ylabel(\"Real\")\n",
        "plt.title(\"Matriz de Confusão\")\n",
        "plt.show()"
      ],
      "metadata": {
        "id": "MueU4UhVcGIw"
      },
      "execution_count": null,
      "outputs": []
    },
    {
      "cell_type": "code",
      "source": [
        "print(df_digits.index)"
      ],
      "metadata": {
        "id": "v8IEWagtcNfJ"
      },
      "execution_count": null,
      "outputs": []
    },
    {
      "cell_type": "markdown",
      "source": [
        "f. Calcule a acurácia, precisão e recall com base no desempenho do modelo\n",
        "para a classificação dos dígitos de 0 a 9."
      ],
      "metadata": {
        "id": "0xPMGIoKQQke"
      }
    },
    {
      "cell_type": "code",
      "source": [
        "import pandas as pd\n",
        "from sklearn.metrics import accuracy_score, precision_score, recall_score\n",
        "\n",
        "# Sample data (replace with your actual data)\n",
        "data = {'y_true': [0, 1, 2, 1, 0],\n",
        "        'y_pred': [0, 2, 1, 1, 0]}\n",
        "df_digits = pd.DataFrame(data)\n",
        "\n",
        "# Calculate metrics\n",
        "accuracy = accuracy_score(df_digits['y_true'], df_digits['y_pred'])\n",
        "precision = precision_score(df_digits['y_true'], df_digits['y_pred'], average='weighted')\n",
        "recall = recall_score(df_digits['y_true'], df_digits['y_pred'], average='weighted')\n",
        "\n",
        "# Print the results\n",
        "print(\"Accuracy:\", accuracy)\n",
        "print(\"Precision:\", precision)\n",
        "print(\"Recall:\", recall)"
      ],
      "metadata": {
        "id": "-DsUGFzsQRQ4"
      },
      "execution_count": null,
      "outputs": []
    },
    {
      "cell_type": "markdown",
      "source": [
        "g. Plote a matriz de confusão dos resultados da classificação dos dígitos de 0\n",
        "a 9 utilizando matplotlib ou seaborn."
      ],
      "metadata": {
        "id": "Sf5vkeeiQUId"
      }
    },
    {
      "cell_type": "code",
      "source": [
        "\n",
        "\n"
      ],
      "metadata": {
        "id": "563ogKkhQU9G"
      },
      "execution_count": null,
      "outputs": []
    }
  ]
}