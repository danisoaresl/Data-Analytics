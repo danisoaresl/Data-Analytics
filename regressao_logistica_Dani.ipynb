{
  "nbformat": 4,
  "nbformat_minor": 0,
  "metadata": {
    "colab": {
      "private_outputs": true,
      "provenance": [],
      "authorship_tag": "ABX9TyOQTi6jHkZOcLKiWgvn5ITc",
      "include_colab_link": true
    },
    "kernelspec": {
      "name": "python3",
      "display_name": "Python 3"
    },
    "language_info": {
      "name": "python"
    }
  },
  "cells": [
    {
      "cell_type": "markdown",
      "metadata": {
        "id": "view-in-github",
        "colab_type": "text"
      },
      "source": [
        "<a href=\"https://colab.research.google.com/github/danisoaresl/Data-Analytics/blob/main/regressao_logistica_Dani.ipynb\" target=\"_parent\"><img src=\"https://colab.research.google.com/assets/colab-badge.svg\" alt=\"Open In Colab\"/></a>"
      ]
    },
    {
      "cell_type": "markdown",
      "source": [
        "Modelos de Classificação e Regressão\n",
        "\n",
        "Logística\n",
        "\n",
        "Desafio Final\n",
        "\n",
        "1. Utilizando o data set iris (iris.csv em anexo ou usandoo sklearn):\n",
        "\n",
        "Exemplo de como fazer a importação do dataset usando o sklearn\n",
        "\n",
        "from sklearn import datasets\n",
        "iris = datasets.load_iris()\n",
        "\n",
        "Responda:"
      ],
      "metadata": {
        "id": "AdLq-_351lZg"
      }
    },
    {
      "cell_type": "markdown",
      "source": [
        "a. Faça uma análise inicial sobre esse dataset"
      ],
      "metadata": {
        "id": "Fd2FRyky1oqw"
      }
    },
    {
      "cell_type": "code",
      "execution_count": null,
      "metadata": {
        "id": "1JFqn9vuz3N6"
      },
      "outputs": [],
      "source": [
        "# Import libraries for data manipulation and visualization\n",
        "from sklearn import datasets\n",
        "import pandas as pd\n",
        "import seaborn as sns\n",
        "import matplotlib.pyplot as plt\n",
        "\n",
        "#carregar os dados\n",
        "file_path = '/content/drive/MyDrive/regressao-logistica/iris.csv'\n",
        "\n",
        "# Load the Iris dataset from sklearn\n",
        "iris = datasets.load_iris()\n",
        "\n",
        "# Create a Pandas DataFrame from the Iris data\n",
        "df_iris = pd.DataFrame(iris.data, columns=iris.feature_names)\n",
        "\n",
        "# Add target column with class labels\n",
        "df_iris['target'] = iris.target\n",
        "\n",
        "# Add target names column with human-readable class names\n",
        "df_iris['target_names'] = iris.target_names[iris.target]\n",
        "\n",
        "# Print the first few rows of the DataFrame\n",
        "print(df_iris.head())\n",
        "\n",
        "# Print descriptive statistics for numeric columns\n",
        "print(df_iris.describe())\n",
        "\n",
        "# Count the number of samples in each class\n",
        "print(df_iris['target_names'].value_counts())\n",
        "\n",
        "# Create a pairplot to visualize relationships between features (colored by class)\n",
        "sns.pairplot(df_iris, hue='target_names')\n",
        "plt.show()"
      ]
    },
    {
      "cell_type": "markdown",
      "source": [
        "b. Use o boxplot e o histograma para caracterizar as propriedades\n",
        "de cada uma das espécies existentes."
      ],
      "metadata": {
        "id": "LdVS2-Io1mQF"
      }
    },
    {
      "cell_type": "code",
      "source": [
        "print(df_iris.columns)"
      ],
      "metadata": {
        "id": "eF8ZUgFOA2Q6"
      },
      "execution_count": null,
      "outputs": []
    },
    {
      "cell_type": "code",
      "source": [
        "for col in df_iris.columns:\n",
        "    if 'sepal' in col.lower():  # Check for 'sepal' (case-insensitive)\n",
        "        sepal_length_col = col  # Store the column name\n",
        "        break  # Exit loop once found\n",
        "\n",
        "sns.boxplot(x='target_names', y=sepal_length_col, data=df_iris)  # Use the extracted name"
      ],
      "metadata": {
        "id": "vMjRUCDh1oGz"
      },
      "execution_count": null,
      "outputs": []
    },
    {
      "cell_type": "code",
      "source": [
        "import seaborn as sns\n",
        "import matplotlib.pyplot as plt\n",
        "\n",
        "# Find the column for petal length\n",
        "petal_length_col = None\n",
        "for col in df_iris.columns:\n",
        "    if 'petal' in col.lower() and 'length' in col.lower():\n",
        "        petal_length_col = col\n",
        "        break\n",
        "\n",
        "# Create the histogram\n",
        "sns.histplot(data=df_iris, x=petal_length_col, hue='target_names', multiple='stack')\n",
        "plt.title('Distribuição do Comprimento da Pétala por Espécie')\n",
        "plt.show()"
      ],
      "metadata": {
        "id": "144q3xVI1nPc"
      },
      "execution_count": null,
      "outputs": []
    },
    {
      "cell_type": "markdown",
      "source": [
        "c. Somente olhando esses gráficos, é possível afirmar que uma ou mais\n",
        "propriedades (Sepal_Length, Sepal_Width, Petal_Length, Petal_Width)\n",
        "são suficientes para distinguir as espécies?"
      ],
      "metadata": {
        "id": "HdMGad4m1nj1"
      }
    },
    {
      "cell_type": "code",
      "source": [
        "df_iris.describe()"
      ],
      "metadata": {
        "id": "hRbVel3tDezo"
      },
      "execution_count": null,
      "outputs": []
    },
    {
      "cell_type": "code",
      "source": [
        "# Calculando a média de uma lista de números\n",
        "def calcular_media(numeros):\n",
        "    return sum(numeros) / len(numeros)\n",
        "\n",
        "# Exemplo de uso:\n",
        "lista_numeros = [1, 2, 3, 4, 5]\n",
        "media = calcular_media(lista_numeros)\n",
        "print(\"A média é:\", media)"
      ],
      "metadata": {
        "id": "y-HGIFgGAGan"
      },
      "execution_count": null,
      "outputs": []
    },
    {
      "cell_type": "markdown",
      "source": [],
      "metadata": {
        "id": "zQR9ihWb1r_u"
      }
    },
    {
      "cell_type": "code",
      "source": [
        "# ... (your existing code up to df creation)\n",
        "\n",
        "# Feature for ANOVA test (replace 'sepal_length' if needed)\n",
        "feature_to_test = 'sepal length (cm)'\n",
        "\n",
        "# Separate data for each species based on target column\n",
        "setosa_data = df_iris[df_iris['target'] == 0][feature_to_test]\n",
        "versicolor_data = df_iris[df_iris['target'] == 1][feature_to_test]\n",
        "virginica_data = df_iris[df_iris['target'] == 2][feature_to_test]\n",
        "\n",
        "# Perform one-way ANOVA using SciPy stats\n",
        "from scipy import stats\n",
        "\n",
        "f_statistic, p_value = stats.f_oneway(setosa_data, versicolor_data, virginica_data)\n",
        "\n",
        "# Print ANOVA results\n",
        "print(f\"ANOVA for {feature_to_test}:\")\n",
        "print(f\"  F-statistic: {f_statistic}\")\n",
        "print(f\"  p-value: {p_value}\")\n",
        "\n",
        "# Interpret the results:\n",
        "# - A low p-value (typically < 0.05) suggests statistically significant differences in mean {feature_to_test} across species."
      ],
      "metadata": {
        "id": "UZO0NTJC1u6C"
      },
      "execution_count": null,
      "outputs": []
    },
    {
      "cell_type": "markdown",
      "source": [
        "d. Aplique a regressão logística para avaliar o modelo de\n",
        "classificação."
      ],
      "metadata": {
        "id": "4NO0jDhurgVO"
      }
    },
    {
      "cell_type": "code",
      "source": [
        "print(X.dtypes)"
      ],
      "metadata": {
        "id": "Qp4c3R3n0IHs"
      },
      "execution_count": null,
      "outputs": []
    },
    {
      "cell_type": "code",
      "source": [
        "import pandas as pd\n",
        "from sklearn import datasets\n",
        "from sklearn.model_selection import train_test_split\n",
        "from sklearn.linear_model import LogisticRegression\n",
        "from sklearn.metrics import accuracy_score, confusion_matrix\n",
        "\n",
        "# Load the Iris dataset\n",
        "iris = datasets.load_iris()\n",
        "\n",
        "# Create a DataFrame from the Iris data\n",
        "df_original = pd.DataFrame(iris.data, columns=iris.feature_names)\n",
        "df_original['target'] = iris.target\n",
        "df_original['target_names'] = iris.target_names[iris.target]\n",
        "\n",
        "# Create a copy of the DataFrame for working\n",
        "df_iris = df_original.copy()\n",
        "\n",
        "# Separate features (X) and target variable (y)\n",
        "X = df_iris.drop(['target', 'target_names'], axis=1)\n",
        "y = df_iris['target']\n",
        "\n",
        "# Divide the data into training and testing sets\n",
        "X_train, X_test, y_train, y_test = train_test_split(X, y, test_size=0.2, random_state=42)\n",
        "\n",
        "# Create and train a logistic regression model\n",
        "model = LogisticRegression()\n",
        "model.fit(X_train, y_train)\n",
        "\n",
        "# Make predictions on the testing set\n",
        "y_pred = model.predict(X_test)\n",
        "\n",
        "# Evaluate model performance\n",
        "accuracy = accuracy_score(y_test, y_pred)\n",
        "confusion_matrix = confusion_matrix(y_test, y_pred)\n",
        "\n",
        "print(\"Accuracy:\", accuracy)\n",
        "print(\"Confusion Matrix:\\n\", confusion_matrix)\n"
      ],
      "metadata": {
        "id": "UaVyEPA0ri9k"
      },
      "execution_count": null,
      "outputs": []
    },
    {
      "cell_type": "markdown",
      "source": [],
      "metadata": {
        "id": "CCG5a9TtrjfI"
      }
    },
    {
      "cell_type": "code",
      "source": [
        "import pandas as pd\n",
        "from sklearn.model_selection import train_test_split\n",
        "from sklearn.linear_model import LogisticRegression\n",
        "from sklearn.metrics import accuracy_score, confusion_matrix, classification_report\n",
        "\n",
        "# Carregar e preparar os dados (já realizado nos passos anteriores)\n",
        "\n",
        "# Dividir os dados em treinamento e teste\n",
        "X_train, X_test, y_train, y_test = train_test_split(X, y, test_size=0.2, random_state=42)\n",
        "\n",
        "# Criar e treinar o modelo\n",
        "model = LogisticRegression()\n",
        "model.fit(X_train, y_train)\n",
        "\n",
        "# Fazer previsões\n",
        "y_pred = model.predict(X_test)\n",
        "\n",
        "# Avaliar o modelo\n",
        "print(\"Accuracy:\", accuracy_score(y_test, y_pred))\n",
        "print(\"Confusion Matrix:\\n\", confusion_matrix(y_test, y_pred))\n",
        "print(\"Classification Report:\\n\", classification_report(y_test, y_pred))"
      ],
      "metadata": {
        "id": "yS6siTjcrjwI"
      },
      "execution_count": null,
      "outputs": []
    },
    {
      "cell_type": "markdown",
      "source": [
        "e. Calcule a acurácia, precisão e recall."
      ],
      "metadata": {
        "id": "VgjXYvIu3Xw1"
      }
    },
    {
      "cell_type": "code",
      "source": [
        "import pandas as pd\n",
        "from sklearn.model_selection import train_test_split\n",
        "from sklearn.linear_model import LogisticRegression\n",
        "from sklearn.metrics import accuracy_score, confusion_matrix, classification_report\n",
        "\n",
        "# ... (seu código existente)\n",
        "\n",
        "# Fazer previsões\n",
        "y_pred = model.predict(X_test)\n",
        "\n",
        "# Avaliar o modelo\n",
        "accuracy = accuracy_score(y_test, y_pred)\n",
        "confusion_matrix = confusion_matrix(y_test, y_pred)\n",
        "classification_report = classification_report(y_test, y_pred)\n",
        "\n",
        "# Imprimir resultados\n",
        "print(\"Acurácia:\", accuracy)\n",
        "print(\"Matriz de Confusão:\\n\", confusion_matrix)\n",
        "print(\"Relatório de Classificação:\\n\", classification_report)\n",
        "\n",
        "# Extrair precisão e recall médios ponderados\n",
        "from sklearn.metrics import precision_score, recall_score\n",
        "\n",
        "precision = precision_score(y_test, y_pred, average='weighted')\n",
        "recall = recall_score(y_test, y_pred, average='weighted')\n",
        "\n",
        "print(\"Precisão média ponderada:\", precision)\n",
        "print(\"Recall médio ponderado:\", recall)"
      ],
      "metadata": {
        "id": "Ap6IWCs2rkIg"
      },
      "execution_count": null,
      "outputs": []
    },
    {
      "cell_type": "markdown",
      "source": [
        "f. Plote a matriz de confusão com matplotlib ou seaborn."
      ],
      "metadata": {
        "id": "uXGHqGiQrkQP"
      }
    },
    {
      "cell_type": "code",
      "source": [],
      "metadata": {
        "id": "3qJGony7rkYH"
      },
      "execution_count": null,
      "outputs": []
    },
    {
      "cell_type": "markdown",
      "source": [],
      "metadata": {
        "id": "DMbOKQse5Dnm"
      }
    },
    {
      "cell_type": "code",
      "source": [],
      "metadata": {
        "id": "umj5MYSI5F_M"
      },
      "execution_count": null,
      "outputs": []
    },
    {
      "cell_type": "markdown",
      "source": [],
      "metadata": {
        "id": "PRP9SPzI5GcL"
      }
    },
    {
      "cell_type": "code",
      "source": [],
      "metadata": {
        "id": "TPuUOGMA5GmO"
      },
      "execution_count": null,
      "outputs": []
    }
  ]
}