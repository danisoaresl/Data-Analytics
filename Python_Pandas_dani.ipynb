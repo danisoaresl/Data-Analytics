{
  "nbformat": 4,
  "nbformat_minor": 0,
  "metadata": {
    "colab": {
      "private_outputs": true,
      "provenance": [],
      "include_colab_link": true
    },
    "kernelspec": {
      "name": "python3",
      "display_name": "Python 3"
    },
    "language_info": {
      "name": "python"
    }
  },
  "cells": [
    {
      "cell_type": "markdown",
      "metadata": {
        "id": "view-in-github",
        "colab_type": "text"
      },
      "source": [
        "<a href=\"https://colab.research.google.com/github/danisoaresl/Data-Analytics/blob/main/Python_Pandas_dani.ipynb\" target=\"_parent\"><img src=\"https://colab.research.google.com/assets/colab-badge.svg\" alt=\"Open In Colab\"/></a>"
      ]
    },
    {
      "cell_type": "markdown",
      "source": [
        "Python para Dados -"
      ],
      "metadata": {
        "id": "6cSOGJITrYPP"
      }
    },
    {
      "cell_type": "markdown",
      "source": [
        "Considerando a base de dados de saude_do_sono_estilo_vida.csv responda\n",
        "as questões abaixo."
      ],
      "metadata": {
        "id": "i6jPYSnJrTKe"
      }
    },
    {
      "cell_type": "markdown",
      "source": [
        "Você é uma pesquisadora que está tentando entender melhor qual o impacto\n",
        "do estilo de vida de uma pessoa na sua qualidade de sono, por isso fez a\n",
        "coleta dos dados de sobre 373 pessoas, onde foram recolhidas 12\n",
        "características para cada uma delas. Por competência a sua pesquisa foi bem\n",
        "controlada e você não tem dados faltosos na sua base. Chegou o momento\n",
        "de você fazer sua análise e responder algumas perguntas."
      ],
      "metadata": {
        "id": "FPe_P0NDrPp3"
      }
    },
    {
      "cell_type": "markdown",
      "source": [
        "1. Ao visualizar a base você percebeu que seria melhor alterar o nome de\n",
        "algumas colunas. Mude o ‘ID’ para ‘Identificador’, corrija o nome da\n",
        "coluna que indica a pressão sanguínea, mude a coluna ‘Ocupação’ para\n",
        "‘Profissão’, a coluna ‘Categoria BMI’ está em parte em inglês, substitua\n",
        "para ‘Categoria IMC’."
      ],
      "metadata": {
        "id": "deNN4qQRsDrX"
      }
    },
    {
      "cell_type": "code",
      "source": [
        "from google.colab import drive\n",
        "import pandas as pd\n",
        "import numpy as np\n"
      ],
      "metadata": {
        "id": "ryFSD3j4sFvu"
      },
      "execution_count": null,
      "outputs": []
    },
    {
      "cell_type": "code",
      "source": [
        "#montar o Google Drive\n",
        "drive.mount('/content/drive')\n",
        "\n",
        "#defina o caminho completo do arquivo no Google Drive\n",
        "file_path = '/content/drive/MyDrive/saude_do_sono_estilo_vida.csv'\n",
        "\n",
        "#carregar o CSV diretamente do Google Drive\n",
        "df = pd.read_csv(file_path)\n",
        "\n",
        "# Crie uma cópia do DataFrame\n",
        "df_copia = df.copy()"
      ],
      "metadata": {
        "id": "n1WGthNisGON"
      },
      "execution_count": null,
      "outputs": []
    },
    {
      "cell_type": "code",
      "source": [
        "#verifique as primeiras linhas de cada DataFrame\n",
        "print(\"DataFrame original:\")\n",
        "print(df.head())\n",
        "\n",
        "print(\"\\nDataFrame copia:\")\n",
        "print(df_copia.head())\n"
      ],
      "metadata": {
        "id": "bfYFdw-t0OvI"
      },
      "execution_count": null,
      "outputs": []
    },
    {
      "cell_type": "code",
      "source": [
        "#renomear as colunas conforme solicitado\n",
        "df_copia.rename(columns={\n",
        "    'ID': 'Identificador',\n",
        "    'Pressão sanguíneaaaa': 'Pressão Sanguínea',\n",
        "    'Ocupação': 'Profissão',\n",
        "    'Categoria BMI': 'Categoria IMC'\n",
        "}, inplace=True)\n",
        "\n",
        "#exibir o DataFrame atualizado\n",
        "print(df_copia.head())\n"
      ],
      "metadata": {
        "id": "KlNcCIzixa-5"
      },
      "execution_count": null,
      "outputs": []
    },
    {
      "cell_type": "markdown",
      "source": [
        "2. Qual é a média, a moda e a mediana de horas de sono para cada uma\n",
        "das profissões? [‘mean’, np.median, pd.Series.mod]"
      ],
      "metadata": {
        "id": "HSGUaMu0sEb7"
      }
    },
    {
      "cell_type": "code",
      "source": [
        "#agrupar por 'Profissão' e calcular média, mediana e moda\n",
        "resultados = df_copia.groupby('Profissão')['Duração do sono'].agg(\n",
        "    Média='mean',\n",
        "    Mediana=np.median,\n",
        "    Moda=lambda x: pd.Series.mode(x).iloc[0]  #pega a primeira moda\n",
        ")\n",
        "\n",
        "#exibir os resultados\n",
        "print(resultados)\n"
      ],
      "metadata": {
        "id": "lo0IAMvJsGHf"
      },
      "execution_count": null,
      "outputs": []
    },
    {
      "cell_type": "markdown",
      "source": [
        "3. Das pessoas que atuam com engenharia de software qual a\n",
        "porcentagem de obesos?"
      ],
      "metadata": {
        "id": "PSAEsSj3sEG4"
      }
    },
    {
      "cell_type": "code",
      "source": [
        "#filtrando os engenheiros de software\n",
        "engenheiros_software = df_copia[df_copia['Profissão'] == 'Eng. de Software']\n",
        "\n",
        "#contando o total de engenheiros de software\n",
        "total_engenheiros = engenheiros_software.shape[0]\n",
        "\n",
        "#contando o número de engenheiros de software obesos\n",
        "obesos = engenheiros_software[engenheiros_software['Categoria IMC'] == 'Obesidade'].shape[0]\n",
        "\n",
        "#calculando a porcentagem de obesos\n",
        "porcentagem_obesos = (obesos / total_engenheiros) * 100 if total_engenheiros > 0 else 0\n",
        "\n",
        "print(f\"A porcentagem de engenheiros de software obesos é: {porcentagem_obesos:.2f}%\")\n"
      ],
      "metadata": {
        "id": "f8lNfUD0uDB4"
      },
      "execution_count": null,
      "outputs": []
    },
    {
      "cell_type": "markdown",
      "source": [
        "4. De acordo com os dados, advogar ou ser representante de vendas faz\n",
        "você dormir menos? (Use o método ‘isin’, considere a média)"
      ],
      "metadata": {
        "id": "kohptMQMsERf"
      }
    },
    {
      "cell_type": "code",
      "source": [
        "#calcular a média de horas de sono para advogados e representantes de vendas\n",
        "profissoes_interesse = ['Advogado(a)', 'Representante de Vendas']\n",
        "media_sono_profissoes = df_copia[df_copia['Profissão'].isin(profissoes_interesse)]['Duração do sono'].mean()\n",
        "\n",
        "#calcular a média de horas de sono para todas as profissões\n",
        "media_sono_total = df_copia['Duração do sono'].mean()\n",
        "\n",
        "print(f\"Média de horas de sono para advogados e representantes de vendas: {media_sono_profissoes:.2f} horas\")\n",
        "print(f\"Média de horas de sono para todas as profissões: {media_sono_total:.2f} horas\")\n"
      ],
      "metadata": {
        "id": "8FIgm5jfsGRo"
      },
      "execution_count": null,
      "outputs": []
    },
    {
      "cell_type": "markdown",
      "source": [
        "5. Entre quem fez enfermagem e quem fez medicina, quem tem menos\n",
        "horas de sono? (Use o método ‘isin’, considere a média)"
      ],
      "metadata": {
        "id": "n1sEz5TqsElS"
      }
    },
    {
      "cell_type": "code",
      "source": [
        "#calcular a média de horas de sono para enfermagem e medicina\n",
        "profissoes_interesse = ['Enfermeiro(a)', 'Médico(a)']\n",
        "media_sono_profissoes = df_copia[df_copia['Profissão'].isin(profissoes_interesse)].groupby('Profissão')['Duração do sono'].mean()\n",
        "\n",
        "#exibir os resultados\n",
        "print(media_sono_profissoes)\n"
      ],
      "metadata": {
        "id": "XqzD0fTZsGVn"
      },
      "execution_count": null,
      "outputs": []
    },
    {
      "cell_type": "markdown",
      "source": [
        "6. Faça um subconjunto com as colunas Identificador, Gênero, Idade,\n",
        "Pressão sanguínea e Frequência cardíaca."
      ],
      "metadata": {
        "id": "AaSyy1z5sEtq"
      }
    },
    {
      "cell_type": "code",
      "source": [
        "#exibir os nomes das colunas do DataFrame\n",
        "print(df_copia.columns)\n"
      ],
      "metadata": {
        "id": "aCYy2teF5CJl"
      },
      "execution_count": null,
      "outputs": []
    },
    {
      "cell_type": "code",
      "source": [
        "#criar um subconjunto do DataFrame com as colunas desejadas\n",
        "subconjunto = df_copia[['Identificador', 'Gênero', 'Idade', 'Pressão Sanguínea', 'Frequência cardíaca']]\n",
        "\n",
        "#exibir o subconjunto\n",
        "print(subconjunto)\n",
        "\n"
      ],
      "metadata": {
        "id": "lRt9ysbcsGZL"
      },
      "execution_count": null,
      "outputs": []
    },
    {
      "cell_type": "markdown",
      "source": [
        "7. Descubra qual a profissão menos frequente no conjunto. (Use\n",
        "value_counts)"
      ],
      "metadata": {
        "id": "Fu6zxrkrsE11"
      }
    },
    {
      "cell_type": "code",
      "source": [
        "#contar a frequência de cada profissão\n",
        "frequencias_profissoes = df_copia['Profissão'].value_counts()\n",
        "\n",
        "#encontrar a profissão menos frequente\n",
        "profissao_menos_frequente = frequencias_profissoes.idxmin()\n",
        "quantidade_menos_frequente = frequencias_profissoes.min()\n",
        "\n",
        "#exibir o resultado\n",
        "print(f'A profissão menos frequente é: {profissao_menos_frequente} com {quantidade_menos_frequente} ocorrências.')\n"
      ],
      "metadata": {
        "id": "yxBDwj5gsGcS"
      },
      "execution_count": null,
      "outputs": []
    },
    {
      "cell_type": "markdown",
      "source": [
        "8. Quem tem maior pressão sanguínea média, homens ou mulheres?\n",
        "(Considere a média)\n",
        "\n",
        " As mulheres têm uma pressão sanguínea média maior do que os homens de acordo com os dados analisados."
      ],
      "metadata": {
        "id": "d8psyo30sE-L"
      }
    },
    {
      "cell_type": "code",
      "source": [
        "#exemplo de DataFrame\n",
        "data = {\n",
        "    'Identificador': [1, 2, 3, 4, 5],\n",
        "    'Gênero': ['Homem', 'Homem', 'Mulher', 'Mulher', 'Homem'],\n",
        "    'Pressão Sanguínea': ['126/83', '125/80', '140/90', '130/85', '135/90']\n",
        "}\n",
        "\n",
        "df = pd.DataFrame(data)\n",
        "\n",
        "#converter a coluna 'Pressão Sanguínea' em duas colunas de pressão sistólica e diastólica\n",
        "df[['Sistólica', 'Diastólica']] = df['Pressão Sanguínea'].str.split('/', expand=True).astype(int)\n",
        "\n",
        "#calcular a pressão sanguínea média como a média das duas pressões\n",
        "df['Pressão Média'] = (df['Sistólica'] + df['Diastólica']) / 2\n",
        "\n",
        "#calcular a pressão média por gênero\n",
        "media_pressao = df.groupby('Gênero')['Pressão Média'].mean()\n",
        "\n",
        "#exibir os resultados\n",
        "print(media_pressao)\n"
      ],
      "metadata": {
        "id": "x84IvUTzsGfh"
      },
      "execution_count": null,
      "outputs": []
    },
    {
      "cell_type": "markdown",
      "source": [
        "9. É predominante entre os participantes dormir 8 horas por dia\n",
        "(considere usar Moda como medida)?"
      ],
      "metadata": {
        "id": "cKAmndkJsFHf"
      }
    },
    {
      "cell_type": "code",
      "source": [
        "#calcular a moda da coluna 'Duração do sono'\n",
        "moda_duracao_sono = df_copia['Duração do sono'].mode()\n",
        "\n",
        "#verificar se 8 horas é a moda\n",
        "eh_predominante = 8 in moda_duracao_sono.values\n",
        "\n",
        "#exibir resultados\n",
        "print(f\"A moda da duração do sono é: {moda_duracao_sono.values}\")\n",
        "print(f\"É predominante entre os participantes dormir 8 horas por dia? {'Sim' if eh_predominante else 'Não'}\")\n"
      ],
      "metadata": {
        "id": "sxff6qLusGii"
      },
      "execution_count": null,
      "outputs": []
    },
    {
      "cell_type": "markdown",
      "source": [
        "10. Pessoas com frequências cardíacas acima de 70 dão mais passos que\n",
        "pessoas com frequência cardíaca menor ou igual a 70? (Use a média)"
      ],
      "metadata": {
        "id": "oOAg6UvrsFQI"
      }
    },
    {
      "cell_type": "code",
      "source": [
        "#criar dois grupos com base na frequência cardíaca\n",
        "grupo_acima_70 = df_copia[df_copia['Frequência cardíaca'] > 70]['Passos diários']\n",
        "grupo_menor_ou_igual_70 = df_copia[df_copia['Frequência cardíaca'] <= 70]['Passos diários']\n",
        "\n",
        "#calcular a média de passos para cada grupo\n",
        "media_acima_70 = grupo_acima_70.mean()\n",
        "media_menor_ou_igual_70 = grupo_menor_ou_igual_70.mean()\n",
        "\n",
        "#exibir os resultados\n",
        "print(f\"Média de passos para pessoas com frequência cardíaca acima de 70: {media_acima_70:.2f}\")\n",
        "print(f\"Média de passos para pessoas com frequência cardíaca menor ou igual a 70: {media_menor_ou_igual_70:.2f}\")\n",
        "\n",
        "#comparação\n",
        "if media_acima_70 > media_menor_ou_igual_70:\n",
        "    print(\"Pessoas com frequências cardíacas acima de 70 dão mais passos.\")\n",
        "else:\n",
        "    print(\"Pessoas com frequências cardíacas menores ou iguais a 70 dão mais passos ou a média é a mesma.\")\n"
      ],
      "metadata": {
        "id": "OQzGuawGXkHT"
      },
      "execution_count": null,
      "outputs": []
    }
  ]
}